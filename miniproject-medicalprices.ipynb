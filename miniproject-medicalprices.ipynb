{
 "cells": [
  {
   "cell_type": "code",
   "execution_count": 1,
   "id": "5b34dd98",
   "metadata": {
    "_cell_guid": "b1076dfc-b9ad-4769-8c92-a6c4dae69d19",
    "_uuid": "8f2839f25d086af736a60e9eeb907d3b93b6e0e5",
    "execution": {
     "iopub.execute_input": "2023-11-09T17:41:15.430885Z",
     "iopub.status.busy": "2023-11-09T17:41:15.430493Z",
     "iopub.status.idle": "2023-11-09T17:41:15.806378Z",
     "shell.execute_reply": "2023-11-09T17:41:15.805225Z"
    },
    "papermill": {
     "duration": 0.394646,
     "end_time": "2023-11-09T17:41:15.809173",
     "exception": false,
     "start_time": "2023-11-09T17:41:15.414527",
     "status": "completed"
    },
    "tags": []
   },
   "outputs": [
    {
     "name": "stdout",
     "output_type": "stream",
     "text": [
      "/kaggle/input/insurance/insurance.csv\n"
     ]
    }
   ],
   "source": [
    "# This Python 3 environment comes with many helpful analytics libraries installed\n",
    "# It is defined by the kaggle/python Docker image: https://github.com/kaggle/docker-python\n",
    "# For example, here's several helpful packages to load\n",
    "\n",
    "import numpy as np # linear algebra\n",
    "import pandas as pd # data processing, CSV file I/O (e.g. pd.read_csv)\n",
    "\n",
    "# Input data files are available in the read-only \"../input/\" directory\n",
    "# For example, running this (by clicking run or pressing Shift+Enter) will list all files under the input directory\n",
    "\n",
    "import os\n",
    "for dirname, _, filenames in os.walk('/kaggle/input'):\n",
    "    for filename in filenames:\n",
    "        print(os.path.join(dirname, filename))\n",
    "\n",
    "# You can write up to 20GB to the current directory (/kaggle/working/) that gets preserved as output when you create a version using \"Save & Run All\" \n",
    "# You can also write temporary files to /kaggle/temp/, but they won't be saved outside of the current session"
   ]
  },
  {
   "cell_type": "code",
   "execution_count": 2,
   "id": "0a59ee8d",
   "metadata": {
    "execution": {
     "iopub.execute_input": "2023-11-09T17:41:15.838708Z",
     "iopub.status.busy": "2023-11-09T17:41:15.838226Z",
     "iopub.status.idle": "2023-11-09T17:41:18.020442Z",
     "shell.execute_reply": "2023-11-09T17:41:18.019228Z"
    },
    "papermill": {
     "duration": 2.199813,
     "end_time": "2023-11-09T17:41:18.023023",
     "exception": false,
     "start_time": "2023-11-09T17:41:15.823210",
     "status": "completed"
    },
    "tags": []
   },
   "outputs": [],
   "source": [
    "import numpy as np\n",
    "import pandas as pd\n",
    "import matplotlib.pyplot as plt\n",
    "import seaborn as sns\n",
    "from sklearn.model_selection import train_test_split\n",
    "from sklearn.linear_model import LinearRegression\n",
    "from sklearn import metrics"
   ]
  },
  {
   "cell_type": "code",
   "execution_count": 3,
   "id": "948d5a4e",
   "metadata": {
    "execution": {
     "iopub.execute_input": "2023-11-09T17:41:18.053822Z",
     "iopub.status.busy": "2023-11-09T17:41:18.052520Z",
     "iopub.status.idle": "2023-11-09T17:41:18.077123Z",
     "shell.execute_reply": "2023-11-09T17:41:18.075513Z"
    },
    "papermill": {
     "duration": 0.042138,
     "end_time": "2023-11-09T17:41:18.079753",
     "exception": false,
     "start_time": "2023-11-09T17:41:18.037615",
     "status": "completed"
    },
    "tags": []
   },
   "outputs": [],
   "source": [
    "ds=pd.read_csv('/kaggle/input/insurance/insurance.csv')"
   ]
  },
  {
   "cell_type": "code",
   "execution_count": 4,
   "id": "179bdcb1",
   "metadata": {
    "execution": {
     "iopub.execute_input": "2023-11-09T17:41:18.109997Z",
     "iopub.status.busy": "2023-11-09T17:41:18.109271Z",
     "iopub.status.idle": "2023-11-09T17:41:18.142711Z",
     "shell.execute_reply": "2023-11-09T17:41:18.141130Z"
    },
    "papermill": {
     "duration": 0.051457,
     "end_time": "2023-11-09T17:41:18.145367",
     "exception": false,
     "start_time": "2023-11-09T17:41:18.093910",
     "status": "completed"
    },
    "tags": []
   },
   "outputs": [
    {
     "data": {
      "text/html": [
       "<div>\n",
       "<style scoped>\n",
       "    .dataframe tbody tr th:only-of-type {\n",
       "        vertical-align: middle;\n",
       "    }\n",
       "\n",
       "    .dataframe tbody tr th {\n",
       "        vertical-align: top;\n",
       "    }\n",
       "\n",
       "    .dataframe thead th {\n",
       "        text-align: right;\n",
       "    }\n",
       "</style>\n",
       "<table border=\"1\" class=\"dataframe\">\n",
       "  <thead>\n",
       "    <tr style=\"text-align: right;\">\n",
       "      <th></th>\n",
       "      <th>age</th>\n",
       "      <th>sex</th>\n",
       "      <th>bmi</th>\n",
       "      <th>children</th>\n",
       "      <th>smoker</th>\n",
       "      <th>region</th>\n",
       "      <th>charges</th>\n",
       "    </tr>\n",
       "  </thead>\n",
       "  <tbody>\n",
       "    <tr>\n",
       "      <th>0</th>\n",
       "      <td>19</td>\n",
       "      <td>female</td>\n",
       "      <td>27.900</td>\n",
       "      <td>0</td>\n",
       "      <td>yes</td>\n",
       "      <td>southwest</td>\n",
       "      <td>16884.92400</td>\n",
       "    </tr>\n",
       "    <tr>\n",
       "      <th>1</th>\n",
       "      <td>18</td>\n",
       "      <td>male</td>\n",
       "      <td>33.770</td>\n",
       "      <td>1</td>\n",
       "      <td>no</td>\n",
       "      <td>southeast</td>\n",
       "      <td>1725.55230</td>\n",
       "    </tr>\n",
       "    <tr>\n",
       "      <th>2</th>\n",
       "      <td>28</td>\n",
       "      <td>male</td>\n",
       "      <td>33.000</td>\n",
       "      <td>3</td>\n",
       "      <td>no</td>\n",
       "      <td>southeast</td>\n",
       "      <td>4449.46200</td>\n",
       "    </tr>\n",
       "    <tr>\n",
       "      <th>3</th>\n",
       "      <td>33</td>\n",
       "      <td>male</td>\n",
       "      <td>22.705</td>\n",
       "      <td>0</td>\n",
       "      <td>no</td>\n",
       "      <td>northwest</td>\n",
       "      <td>21984.47061</td>\n",
       "    </tr>\n",
       "    <tr>\n",
       "      <th>4</th>\n",
       "      <td>32</td>\n",
       "      <td>male</td>\n",
       "      <td>28.880</td>\n",
       "      <td>0</td>\n",
       "      <td>no</td>\n",
       "      <td>northwest</td>\n",
       "      <td>3866.85520</td>\n",
       "    </tr>\n",
       "  </tbody>\n",
       "</table>\n",
       "</div>"
      ],
      "text/plain": [
       "   age     sex     bmi  children smoker     region      charges\n",
       "0   19  female  27.900         0    yes  southwest  16884.92400\n",
       "1   18    male  33.770         1     no  southeast   1725.55230\n",
       "2   28    male  33.000         3     no  southeast   4449.46200\n",
       "3   33    male  22.705         0     no  northwest  21984.47061\n",
       "4   32    male  28.880         0     no  northwest   3866.85520"
      ]
     },
     "execution_count": 4,
     "metadata": {},
     "output_type": "execute_result"
    }
   ],
   "source": [
    "ds.head()"
   ]
  },
  {
   "cell_type": "code",
   "execution_count": 5,
   "id": "2bd2a9b5",
   "metadata": {
    "execution": {
     "iopub.execute_input": "2023-11-09T17:41:18.175365Z",
     "iopub.status.busy": "2023-11-09T17:41:18.174882Z",
     "iopub.status.idle": "2023-11-09T17:41:18.181616Z",
     "shell.execute_reply": "2023-11-09T17:41:18.180504Z"
    },
    "papermill": {
     "duration": 0.024478,
     "end_time": "2023-11-09T17:41:18.183885",
     "exception": false,
     "start_time": "2023-11-09T17:41:18.159407",
     "status": "completed"
    },
    "tags": []
   },
   "outputs": [
    {
     "data": {
      "text/plain": [
       "(1338, 7)"
      ]
     },
     "execution_count": 5,
     "metadata": {},
     "output_type": "execute_result"
    }
   ],
   "source": [
    "ds.shape"
   ]
  },
  {
   "cell_type": "code",
   "execution_count": 6,
   "id": "471fd6b5",
   "metadata": {
    "execution": {
     "iopub.execute_input": "2023-11-09T17:41:18.214625Z",
     "iopub.status.busy": "2023-11-09T17:41:18.214248Z",
     "iopub.status.idle": "2023-11-09T17:41:18.250402Z",
     "shell.execute_reply": "2023-11-09T17:41:18.248809Z"
    },
    "papermill": {
     "duration": 0.054512,
     "end_time": "2023-11-09T17:41:18.252858",
     "exception": false,
     "start_time": "2023-11-09T17:41:18.198346",
     "status": "completed"
    },
    "tags": []
   },
   "outputs": [
    {
     "name": "stdout",
     "output_type": "stream",
     "text": [
      "<class 'pandas.core.frame.DataFrame'>\n",
      "RangeIndex: 1338 entries, 0 to 1337\n",
      "Data columns (total 7 columns):\n",
      " #   Column    Non-Null Count  Dtype  \n",
      "---  ------    --------------  -----  \n",
      " 0   age       1338 non-null   int64  \n",
      " 1   sex       1338 non-null   object \n",
      " 2   bmi       1338 non-null   float64\n",
      " 3   children  1338 non-null   int64  \n",
      " 4   smoker    1338 non-null   object \n",
      " 5   region    1338 non-null   object \n",
      " 6   charges   1338 non-null   float64\n",
      "dtypes: float64(2), int64(2), object(3)\n",
      "memory usage: 73.3+ KB\n"
     ]
    }
   ],
   "source": [
    "ds.info()"
   ]
  },
  {
   "cell_type": "code",
   "execution_count": 7,
   "id": "53534491",
   "metadata": {
    "execution": {
     "iopub.execute_input": "2023-11-09T17:41:18.282859Z",
     "iopub.status.busy": "2023-11-09T17:41:18.282479Z",
     "iopub.status.idle": "2023-11-09T17:41:18.291299Z",
     "shell.execute_reply": "2023-11-09T17:41:18.290153Z"
    },
    "papermill": {
     "duration": 0.026578,
     "end_time": "2023-11-09T17:41:18.293709",
     "exception": false,
     "start_time": "2023-11-09T17:41:18.267131",
     "status": "completed"
    },
    "tags": []
   },
   "outputs": [
    {
     "data": {
      "text/plain": [
       "age         0\n",
       "sex         0\n",
       "bmi         0\n",
       "children    0\n",
       "smoker      0\n",
       "region      0\n",
       "charges     0\n",
       "dtype: int64"
      ]
     },
     "execution_count": 7,
     "metadata": {},
     "output_type": "execute_result"
    }
   ],
   "source": [
    "ds.isnull().sum()"
   ]
  },
  {
   "cell_type": "code",
   "execution_count": 8,
   "id": "be83e93b",
   "metadata": {
    "execution": {
     "iopub.execute_input": "2023-11-09T17:41:18.323996Z",
     "iopub.status.busy": "2023-11-09T17:41:18.323597Z",
     "iopub.status.idle": "2023-11-09T17:41:18.347465Z",
     "shell.execute_reply": "2023-11-09T17:41:18.346628Z"
    },
    "papermill": {
     "duration": 0.041431,
     "end_time": "2023-11-09T17:41:18.349555",
     "exception": false,
     "start_time": "2023-11-09T17:41:18.308124",
     "status": "completed"
    },
    "tags": []
   },
   "outputs": [
    {
     "data": {
      "text/html": [
       "<div>\n",
       "<style scoped>\n",
       "    .dataframe tbody tr th:only-of-type {\n",
       "        vertical-align: middle;\n",
       "    }\n",
       "\n",
       "    .dataframe tbody tr th {\n",
       "        vertical-align: top;\n",
       "    }\n",
       "\n",
       "    .dataframe thead th {\n",
       "        text-align: right;\n",
       "    }\n",
       "</style>\n",
       "<table border=\"1\" class=\"dataframe\">\n",
       "  <thead>\n",
       "    <tr style=\"text-align: right;\">\n",
       "      <th></th>\n",
       "      <th>age</th>\n",
       "      <th>bmi</th>\n",
       "      <th>children</th>\n",
       "      <th>charges</th>\n",
       "    </tr>\n",
       "  </thead>\n",
       "  <tbody>\n",
       "    <tr>\n",
       "      <th>count</th>\n",
       "      <td>1338.000000</td>\n",
       "      <td>1338.000000</td>\n",
       "      <td>1338.000000</td>\n",
       "      <td>1338.000000</td>\n",
       "    </tr>\n",
       "    <tr>\n",
       "      <th>mean</th>\n",
       "      <td>39.207025</td>\n",
       "      <td>30.663397</td>\n",
       "      <td>1.094918</td>\n",
       "      <td>13270.422265</td>\n",
       "    </tr>\n",
       "    <tr>\n",
       "      <th>std</th>\n",
       "      <td>14.049960</td>\n",
       "      <td>6.098187</td>\n",
       "      <td>1.205493</td>\n",
       "      <td>12110.011237</td>\n",
       "    </tr>\n",
       "    <tr>\n",
       "      <th>min</th>\n",
       "      <td>18.000000</td>\n",
       "      <td>15.960000</td>\n",
       "      <td>0.000000</td>\n",
       "      <td>1121.873900</td>\n",
       "    </tr>\n",
       "    <tr>\n",
       "      <th>25%</th>\n",
       "      <td>27.000000</td>\n",
       "      <td>26.296250</td>\n",
       "      <td>0.000000</td>\n",
       "      <td>4740.287150</td>\n",
       "    </tr>\n",
       "    <tr>\n",
       "      <th>50%</th>\n",
       "      <td>39.000000</td>\n",
       "      <td>30.400000</td>\n",
       "      <td>1.000000</td>\n",
       "      <td>9382.033000</td>\n",
       "    </tr>\n",
       "    <tr>\n",
       "      <th>75%</th>\n",
       "      <td>51.000000</td>\n",
       "      <td>34.693750</td>\n",
       "      <td>2.000000</td>\n",
       "      <td>16639.912515</td>\n",
       "    </tr>\n",
       "    <tr>\n",
       "      <th>max</th>\n",
       "      <td>64.000000</td>\n",
       "      <td>53.130000</td>\n",
       "      <td>5.000000</td>\n",
       "      <td>63770.428010</td>\n",
       "    </tr>\n",
       "  </tbody>\n",
       "</table>\n",
       "</div>"
      ],
      "text/plain": [
       "               age          bmi     children       charges\n",
       "count  1338.000000  1338.000000  1338.000000   1338.000000\n",
       "mean     39.207025    30.663397     1.094918  13270.422265\n",
       "std      14.049960     6.098187     1.205493  12110.011237\n",
       "min      18.000000    15.960000     0.000000   1121.873900\n",
       "25%      27.000000    26.296250     0.000000   4740.287150\n",
       "50%      39.000000    30.400000     1.000000   9382.033000\n",
       "75%      51.000000    34.693750     2.000000  16639.912515\n",
       "max      64.000000    53.130000     5.000000  63770.428010"
      ]
     },
     "execution_count": 8,
     "metadata": {},
     "output_type": "execute_result"
    }
   ],
   "source": [
    "ds.describe()"
   ]
  },
  {
   "cell_type": "code",
   "execution_count": 9,
   "id": "93357947",
   "metadata": {
    "execution": {
     "iopub.execute_input": "2023-11-09T17:41:18.380726Z",
     "iopub.status.busy": "2023-11-09T17:41:18.380083Z",
     "iopub.status.idle": "2023-11-09T17:41:18.872505Z",
     "shell.execute_reply": "2023-11-09T17:41:18.871347Z"
    },
    "papermill": {
     "duration": 0.510801,
     "end_time": "2023-11-09T17:41:18.875012",
     "exception": false,
     "start_time": "2023-11-09T17:41:18.364211",
     "status": "completed"
    },
    "tags": []
   },
   "outputs": [
    {
     "name": "stderr",
     "output_type": "stream",
     "text": [
      "/tmp/ipykernel_20/2322780217.py:3: UserWarning: \n",
      "\n",
      "`distplot` is a deprecated function and will be removed in seaborn v0.14.0.\n",
      "\n",
      "Please adapt your code to use either `displot` (a figure-level function with\n",
      "similar flexibility) or `histplot` (an axes-level function for histograms).\n",
      "\n",
      "For a guide to updating your code to use the new functions, please see\n",
      "https://gist.github.com/mwaskom/de44147ed2974457ad6372750bbe5751\n",
      "\n",
      "  sns.distplot(ds['age'])\n"
     ]
    },
    {
     "data": {
      "image/png": "[encoded data removed]",
      "text/plain": [
       "<Figure size 600x600 with 1 Axes>"
      ]
     },
     "metadata": {},
     "output_type": "display_data"
    }
   ],
   "source": [
    "sns.set()\n",
    "plt.figure(figsize=(6,6))\n",
    "sns.distplot(ds['age'])\n",
    "plt.title('AgeGraph')\n",
    "plt.show()"
   ]
  },
  {
   "cell_type": "code",
   "execution_count": 10,
   "id": "3c6e669e",
   "metadata": {
    "execution": {
     "iopub.execute_input": "2023-11-09T17:41:18.906586Z",
     "iopub.status.busy": "2023-11-09T17:41:18.906179Z",
     "iopub.status.idle": "2023-11-09T17:41:19.160289Z",
     "shell.execute_reply": "2023-11-09T17:41:19.159176Z"
    },
    "papermill": {
     "duration": 0.272814,
     "end_time": "2023-11-09T17:41:19.162779",
     "exception": false,
     "start_time": "2023-11-09T17:41:18.889965",
     "status": "completed"
    },
    "tags": []
   },
   "outputs": [
    {
     "data": {
      "image/png": "[encoded data removed]",
      "text/plain": [
       "<Figure size 600x600 with 1 Axes>"
      ]
     },
     "metadata": {},
     "output_type": "display_data"
    }
   ],
   "source": [
    "plt.figure(figsize=(6,6))\n",
    "sns.countplot(x='sex',data=ds)\n",
    "plt.title('SexGraph')\n",
    "plt.show()"
   ]
  },
  {
   "cell_type": "code",
   "execution_count": 11,
   "id": "262e8e30",
   "metadata": {
    "execution": {
     "iopub.execute_input": "2023-11-09T17:41:19.195593Z",
     "iopub.status.busy": "2023-11-09T17:41:19.194766Z",
     "iopub.status.idle": "2023-11-09T17:41:19.203852Z",
     "shell.execute_reply": "2023-11-09T17:41:19.202800Z"
    },
    "papermill": {
     "duration": 0.028046,
     "end_time": "2023-11-09T17:41:19.206217",
     "exception": false,
     "start_time": "2023-11-09T17:41:19.178171",
     "status": "completed"
    },
    "tags": []
   },
   "outputs": [
    {
     "data": {
      "text/plain": [
       "sex\n",
       "male      676\n",
       "female    662\n",
       "Name: count, dtype: int64"
      ]
     },
     "execution_count": 11,
     "metadata": {},
     "output_type": "execute_result"
    }
   ],
   "source": [
    "ds['sex'].value_counts()"
   ]
  },
  {
   "cell_type": "code",
   "execution_count": 12,
   "id": "310f1153",
   "metadata": {
    "execution": {
     "iopub.execute_input": "2023-11-09T17:41:19.299831Z",
     "iopub.status.busy": "2023-11-09T17:41:19.299238Z",
     "iopub.status.idle": "2023-11-09T17:41:19.699310Z",
     "shell.execute_reply": "2023-11-09T17:41:19.698009Z"
    },
    "papermill": {
     "duration": 0.420087,
     "end_time": "2023-11-09T17:41:19.701919",
     "exception": false,
     "start_time": "2023-11-09T17:41:19.281832",
     "status": "completed"
    },
    "tags": []
   },
   "outputs": [
    {
     "name": "stderr",
     "output_type": "stream",
     "text": [
      "/tmp/ipykernel_20/1025247332.py:2: UserWarning: \n",
      "\n",
      "`distplot` is a deprecated function and will be removed in seaborn v0.14.0.\n",
      "\n",
      "Please adapt your code to use either `displot` (a figure-level function with\n",
      "similar flexibility) or `histplot` (an axes-level function for histograms).\n",
      "\n",
      "For a guide to updating your code to use the new functions, please see\n",
      "https://gist.github.com/mwaskom/de44147ed2974457ad6372750bbe5751\n",
      "\n",
      "  sns.distplot(ds['bmi'])\n"
     ]
    },
    {
     "data": {
      "image/png": "[encoded data removed]",
      "text/plain": [
       "<Figure size 600x600 with 1 Axes>"
      ]
     },
     "metadata": {},
     "output_type": "display_data"
    }
   ],
   "source": [
    "plt.figure(figsize=(6,6))\n",
    "sns.distplot(ds['bmi'])\n",
    "plt.title('BMI Graph')\n",
    "plt.show()"
   ]
  },
  {
   "cell_type": "code",
   "execution_count": 13,
   "id": "bb69f796",
   "metadata": {
    "execution": {
     "iopub.execute_input": "2023-11-09T17:41:19.736933Z",
     "iopub.status.busy": "2023-11-09T17:41:19.736503Z",
     "iopub.status.idle": "2023-11-09T17:41:20.034413Z",
     "shell.execute_reply": "2023-11-09T17:41:20.033054Z"
    },
    "papermill": {
     "duration": 0.318466,
     "end_time": "2023-11-09T17:41:20.037044",
     "exception": false,
     "start_time": "2023-11-09T17:41:19.718578",
     "status": "completed"
    },
    "tags": []
   },
   "outputs": [
    {
     "data": {
      "image/png": "[encoded data removed]",
      "text/plain": [
       "<Figure size 600x600 with 1 Axes>"
      ]
     },
     "metadata": {},
     "output_type": "display_data"
    }
   ],
   "source": [
    "plt.figure(figsize=(6,6))\n",
    "sns.countplot(x='children',data=ds)\n",
    "plt.title('Children Graph')\n",
    "plt.show()"
   ]
  },
  {
   "cell_type": "code",
   "execution_count": 14,
   "id": "af645edc",
   "metadata": {
    "execution": {
     "iopub.execute_input": "2023-11-09T17:41:20.073899Z",
     "iopub.status.busy": "2023-11-09T17:41:20.073286Z",
     "iopub.status.idle": "2023-11-09T17:41:20.080400Z",
     "shell.execute_reply": "2023-11-09T17:41:20.079565Z"
    },
    "papermill": {
     "duration": 0.027764,
     "end_time": "2023-11-09T17:41:20.082700",
     "exception": false,
     "start_time": "2023-11-09T17:41:20.054936",
     "status": "completed"
    },
    "tags": []
   },
   "outputs": [
    {
     "data": {
      "text/plain": [
       "children\n",
       "0    574\n",
       "1    324\n",
       "2    240\n",
       "3    157\n",
       "4     25\n",
       "5     18\n",
       "Name: count, dtype: int64"
      ]
     },
     "execution_count": 14,
     "metadata": {},
     "output_type": "execute_result"
    }
   ],
   "source": [
    "ds['children'].value_counts()"
   ]
  },
  {
   "cell_type": "code",
   "execution_count": 15,
   "id": "a96dfa8b",
   "metadata": {
    "execution": {
     "iopub.execute_input": "2023-11-09T17:41:20.118716Z",
     "iopub.status.busy": "2023-11-09T17:41:20.118025Z",
     "iopub.status.idle": "2023-11-09T17:41:20.356376Z",
     "shell.execute_reply": "2023-11-09T17:41:20.355281Z"
    },
    "papermill": {
     "duration": 0.259072,
     "end_time": "2023-11-09T17:41:20.358609",
     "exception": false,
     "start_time": "2023-11-09T17:41:20.099537",
     "status": "completed"
    },
    "tags": []
   },
   "outputs": [
    {
     "data": {
      "image/png": "[encoded data removed]",
      "text/plain": [
       "<Figure size 600x600 with 1 Axes>"
      ]
     },
     "metadata": {},
     "output_type": "display_data"
    }
   ],
   "source": [
    "plt.figure(figsize=(6,6))\n",
    "sns.countplot(x='smoker',data=ds)\n",
    "plt.title('Smoker Graph')\n",
    "plt.show()"
   ]
  },
  {
   "cell_type": "code",
   "execution_count": 16,
   "id": "b57045f5",
   "metadata": {
    "execution": {
     "iopub.execute_input": "2023-11-09T17:41:20.396241Z",
     "iopub.status.busy": "2023-11-09T17:41:20.395162Z",
     "iopub.status.idle": "2023-11-09T17:41:20.403316Z",
     "shell.execute_reply": "2023-11-09T17:41:20.402389Z"
    },
    "papermill": {
     "duration": 0.02906,
     "end_time": "2023-11-09T17:41:20.405672",
     "exception": false,
     "start_time": "2023-11-09T17:41:20.376612",
     "status": "completed"
    },
    "tags": []
   },
   "outputs": [
    {
     "data": {
      "text/plain": [
       "smoker\n",
       "no     1064\n",
       "yes     274\n",
       "Name: count, dtype: int64"
      ]
     },
     "execution_count": 16,
     "metadata": {},
     "output_type": "execute_result"
    }
   ],
   "source": [
    "ds['smoker'].value_counts()"
   ]
  },
  {
   "cell_type": "code",
   "execution_count": 17,
   "id": "29b512d8",
   "metadata": {
    "execution": {
     "iopub.execute_input": "2023-11-09T17:41:20.446012Z",
     "iopub.status.busy": "2023-11-09T17:41:20.445310Z",
     "iopub.status.idle": "2023-11-09T17:41:20.719359Z",
     "shell.execute_reply": "2023-11-09T17:41:20.718423Z"
    },
    "papermill": {
     "duration": 0.298812,
     "end_time": "2023-11-09T17:41:20.721850",
     "exception": false,
     "start_time": "2023-11-09T17:41:20.423038",
     "status": "completed"
    },
    "tags": []
   },
   "outputs": [
    {
     "data": {
      "image/png": "[encoded data removed]",
      "text/plain": [
       "<Figure size 600x600 with 1 Axes>"
      ]
     },
     "metadata": {},
     "output_type": "display_data"
    }
   ],
   "source": [
    "plt.figure(figsize=(6,6))\n",
    "sns.countplot(x='region',data=ds)\n",
    "plt.title('Region Graph')\n",
    "plt.show()"
   ]
  },
  {
   "cell_type": "code",
   "execution_count": 18,
   "id": "27ba00ac",
   "metadata": {
    "execution": {
     "iopub.execute_input": "2023-11-09T17:41:20.760095Z",
     "iopub.status.busy": "2023-11-09T17:41:20.759609Z",
     "iopub.status.idle": "2023-11-09T17:41:20.766925Z",
     "shell.execute_reply": "2023-11-09T17:41:20.766183Z"
    },
    "papermill": {
     "duration": 0.029166,
     "end_time": "2023-11-09T17:41:20.768894",
     "exception": false,
     "start_time": "2023-11-09T17:41:20.739728",
     "status": "completed"
    },
    "tags": []
   },
   "outputs": [
    {
     "data": {
      "text/plain": [
       "region\n",
       "southeast    364\n",
       "southwest    325\n",
       "northwest    325\n",
       "northeast    324\n",
       "Name: count, dtype: int64"
      ]
     },
     "execution_count": 18,
     "metadata": {},
     "output_type": "execute_result"
    }
   ],
   "source": [
    "ds['region'].value_counts()"
   ]
  },
  {
   "cell_type": "code",
   "execution_count": 19,
   "id": "4c90837c",
   "metadata": {
    "execution": {
     "iopub.execute_input": "2023-11-09T17:41:20.807741Z",
     "iopub.status.busy": "2023-11-09T17:41:20.807144Z",
     "iopub.status.idle": "2023-11-09T17:41:21.297285Z",
     "shell.execute_reply": "2023-11-09T17:41:21.296175Z"
    },
    "papermill": {
     "duration": 0.511992,
     "end_time": "2023-11-09T17:41:21.299760",
     "exception": false,
     "start_time": "2023-11-09T17:41:20.787768",
     "status": "completed"
    },
    "tags": []
   },
   "outputs": [
    {
     "name": "stderr",
     "output_type": "stream",
     "text": [
      "/tmp/ipykernel_20/386824641.py:2: UserWarning: \n",
      "\n",
      "`distplot` is a deprecated function and will be removed in seaborn v0.14.0.\n",
      "\n",
      "Please adapt your code to use either `displot` (a figure-level function with\n",
      "similar flexibility) or `histplot` (an axes-level function for histograms).\n",
      "\n",
      "For a guide to updating your code to use the new functions, please see\n",
      "https://gist.github.com/mwaskom/de44147ed2974457ad6372750bbe5751\n",
      "\n",
      "  sns.distplot(ds['charges'])\n"
     ]
    },
    {
     "data": {
      "image/png": "[encoded data removed]",
      "text/plain": [
       "<Figure size 600x600 with 1 Axes>"
      ]
     },
     "metadata": {},
     "output_type": "display_data"
    }
   ],
   "source": [
    "plt.figure(figsize=(6,6))\n",
    "sns.distplot(ds['charges'])\n",
    "plt.title('Chargs Graph')\n",
    "plt.show()"
   ]
  },
  {
   "cell_type": "code",
   "execution_count": 20,
   "id": "520093dd",
   "metadata": {
    "execution": {
     "iopub.execute_input": "2023-11-09T17:41:21.340327Z",
     "iopub.status.busy": "2023-11-09T17:41:21.339308Z",
     "iopub.status.idle": "2023-11-09T17:41:21.348654Z",
     "shell.execute_reply": "2023-11-09T17:41:21.347346Z"
    },
    "papermill": {
     "duration": 0.032067,
     "end_time": "2023-11-09T17:41:21.350966",
     "exception": false,
     "start_time": "2023-11-09T17:41:21.318899",
     "status": "completed"
    },
    "tags": []
   },
   "outputs": [
    {
     "data": {
      "text/plain": [
       "charges\n",
       "1639.56310     2\n",
       "16884.92400    1\n",
       "29330.98315    1\n",
       "2221.56445     1\n",
       "19798.05455    1\n",
       "              ..\n",
       "7345.08400     1\n",
       "26109.32905    1\n",
       "28287.89766    1\n",
       "1149.39590     1\n",
       "29141.36030    1\n",
       "Name: count, Length: 1337, dtype: int64"
      ]
     },
     "execution_count": 20,
     "metadata": {},
     "output_type": "execute_result"
    }
   ],
   "source": [
    "ds['charges'].value_counts()"
   ]
  },
  {
   "cell_type": "code",
   "execution_count": 21,
   "id": "fd615320",
   "metadata": {
    "execution": {
     "iopub.execute_input": "2023-11-09T17:41:21.391128Z",
     "iopub.status.busy": "2023-11-09T17:41:21.390363Z",
     "iopub.status.idle": "2023-11-09T17:41:21.400519Z",
     "shell.execute_reply": "2023-11-09T17:41:21.399336Z"
    },
    "papermill": {
     "duration": 0.033523,
     "end_time": "2023-11-09T17:41:21.403183",
     "exception": false,
     "start_time": "2023-11-09T17:41:21.369660",
     "status": "completed"
    },
    "tags": []
   },
   "outputs": [],
   "source": [
    "ds.replace({'sex':{'male':0,'female':1}},inplace=True)\n",
    "ds.replace({'smoker':{'yes':0,'no':1}},inplace=True)\n",
    "ds.replace({'region':{'southeast':0,'southwest':1,'northeast':2,'northwest':3}},inplace=True)"
   ]
  },
  {
   "cell_type": "code",
   "execution_count": 22,
   "id": "acbaf093",
   "metadata": {
    "execution": {
     "iopub.execute_input": "2023-11-09T17:41:21.441859Z",
     "iopub.status.busy": "2023-11-09T17:41:21.441448Z",
     "iopub.status.idle": "2023-11-09T17:41:21.454150Z",
     "shell.execute_reply": "2023-11-09T17:41:21.453359Z"
    },
    "papermill": {
     "duration": 0.034452,
     "end_time": "2023-11-09T17:41:21.456155",
     "exception": false,
     "start_time": "2023-11-09T17:41:21.421703",
     "status": "completed"
    },
    "tags": []
   },
   "outputs": [
    {
     "data": {
      "text/html": [
       "<div>\n",
       "<style scoped>\n",
       "    .dataframe tbody tr th:only-of-type {\n",
       "        vertical-align: middle;\n",
       "    }\n",
       "\n",
       "    .dataframe tbody tr th {\n",
       "        vertical-align: top;\n",
       "    }\n",
       "\n",
       "    .dataframe thead th {\n",
       "        text-align: right;\n",
       "    }\n",
       "</style>\n",
       "<table border=\"1\" class=\"dataframe\">\n",
       "  <thead>\n",
       "    <tr style=\"text-align: right;\">\n",
       "      <th></th>\n",
       "      <th>age</th>\n",
       "      <th>sex</th>\n",
       "      <th>bmi</th>\n",
       "      <th>children</th>\n",
       "      <th>smoker</th>\n",
       "      <th>region</th>\n",
       "      <th>charges</th>\n",
       "    </tr>\n",
       "  </thead>\n",
       "  <tbody>\n",
       "    <tr>\n",
       "      <th>0</th>\n",
       "      <td>19</td>\n",
       "      <td>1</td>\n",
       "      <td>27.900</td>\n",
       "      <td>0</td>\n",
       "      <td>0</td>\n",
       "      <td>1</td>\n",
       "      <td>16884.92400</td>\n",
       "    </tr>\n",
       "    <tr>\n",
       "      <th>1</th>\n",
       "      <td>18</td>\n",
       "      <td>0</td>\n",
       "      <td>33.770</td>\n",
       "      <td>1</td>\n",
       "      <td>1</td>\n",
       "      <td>0</td>\n",
       "      <td>1725.55230</td>\n",
       "    </tr>\n",
       "    <tr>\n",
       "      <th>2</th>\n",
       "      <td>28</td>\n",
       "      <td>0</td>\n",
       "      <td>33.000</td>\n",
       "      <td>3</td>\n",
       "      <td>1</td>\n",
       "      <td>0</td>\n",
       "      <td>4449.46200</td>\n",
       "    </tr>\n",
       "    <tr>\n",
       "      <th>3</th>\n",
       "      <td>33</td>\n",
       "      <td>0</td>\n",
       "      <td>22.705</td>\n",
       "      <td>0</td>\n",
       "      <td>1</td>\n",
       "      <td>3</td>\n",
       "      <td>21984.47061</td>\n",
       "    </tr>\n",
       "    <tr>\n",
       "      <th>4</th>\n",
       "      <td>32</td>\n",
       "      <td>0</td>\n",
       "      <td>28.880</td>\n",
       "      <td>0</td>\n",
       "      <td>1</td>\n",
       "      <td>3</td>\n",
       "      <td>3866.85520</td>\n",
       "    </tr>\n",
       "  </tbody>\n",
       "</table>\n",
       "</div>"
      ],
      "text/plain": [
       "   age  sex     bmi  children  smoker  region      charges\n",
       "0   19    1  27.900         0       0       1  16884.92400\n",
       "1   18    0  33.770         1       1       0   1725.55230\n",
       "2   28    0  33.000         3       1       0   4449.46200\n",
       "3   33    0  22.705         0       1       3  21984.47061\n",
       "4   32    0  28.880         0       1       3   3866.85520"
      ]
     },
     "execution_count": 22,
     "metadata": {},
     "output_type": "execute_result"
    }
   ],
   "source": [
    "ds.head()"
   ]
  },
  {
   "cell_type": "code",
   "execution_count": 23,
   "id": "318a66fe",
   "metadata": {
    "execution": {
     "iopub.execute_input": "2023-11-09T17:41:21.495597Z",
     "iopub.status.busy": "2023-11-09T17:41:21.494934Z",
     "iopub.status.idle": "2023-11-09T17:41:21.500397Z",
     "shell.execute_reply": "2023-11-09T17:41:21.499544Z"
    },
    "papermill": {
     "duration": 0.027654,
     "end_time": "2023-11-09T17:41:21.502450",
     "exception": false,
     "start_time": "2023-11-09T17:41:21.474796",
     "status": "completed"
    },
    "tags": []
   },
   "outputs": [],
   "source": [
    "x=ds.drop(columns='charges',axis=1)\n",
    "y=ds['charges']"
   ]
  },
  {
   "cell_type": "code",
   "execution_count": 24,
   "id": "00dc3446",
   "metadata": {
    "execution": {
     "iopub.execute_input": "2023-11-09T17:41:21.542113Z",
     "iopub.status.busy": "2023-11-09T17:41:21.541406Z",
     "iopub.status.idle": "2023-11-09T17:41:21.551311Z",
     "shell.execute_reply": "2023-11-09T17:41:21.549843Z"
    },
    "papermill": {
     "duration": 0.032647,
     "end_time": "2023-11-09T17:41:21.553690",
     "exception": false,
     "start_time": "2023-11-09T17:41:21.521043",
     "status": "completed"
    },
    "tags": []
   },
   "outputs": [
    {
     "name": "stdout",
     "output_type": "stream",
     "text": [
      "      age  sex     bmi  children  smoker  region\n",
      "0      19    1  27.900         0       0       1\n",
      "1      18    0  33.770         1       1       0\n",
      "2      28    0  33.000         3       1       0\n",
      "3      33    0  22.705         0       1       3\n",
      "4      32    0  28.880         0       1       3\n",
      "...   ...  ...     ...       ...     ...     ...\n",
      "1333   50    0  30.970         3       1       3\n",
      "1334   18    1  31.920         0       1       2\n",
      "1335   18    1  36.850         0       1       0\n",
      "1336   21    1  25.800         0       1       1\n",
      "1337   61    1  29.070         0       0       3\n",
      "\n",
      "[1338 rows x 6 columns]\n"
     ]
    }
   ],
   "source": [
    "print(x)"
   ]
  },
  {
   "cell_type": "code",
   "execution_count": 25,
   "id": "ac43cce5",
   "metadata": {
    "execution": {
     "iopub.execute_input": "2023-11-09T17:41:21.592961Z",
     "iopub.status.busy": "2023-11-09T17:41:21.592549Z",
     "iopub.status.idle": "2023-11-09T17:41:21.599610Z",
     "shell.execute_reply": "2023-11-09T17:41:21.598515Z"
    },
    "papermill": {
     "duration": 0.029349,
     "end_time": "2023-11-09T17:41:21.601892",
     "exception": false,
     "start_time": "2023-11-09T17:41:21.572543",
     "status": "completed"
    },
    "tags": []
   },
   "outputs": [
    {
     "name": "stdout",
     "output_type": "stream",
     "text": [
      "0       16884.92400\n",
      "1        1725.55230\n",
      "2        4449.46200\n",
      "3       21984.47061\n",
      "4        3866.85520\n",
      "           ...     \n",
      "1333    10600.54830\n",
      "1334     2205.98080\n",
      "1335     1629.83350\n",
      "1336     2007.94500\n",
      "1337    29141.36030\n",
      "Name: charges, Length: 1338, dtype: float64\n"
     ]
    }
   ],
   "source": [
    "print(y)"
   ]
  },
  {
   "cell_type": "code",
   "execution_count": 26,
   "id": "ff5f2031",
   "metadata": {
    "execution": {
     "iopub.execute_input": "2023-11-09T17:41:21.642127Z",
     "iopub.status.busy": "2023-11-09T17:41:21.641166Z",
     "iopub.status.idle": "2023-11-09T17:41:21.648058Z",
     "shell.execute_reply": "2023-11-09T17:41:21.647147Z"
    },
    "papermill": {
     "duration": 0.029371,
     "end_time": "2023-11-09T17:41:21.650344",
     "exception": false,
     "start_time": "2023-11-09T17:41:21.620973",
     "status": "completed"
    },
    "tags": []
   },
   "outputs": [],
   "source": [
    "x_train,x_test,y_train,y_test=train_test_split(x,y,test_size=0.2,random_state=42)"
   ]
  },
  {
   "cell_type": "code",
   "execution_count": 27,
   "id": "dc6f0f2e",
   "metadata": {
    "execution": {
     "iopub.execute_input": "2023-11-09T17:41:21.691195Z",
     "iopub.status.busy": "2023-11-09T17:41:21.690145Z",
     "iopub.status.idle": "2023-11-09T17:41:21.695407Z",
     "shell.execute_reply": "2023-11-09T17:41:21.694674Z"
    },
    "papermill": {
     "duration": 0.028023,
     "end_time": "2023-11-09T17:41:21.697649",
     "exception": false,
     "start_time": "2023-11-09T17:41:21.669626",
     "status": "completed"
    },
    "tags": []
   },
   "outputs": [
    {
     "name": "stdout",
     "output_type": "stream",
     "text": [
      "(1338, 6) (1070, 6) (268, 6)\n"
     ]
    }
   ],
   "source": [
    "print(x.shape,x_train.shape,x_test.shape)"
   ]
  },
  {
   "cell_type": "code",
   "execution_count": 28,
   "id": "0b02b5d5",
   "metadata": {
    "execution": {
     "iopub.execute_input": "2023-11-09T17:41:21.737405Z",
     "iopub.status.busy": "2023-11-09T17:41:21.736455Z",
     "iopub.status.idle": "2023-11-09T17:41:21.741211Z",
     "shell.execute_reply": "2023-11-09T17:41:21.740420Z"
    },
    "papermill": {
     "duration": 0.026848,
     "end_time": "2023-11-09T17:41:21.743352",
     "exception": false,
     "start_time": "2023-11-09T17:41:21.716504",
     "status": "completed"
    },
    "tags": []
   },
   "outputs": [],
   "source": [
    "regressor=LinearRegression()"
   ]
  },
  {
   "cell_type": "code",
   "execution_count": 29,
   "id": "d5423460",
   "metadata": {
    "execution": {
     "iopub.execute_input": "2023-11-09T17:41:21.782979Z",
     "iopub.status.busy": "2023-11-09T17:41:21.782575Z",
     "iopub.status.idle": "2023-11-09T17:41:21.815196Z",
     "shell.execute_reply": "2023-11-09T17:41:21.813923Z"
    },
    "papermill": {
     "duration": 0.055279,
     "end_time": "2023-11-09T17:41:21.817639",
     "exception": false,
     "start_time": "2023-11-09T17:41:21.762360",
     "status": "completed"
    },
    "tags": []
   },
   "outputs": [
    {
     "data": {
      "text/html": [
       "<style>#sk-container-id-1 {color: black;background-color: white;}#sk-container-id-1 pre{padding: 0;}#sk-container-id-1 div.sk-toggleable {background-color: white;}#sk-container-id-1 label.sk-toggleable__label {cursor: pointer;display: block;width: 100%;margin-bottom: 0;padding: 0.3em;box-sizing: border-box;text-align: center;}#sk-container-id-1 label.sk-toggleable__label-arrow:before {content: \"▸\";float: left;margin-right: 0.25em;color: #696969;}#sk-container-id-1 label.sk-toggleable__label-arrow:hover:before {color: black;}#sk-container-id-1 div.sk-estimator:hover label.sk-toggleable__label-arrow:before {color: black;}#sk-container-id-1 div.sk-toggleable__content {max-height: 0;max-width: 0;overflow: hidden;text-align: left;background-color: #f0f8ff;}#sk-container-id-1 div.sk-toggleable__content pre {margin: 0.2em;color: black;border-radius: 0.25em;background-color: #f0f8ff;}#sk-container-id-1 input.sk-toggleable__control:checked~div.sk-toggleable__content {max-height: 200px;max-width: 100%;overflow: auto;}#sk-container-id-1 input.sk-toggleable__control:checked~label.sk-toggleable__label-arrow:before {content: \"▾\";}#sk-container-id-1 div.sk-estimator input.sk-toggleable__control:checked~label.sk-toggleable__label {background-color: #d4ebff;}#sk-container-id-1 div.sk-label input.sk-toggleable__control:checked~label.sk-toggleable__label {background-color: #d4ebff;}#sk-container-id-1 input.sk-hidden--visually {border: 0;clip: rect(1px 1px 1px 1px);clip: rect(1px, 1px, 1px, 1px);height: 1px;margin: -1px;overflow: hidden;padding: 0;position: absolute;width: 1px;}#sk-container-id-1 div.sk-estimator {font-family: monospace;background-color: #f0f8ff;border: 1px dotted black;border-radius: 0.25em;box-sizing: border-box;margin-bottom: 0.5em;}#sk-container-id-1 div.sk-estimator:hover {background-color: #d4ebff;}#sk-container-id-1 div.sk-parallel-item::after {content: \"\";width: 100%;border-bottom: 1px solid gray;flex-grow: 1;}#sk-container-id-1 div.sk-label:hover label.sk-toggleable__label {background-color: #d4ebff;}#sk-container-id-1 div.sk-serial::before {content: \"\";position: absolute;border-left: 1px solid gray;box-sizing: border-box;top: 0;bottom: 0;left: 50%;z-index: 0;}#sk-container-id-1 div.sk-serial {display: flex;flex-direction: column;align-items: center;background-color: white;padding-right: 0.2em;padding-left: 0.2em;position: relative;}#sk-container-id-1 div.sk-item {position: relative;z-index: 1;}#sk-container-id-1 div.sk-parallel {display: flex;align-items: stretch;justify-content: center;background-color: white;position: relative;}#sk-container-id-1 div.sk-item::before, #sk-container-id-1 div.sk-parallel-item::before {content: \"\";position: absolute;border-left: 1px solid gray;box-sizing: border-box;top: 0;bottom: 0;left: 50%;z-index: -1;}#sk-container-id-1 div.sk-parallel-item {display: flex;flex-direction: column;z-index: 1;position: relative;background-color: white;}#sk-container-id-1 div.sk-parallel-item:first-child::after {align-self: flex-end;width: 50%;}#sk-container-id-1 div.sk-parallel-item:last-child::after {align-self: flex-start;width: 50%;}#sk-container-id-1 div.sk-parallel-item:only-child::after {width: 0;}#sk-container-id-1 div.sk-dashed-wrapped {border: 1px dashed gray;margin: 0 0.4em 0.5em 0.4em;box-sizing: border-box;padding-bottom: 0.4em;background-color: white;}#sk-container-id-1 div.sk-label label {font-family: monospace;font-weight: bold;display: inline-block;line-height: 1.2em;}#sk-container-id-1 div.sk-label-container {text-align: center;}#sk-container-id-1 div.sk-container {/* jupyter's `normalize.less` sets `[hidden] { display: none; }` but bootstrap.min.css set `[hidden] { display: none !important; }` so we also need the `!important` here to be able to override the default hidden behavior on the sphinx rendered scikit-learn.org. See: https://github.com/scikit-learn/scikit-learn/issues/21755 */display: inline-block !important;position: relative;}#sk-container-id-1 div.sk-text-repr-fallback {display: none;}</style><div id=\"sk-container-id-1\" class=\"sk-top-container\"><div class=\"sk-text-repr-fallback\"><pre>LinearRegression()</pre><b>In a Jupyter environment, please rerun this cell to show the HTML representation or trust the notebook. <br />On GitHub, the HTML representation is unable to render, please try loading this page with nbviewer.org.</b></div><div class=\"sk-container\" hidden><div class=\"sk-item\"><div class=\"sk-estimator sk-toggleable\"><input class=\"sk-toggleable__control sk-hidden--visually\" id=\"sk-estimator-id-1\" type=\"checkbox\" checked><label for=\"sk-estimator-id-1\" class=\"sk-toggleable__label sk-toggleable__label-arrow\">LinearRegression</label><div class=\"sk-toggleable__content\"><pre>LinearRegression()</pre></div></div></div></div></div>"
      ],
      "text/plain": [
       "LinearRegression()"
      ]
     },
     "execution_count": 29,
     "metadata": {},
     "output_type": "execute_result"
    }
   ],
   "source": [
    "regressor.fit(x_train,y_train)"
   ]
  },
  {
   "cell_type": "code",
   "execution_count": 30,
   "id": "f9e27a1b",
   "metadata": {
    "execution": {
     "iopub.execute_input": "2023-11-09T17:41:21.864839Z",
     "iopub.status.busy": "2023-11-09T17:41:21.864081Z",
     "iopub.status.idle": "2023-11-09T17:41:21.872096Z",
     "shell.execute_reply": "2023-11-09T17:41:21.871188Z"
    },
    "papermill": {
     "duration": 0.03683,
     "end_time": "2023-11-09T17:41:21.875814",
     "exception": false,
     "start_time": "2023-11-09T17:41:21.838984",
     "status": "completed"
    },
    "tags": []
   },
   "outputs": [],
   "source": [
    "training_data_prediction=regressor.predict(x_train)"
   ]
  },
  {
   "cell_type": "code",
   "execution_count": 31,
   "id": "02a0fe96",
   "metadata": {
    "execution": {
     "iopub.execute_input": "2023-11-09T17:41:21.928496Z",
     "iopub.status.busy": "2023-11-09T17:41:21.927635Z",
     "iopub.status.idle": "2023-11-09T17:41:21.934856Z",
     "shell.execute_reply": "2023-11-09T17:41:21.934017Z"
    },
    "papermill": {
     "duration": 0.037722,
     "end_time": "2023-11-09T17:41:21.937322",
     "exception": false,
     "start_time": "2023-11-09T17:41:21.899600",
     "status": "completed"
    },
    "tags": []
   },
   "outputs": [
    {
     "name": "stdout",
     "output_type": "stream",
     "text": [
      "R squared value: 0.7413131194887537\n"
     ]
    }
   ],
   "source": [
    "r2_train=metrics.r2_score(y_train,training_data_prediction)\n",
    "print('R squared value:',r2_train)"
   ]
  },
  {
   "cell_type": "code",
   "execution_count": 32,
   "id": "46b4f854",
   "metadata": {
    "execution": {
     "iopub.execute_input": "2023-11-09T17:41:21.989791Z",
     "iopub.status.busy": "2023-11-09T17:41:21.988645Z",
     "iopub.status.idle": "2023-11-09T17:41:21.997155Z",
     "shell.execute_reply": "2023-11-09T17:41:21.995908Z"
    },
    "papermill": {
     "duration": 0.036347,
     "end_time": "2023-11-09T17:41:21.999652",
     "exception": false,
     "start_time": "2023-11-09T17:41:21.963305",
     "status": "completed"
    },
    "tags": []
   },
   "outputs": [],
   "source": [
    "test_data_prediction=regressor.predict(x_test)"
   ]
  },
  {
   "cell_type": "code",
   "execution_count": 33,
   "id": "3c4e84a0",
   "metadata": {
    "execution": {
     "iopub.execute_input": "2023-11-09T17:41:22.043656Z",
     "iopub.status.busy": "2023-11-09T17:41:22.043262Z",
     "iopub.status.idle": "2023-11-09T17:41:22.050087Z",
     "shell.execute_reply": "2023-11-09T17:41:22.048717Z"
    },
    "papermill": {
     "duration": 0.030327,
     "end_time": "2023-11-09T17:41:22.052475",
     "exception": false,
     "start_time": "2023-11-09T17:41:22.022148",
     "status": "completed"
    },
    "tags": []
   },
   "outputs": [
    {
     "name": "stdout",
     "output_type": "stream",
     "text": [
      "R squared value: 0.783021587162344\n"
     ]
    }
   ],
   "source": [
    "r2_test=metrics.r2_score(y_test,test_data_prediction)\n",
    "print('R squared value:',r2_test)"
   ]
  },
  {
   "cell_type": "code",
   "execution_count": 34,
   "id": "fdf70612",
   "metadata": {
    "execution": {
     "iopub.execute_input": "2023-11-09T17:41:22.093255Z",
     "iopub.status.busy": "2023-11-09T17:41:22.092855Z",
     "iopub.status.idle": "2023-11-09T17:41:22.103426Z",
     "shell.execute_reply": "2023-11-09T17:41:22.101704Z"
    },
    "papermill": {
     "duration": 0.033573,
     "end_time": "2023-11-09T17:41:22.105652",
     "exception": false,
     "start_time": "2023-11-09T17:41:22.072079",
     "status": "completed"
    },
    "tags": []
   },
   "outputs": [
    {
     "name": "stdout",
     "output_type": "stream",
     "text": [
      "[30802.1852122]\n",
      "The cost is : 30802.18521220246\n"
     ]
    },
    {
     "name": "stderr",
     "output_type": "stream",
     "text": [
      "/opt/conda/lib/python3.10/site-packages/sklearn/base.py:439: UserWarning: X does not have valid feature names, but LinearRegression was fitted with feature names\n",
      "  warnings.warn(\n"
     ]
    }
   ],
   "source": [
    "id=(30,1,35.3,0,0,1)\n",
    "id_as_numpy_array=np.asarray(id)\n",
    "id_reshaped=id_as_numpy_array.reshape(1,-1)\n",
    "prediction=regressor.predict(id_reshaped)\n",
    "print(prediction)\n",
    "print('The cost is :',prediction[0])"
   ]
  },
  {
   "cell_type": "code",
   "execution_count": 35,
   "id": "645cccc4",
   "metadata": {
    "execution": {
     "iopub.execute_input": "2023-11-09T17:41:22.147693Z",
     "iopub.status.busy": "2023-11-09T17:41:22.147279Z",
     "iopub.status.idle": "2023-11-09T17:41:22.155204Z",
     "shell.execute_reply": "2023-11-09T17:41:22.154442Z"
    },
    "papermill": {
     "duration": 0.031654,
     "end_time": "2023-11-09T17:41:22.157523",
     "exception": false,
     "start_time": "2023-11-09T17:41:22.125869",
     "status": "completed"
    },
    "tags": []
   },
   "outputs": [
    {
     "data": {
      "text/plain": [
       "560      9193.83850\n",
       "1285     8534.67180\n",
       "1142    27117.99378\n",
       "969      8596.82780\n",
       "486     12475.35130\n",
       "           ...     \n",
       "1095     4561.18850\n",
       "1130     8582.30230\n",
       "1294    11931.12525\n",
       "860     46113.51100\n",
       "1126    10214.63600\n",
       "Name: charges, Length: 1070, dtype: float64"
      ]
     },
     "execution_count": 35,
     "metadata": {},
     "output_type": "execute_result"
    }
   ],
   "source": [
    "y_train"
   ]
  },
  {
   "cell_type": "code",
   "execution_count": 36,
   "id": "c6bc32dd",
   "metadata": {
    "execution": {
     "iopub.execute_input": "2023-11-09T17:41:22.200525Z",
     "iopub.status.busy": "2023-11-09T17:41:22.200131Z",
     "iopub.status.idle": "2023-11-09T17:41:22.516320Z",
     "shell.execute_reply": "2023-11-09T17:41:22.515269Z"
    },
    "papermill": {
     "duration": 0.341252,
     "end_time": "2023-11-09T17:41:22.518895",
     "exception": false,
     "start_time": "2023-11-09T17:41:22.177643",
     "status": "completed"
    },
    "tags": []
   },
   "outputs": [],
   "source": [
    "from sklearn.svm import SVR\n",
    "from sklearn.ensemble import RandomForestRegressor\n",
    "from sklearn.ensemble import GradientBoostingRegressor"
   ]
  },
  {
   "cell_type": "code",
   "execution_count": 37,
   "id": "9c287a10",
   "metadata": {
    "execution": {
     "iopub.execute_input": "2023-11-09T17:41:22.560634Z",
     "iopub.status.busy": "2023-11-09T17:41:22.560275Z",
     "iopub.status.idle": "2023-11-09T17:41:23.124153Z",
     "shell.execute_reply": "2023-11-09T17:41:23.123134Z"
    },
    "papermill": {
     "duration": 0.587413,
     "end_time": "2023-11-09T17:41:23.126568",
     "exception": false,
     "start_time": "2023-11-09T17:41:22.539155",
     "status": "completed"
    },
    "tags": []
   },
   "outputs": [
    {
     "data": {
      "text/html": [
       "<style>#sk-container-id-2 {color: black;background-color: white;}#sk-container-id-2 pre{padding: 0;}#sk-container-id-2 div.sk-toggleable {background-color: white;}#sk-container-id-2 label.sk-toggleable__label {cursor: pointer;display: block;width: 100%;margin-bottom: 0;padding: 0.3em;box-sizing: border-box;text-align: center;}#sk-container-id-2 label.sk-toggleable__label-arrow:before {content: \"▸\";float: left;margin-right: 0.25em;color: #696969;}#sk-container-id-2 label.sk-toggleable__label-arrow:hover:before {color: black;}#sk-container-id-2 div.sk-estimator:hover label.sk-toggleable__label-arrow:before {color: black;}#sk-container-id-2 div.sk-toggleable__content {max-height: 0;max-width: 0;overflow: hidden;text-align: left;background-color: #f0f8ff;}#sk-container-id-2 div.sk-toggleable__content pre {margin: 0.2em;color: black;border-radius: 0.25em;background-color: #f0f8ff;}#sk-container-id-2 input.sk-toggleable__control:checked~div.sk-toggleable__content {max-height: 200px;max-width: 100%;overflow: auto;}#sk-container-id-2 input.sk-toggleable__control:checked~label.sk-toggleable__label-arrow:before {content: \"▾\";}#sk-container-id-2 div.sk-estimator input.sk-toggleable__control:checked~label.sk-toggleable__label {background-color: #d4ebff;}#sk-container-id-2 div.sk-label input.sk-toggleable__control:checked~label.sk-toggleable__label {background-color: #d4ebff;}#sk-container-id-2 input.sk-hidden--visually {border: 0;clip: rect(1px 1px 1px 1px);clip: rect(1px, 1px, 1px, 1px);height: 1px;margin: -1px;overflow: hidden;padding: 0;position: absolute;width: 1px;}#sk-container-id-2 div.sk-estimator {font-family: monospace;background-color: #f0f8ff;border: 1px dotted black;border-radius: 0.25em;box-sizing: border-box;margin-bottom: 0.5em;}#sk-container-id-2 div.sk-estimator:hover {background-color: #d4ebff;}#sk-container-id-2 div.sk-parallel-item::after {content: \"\";width: 100%;border-bottom: 1px solid gray;flex-grow: 1;}#sk-container-id-2 div.sk-label:hover label.sk-toggleable__label {background-color: #d4ebff;}#sk-container-id-2 div.sk-serial::before {content: \"\";position: absolute;border-left: 1px solid gray;box-sizing: border-box;top: 0;bottom: 0;left: 50%;z-index: 0;}#sk-container-id-2 div.sk-serial {display: flex;flex-direction: column;align-items: center;background-color: white;padding-right: 0.2em;padding-left: 0.2em;position: relative;}#sk-container-id-2 div.sk-item {position: relative;z-index: 1;}#sk-container-id-2 div.sk-parallel {display: flex;align-items: stretch;justify-content: center;background-color: white;position: relative;}#sk-container-id-2 div.sk-item::before, #sk-container-id-2 div.sk-parallel-item::before {content: \"\";position: absolute;border-left: 1px solid gray;box-sizing: border-box;top: 0;bottom: 0;left: 50%;z-index: -1;}#sk-container-id-2 div.sk-parallel-item {display: flex;flex-direction: column;z-index: 1;position: relative;background-color: white;}#sk-container-id-2 div.sk-parallel-item:first-child::after {align-self: flex-end;width: 50%;}#sk-container-id-2 div.sk-parallel-item:last-child::after {align-self: flex-start;width: 50%;}#sk-container-id-2 div.sk-parallel-item:only-child::after {width: 0;}#sk-container-id-2 div.sk-dashed-wrapped {border: 1px dashed gray;margin: 0 0.4em 0.5em 0.4em;box-sizing: border-box;padding-bottom: 0.4em;background-color: white;}#sk-container-id-2 div.sk-label label {font-family: monospace;font-weight: bold;display: inline-block;line-height: 1.2em;}#sk-container-id-2 div.sk-label-container {text-align: center;}#sk-container-id-2 div.sk-container {/* jupyter's `normalize.less` sets `[hidden] { display: none; }` but bootstrap.min.css set `[hidden] { display: none !important; }` so we also need the `!important` here to be able to override the default hidden behavior on the sphinx rendered scikit-learn.org. See: https://github.com/scikit-learn/scikit-learn/issues/21755 */display: inline-block !important;position: relative;}#sk-container-id-2 div.sk-text-repr-fallback {display: none;}</style><div id=\"sk-container-id-2\" class=\"sk-top-container\"><div class=\"sk-text-repr-fallback\"><pre>GradientBoostingRegressor()</pre><b>In a Jupyter environment, please rerun this cell to show the HTML representation or trust the notebook. <br />On GitHub, the HTML representation is unable to render, please try loading this page with nbviewer.org.</b></div><div class=\"sk-container\" hidden><div class=\"sk-item\"><div class=\"sk-estimator sk-toggleable\"><input class=\"sk-toggleable__control sk-hidden--visually\" id=\"sk-estimator-id-2\" type=\"checkbox\" checked><label for=\"sk-estimator-id-2\" class=\"sk-toggleable__label sk-toggleable__label-arrow\">GradientBoostingRegressor</label><div class=\"sk-toggleable__content\"><pre>GradientBoostingRegressor()</pre></div></div></div></div></div>"
      ],
      "text/plain": [
       "GradientBoostingRegressor()"
      ]
     },
     "execution_count": 37,
     "metadata": {},
     "output_type": "execute_result"
    }
   ],
   "source": [
    "svm=SVR()\n",
    "svm.fit(x_train,y_train)\n",
    "rf=RandomForestRegressor()\n",
    "rf.fit(x_train,y_train)\n",
    "gr=GradientBoostingRegressor()\n",
    "gr.fit(x_train,y_train)"
   ]
  },
  {
   "cell_type": "code",
   "execution_count": 38,
   "id": "807efb54",
   "metadata": {
    "execution": {
     "iopub.execute_input": "2023-11-09T17:41:23.172114Z",
     "iopub.status.busy": "2023-11-09T17:41:23.170763Z",
     "iopub.status.idle": "2023-11-09T17:41:23.209070Z",
     "shell.execute_reply": "2023-11-09T17:41:23.207724Z"
    },
    "papermill": {
     "duration": 0.064832,
     "end_time": "2023-11-09T17:41:23.212108",
     "exception": false,
     "start_time": "2023-11-09T17:41:23.147276",
     "status": "completed"
    },
    "tags": []
   },
   "outputs": [],
   "source": [
    "y_pred1=svm.predict(x_test)\n",
    "y_pred2=rf.predict(x_test)\n",
    "y_pred3=gr.predict(x_test)\n",
    "df1=pd.DataFrame({'Actual':y_test,'svm':y_pred1,'rf':y_pred2,'gr':y_pred3})"
   ]
  },
  {
   "cell_type": "code",
   "execution_count": 39,
   "id": "52c15f5d",
   "metadata": {
    "execution": {
     "iopub.execute_input": "2023-11-09T17:41:23.256336Z",
     "iopub.status.busy": "2023-11-09T17:41:23.255130Z",
     "iopub.status.idle": "2023-11-09T17:41:23.269495Z",
     "shell.execute_reply": "2023-11-09T17:41:23.268363Z"
    },
    "papermill": {
     "duration": 0.038539,
     "end_time": "2023-11-09T17:41:23.271708",
     "exception": false,
     "start_time": "2023-11-09T17:41:23.233169",
     "status": "completed"
    },
    "tags": []
   },
   "outputs": [
    {
     "data": {
      "text/html": [
       "<div>\n",
       "<style scoped>\n",
       "    .dataframe tbody tr th:only-of-type {\n",
       "        vertical-align: middle;\n",
       "    }\n",
       "\n",
       "    .dataframe tbody tr th {\n",
       "        vertical-align: top;\n",
       "    }\n",
       "\n",
       "    .dataframe thead th {\n",
       "        text-align: right;\n",
       "    }\n",
       "</style>\n",
       "<table border=\"1\" class=\"dataframe\">\n",
       "  <thead>\n",
       "    <tr style=\"text-align: right;\">\n",
       "      <th></th>\n",
       "      <th>Actual</th>\n",
       "      <th>svm</th>\n",
       "      <th>rf</th>\n",
       "      <th>gr</th>\n",
       "    </tr>\n",
       "  </thead>\n",
       "  <tbody>\n",
       "    <tr>\n",
       "      <th>764</th>\n",
       "      <td>9095.06825</td>\n",
       "      <td>9548.336385</td>\n",
       "      <td>11192.946535</td>\n",
       "      <td>10810.952230</td>\n",
       "    </tr>\n",
       "    <tr>\n",
       "      <th>887</th>\n",
       "      <td>5272.17580</td>\n",
       "      <td>9492.895666</td>\n",
       "      <td>5330.660849</td>\n",
       "      <td>5837.446283</td>\n",
       "    </tr>\n",
       "    <tr>\n",
       "      <th>890</th>\n",
       "      <td>29330.98315</td>\n",
       "      <td>9648.496688</td>\n",
       "      <td>28338.049182</td>\n",
       "      <td>27621.536382</td>\n",
       "    </tr>\n",
       "    <tr>\n",
       "      <th>1293</th>\n",
       "      <td>9301.89355</td>\n",
       "      <td>9555.134916</td>\n",
       "      <td>10943.081504</td>\n",
       "      <td>9924.440767</td>\n",
       "    </tr>\n",
       "    <tr>\n",
       "      <th>259</th>\n",
       "      <td>33750.29180</td>\n",
       "      <td>9421.005499</td>\n",
       "      <td>34759.924086</td>\n",
       "      <td>33517.594584</td>\n",
       "    </tr>\n",
       "    <tr>\n",
       "      <th>...</th>\n",
       "      <td>...</td>\n",
       "      <td>...</td>\n",
       "      <td>...</td>\n",
       "      <td>...</td>\n",
       "    </tr>\n",
       "    <tr>\n",
       "      <th>109</th>\n",
       "      <td>47055.53210</td>\n",
       "      <td>9648.631901</td>\n",
       "      <td>47274.524467</td>\n",
       "      <td>45901.005642</td>\n",
       "    </tr>\n",
       "    <tr>\n",
       "      <th>575</th>\n",
       "      <td>12222.89830</td>\n",
       "      <td>9625.226197</td>\n",
       "      <td>12030.179397</td>\n",
       "      <td>12306.163109</td>\n",
       "    </tr>\n",
       "    <tr>\n",
       "      <th>535</th>\n",
       "      <td>6067.12675</td>\n",
       "      <td>9504.351525</td>\n",
       "      <td>6184.226934</td>\n",
       "      <td>6577.338535</td>\n",
       "    </tr>\n",
       "    <tr>\n",
       "      <th>543</th>\n",
       "      <td>63770.42801</td>\n",
       "      <td>9604.916913</td>\n",
       "      <td>46745.562172</td>\n",
       "      <td>48308.211959</td>\n",
       "    </tr>\n",
       "    <tr>\n",
       "      <th>846</th>\n",
       "      <td>9872.70100</td>\n",
       "      <td>9591.098611</td>\n",
       "      <td>9906.664800</td>\n",
       "      <td>10688.748946</td>\n",
       "    </tr>\n",
       "  </tbody>\n",
       "</table>\n",
       "<p>268 rows × 4 columns</p>\n",
       "</div>"
      ],
      "text/plain": [
       "           Actual          svm            rf            gr\n",
       "764    9095.06825  9548.336385  11192.946535  10810.952230\n",
       "887    5272.17580  9492.895666   5330.660849   5837.446283\n",
       "890   29330.98315  9648.496688  28338.049182  27621.536382\n",
       "1293   9301.89355  9555.134916  10943.081504   9924.440767\n",
       "259   33750.29180  9421.005499  34759.924086  33517.594584\n",
       "...           ...          ...           ...           ...\n",
       "109   47055.53210  9648.631901  47274.524467  45901.005642\n",
       "575   12222.89830  9625.226197  12030.179397  12306.163109\n",
       "535    6067.12675  9504.351525   6184.226934   6577.338535\n",
       "543   63770.42801  9604.916913  46745.562172  48308.211959\n",
       "846    9872.70100  9591.098611   9906.664800  10688.748946\n",
       "\n",
       "[268 rows x 4 columns]"
      ]
     },
     "execution_count": 39,
     "metadata": {},
     "output_type": "execute_result"
    }
   ],
   "source": [
    "df1"
   ]
  },
  {
   "cell_type": "code",
   "execution_count": 40,
   "id": "d29d32c8",
   "metadata": {
    "execution": {
     "iopub.execute_input": "2023-11-09T17:41:23.315645Z",
     "iopub.status.busy": "2023-11-09T17:41:23.315031Z",
     "iopub.status.idle": "2023-11-09T17:41:23.319777Z",
     "shell.execute_reply": "2023-11-09T17:41:23.318918Z"
    },
    "papermill": {
     "duration": 0.029482,
     "end_time": "2023-11-09T17:41:23.321903",
     "exception": false,
     "start_time": "2023-11-09T17:41:23.292421",
     "status": "completed"
    },
    "tags": []
   },
   "outputs": [],
   "source": [
    "import matplotlib.pyplot as plt"
   ]
  },
  {
   "cell_type": "code",
   "execution_count": 41,
   "id": "3b10f635",
   "metadata": {
    "execution": {
     "iopub.execute_input": "2023-11-09T17:41:23.367592Z",
     "iopub.status.busy": "2023-11-09T17:41:23.366928Z",
     "iopub.status.idle": "2023-11-09T17:41:23.759893Z",
     "shell.execute_reply": "2023-11-09T17:41:23.758676Z"
    },
    "papermill": {
     "duration": 0.419566,
     "end_time": "2023-11-09T17:41:23.762647",
     "exception": false,
     "start_time": "2023-11-09T17:41:23.343081",
     "status": "completed"
    },
    "tags": []
   },
   "outputs": [
    {
     "data": {
      "text/plain": [
       "<matplotlib.legend.Legend at 0x7f5f2010a920>"
      ]
     },
     "execution_count": 41,
     "metadata": {},
     "output_type": "execute_result"
    },
    {
     "data": {
      "image/png": "[encoded data removed]",
      "text/plain": [
       "<Figure size 640x480 with 1 Axes>"
      ]
     },
     "metadata": {},
     "output_type": "display_data"
    }
   ],
   "source": [
    "plt.subplot(221)\n",
    "plt.plot(df1['Actual'].iloc[0:11],label='Actual')\n",
    "plt.plot(df1['svm'].iloc[0:11],label=\"svr\")\n",
    "plt.tight_layout()\n",
    "plt.legend()"
   ]
  },
  {
   "cell_type": "code",
   "execution_count": 42,
   "id": "87c85732",
   "metadata": {
    "execution": {
     "iopub.execute_input": "2023-11-09T17:41:23.806395Z",
     "iopub.status.busy": "2023-11-09T17:41:23.805976Z",
     "iopub.status.idle": "2023-11-09T17:41:24.186358Z",
     "shell.execute_reply": "2023-11-09T17:41:24.185260Z"
    },
    "papermill": {
     "duration": 0.404744,
     "end_time": "2023-11-09T17:41:24.188394",
     "exception": false,
     "start_time": "2023-11-09T17:41:23.783650",
     "status": "completed"
    },
    "tags": []
   },
   "outputs": [
    {
     "data": {
      "text/plain": [
       "<matplotlib.legend.Legend at 0x7f5f201431c0>"
      ]
     },
     "execution_count": 42,
     "metadata": {},
     "output_type": "execute_result"
    },
    {
     "data": {
      "image/png": "[encoded data removed]",
      "text/plain": [
       "<Figure size 640x480 with 1 Axes>"
      ]
     },
     "metadata": {},
     "output_type": "display_data"
    }
   ],
   "source": [
    "plt.subplot(222)\n",
    "plt.plot(df1['Actual'].iloc[0:11],label='Actual')\n",
    "plt.plot(df1['rf'].iloc[0:11],label=\"rf\")\n",
    "plt.tight_layout()\n",
    "plt.legend()"
   ]
  },
  {
   "cell_type": "code",
   "execution_count": 43,
   "id": "69b59e14",
   "metadata": {
    "execution": {
     "iopub.execute_input": "2023-11-09T17:41:24.235297Z",
     "iopub.status.busy": "2023-11-09T17:41:24.234381Z",
     "iopub.status.idle": "2023-11-09T17:41:24.705239Z",
     "shell.execute_reply": "2023-11-09T17:41:24.704043Z"
    },
    "papermill": {
     "duration": 0.49693,
     "end_time": "2023-11-09T17:41:24.707784",
     "exception": false,
     "start_time": "2023-11-09T17:41:24.210854",
     "status": "completed"
    },
    "tags": []
   },
   "outputs": [
    {
     "data": {
      "text/plain": [
       "<matplotlib.legend.Legend at 0x7f5f203845e0>"
      ]
     },
     "execution_count": 43,
     "metadata": {},
     "output_type": "execute_result"
    },
    {
     "data": {
      "image/png": "[encoded data removed]",
      "text/plain": [
       "<Figure size 640x480 with 1 Axes>"
      ]
     },
     "metadata": {},
     "output_type": "display_data"
    }
   ],
   "source": [
    "plt.subplot(223)\n",
    "plt.plot(df1['Actual'].iloc[0:11],label='Actual')\n",
    "plt.plot(df1['gr'].iloc[0:11],label=\"gr\")\n",
    "plt.tight_layout()\n",
    "plt.legend()"
   ]
  },
  {
   "cell_type": "code",
   "execution_count": 44,
   "id": "10197c49",
   "metadata": {
    "execution": {
     "iopub.execute_input": "2023-11-09T17:41:24.754483Z",
     "iopub.status.busy": "2023-11-09T17:41:24.754065Z",
     "iopub.status.idle": "2023-11-09T17:41:24.761383Z",
     "shell.execute_reply": "2023-11-09T17:41:24.760354Z"
    },
    "papermill": {
     "duration": 0.033273,
     "end_time": "2023-11-09T17:41:24.763515",
     "exception": false,
     "start_time": "2023-11-09T17:41:24.730242",
     "status": "completed"
    },
    "tags": []
   },
   "outputs": [],
   "source": [
    "score1=metrics.r2_score(y_test,y_pred1)\n",
    "score2=metrics.r2_score(y_test,y_pred2)\n",
    "score3=metrics.r2_score(y_test,y_pred3)"
   ]
  },
  {
   "cell_type": "code",
   "execution_count": 45,
   "id": "b7348baa",
   "metadata": {
    "execution": {
     "iopub.execute_input": "2023-11-09T17:41:24.809906Z",
     "iopub.status.busy": "2023-11-09T17:41:24.809522Z",
     "iopub.status.idle": "2023-11-09T17:41:24.814857Z",
     "shell.execute_reply": "2023-11-09T17:41:24.813695Z"
    },
    "papermill": {
     "duration": 0.031818,
     "end_time": "2023-11-09T17:41:24.817612",
     "exception": false,
     "start_time": "2023-11-09T17:41:24.785794",
     "status": "completed"
    },
    "tags": []
   },
   "outputs": [
    {
     "name": "stdout",
     "output_type": "stream",
     "text": [
      "-0.07230132392530098 0.8625316840180417 0.8798261713029993\n"
     ]
    }
   ],
   "source": [
    "print(score1,score2,score3)"
   ]
  },
  {
   "cell_type": "code",
   "execution_count": 46,
   "id": "6168a215",
   "metadata": {
    "execution": {
     "iopub.execute_input": "2023-11-09T17:41:24.864831Z",
     "iopub.status.busy": "2023-11-09T17:41:24.864444Z",
     "iopub.status.idle": "2023-11-09T17:41:24.871539Z",
     "shell.execute_reply": "2023-11-09T17:41:24.870193Z"
    },
    "papermill": {
     "duration": 0.033622,
     "end_time": "2023-11-09T17:41:24.873867",
     "exception": false,
     "start_time": "2023-11-09T17:41:24.840245",
     "status": "completed"
    },
    "tags": []
   },
   "outputs": [],
   "source": [
    "s1=metrics.mean_absolute_error(y_test,y_pred1)\n",
    "s2=metrics.mean_absolute_error(y_test,y_pred2)\n",
    "s3=metrics.mean_absolute_error(y_test,y_pred3)"
   ]
  },
  {
   "cell_type": "code",
   "execution_count": 47,
   "id": "52eb921d",
   "metadata": {
    "execution": {
     "iopub.execute_input": "2023-11-09T17:41:24.922436Z",
     "iopub.status.busy": "2023-11-09T17:41:24.922055Z",
     "iopub.status.idle": "2023-11-09T17:41:24.927149Z",
     "shell.execute_reply": "2023-11-09T17:41:24.926001Z"
    },
    "papermill": {
     "duration": 0.031493,
     "end_time": "2023-11-09T17:41:24.929585",
     "exception": false,
     "start_time": "2023-11-09T17:41:24.898092",
     "status": "completed"
    },
    "tags": []
   },
   "outputs": [
    {
     "name": "stdout",
     "output_type": "stream",
     "text": [
      "8592.584329956198 2572.680542214925 2402.6776959562403\n"
     ]
    }
   ],
   "source": [
    "print(s1,s2,s3)"
   ]
  },
  {
   "cell_type": "code",
   "execution_count": 48,
   "id": "446eaf8d",
   "metadata": {
    "execution": {
     "iopub.execute_input": "2023-11-09T17:41:24.977877Z",
     "iopub.status.busy": "2023-11-09T17:41:24.977488Z",
     "iopub.status.idle": "2023-11-09T17:41:24.990088Z",
     "shell.execute_reply": "2023-11-09T17:41:24.989037Z"
    },
    "papermill": {
     "duration": 0.039322,
     "end_time": "2023-11-09T17:41:24.992123",
     "exception": false,
     "start_time": "2023-11-09T17:41:24.952801",
     "status": "completed"
    },
    "tags": []
   },
   "outputs": [
    {
     "data": {
      "text/html": [
       "<div>\n",
       "<style scoped>\n",
       "    .dataframe tbody tr th:only-of-type {\n",
       "        vertical-align: middle;\n",
       "    }\n",
       "\n",
       "    .dataframe tbody tr th {\n",
       "        vertical-align: top;\n",
       "    }\n",
       "\n",
       "    .dataframe thead th {\n",
       "        text-align: right;\n",
       "    }\n",
       "</style>\n",
       "<table border=\"1\" class=\"dataframe\">\n",
       "  <thead>\n",
       "    <tr style=\"text-align: right;\">\n",
       "      <th></th>\n",
       "      <th>age</th>\n",
       "      <th>sex</th>\n",
       "      <th>bmi</th>\n",
       "      <th>children</th>\n",
       "      <th>smoker</th>\n",
       "      <th>region</th>\n",
       "    </tr>\n",
       "  </thead>\n",
       "  <tbody>\n",
       "    <tr>\n",
       "      <th>0</th>\n",
       "      <td>40</td>\n",
       "      <td>1</td>\n",
       "      <td>40.3</td>\n",
       "      <td>4</td>\n",
       "      <td>1</td>\n",
       "      <td>2</td>\n",
       "    </tr>\n",
       "  </tbody>\n",
       "</table>\n",
       "</div>"
      ],
      "text/plain": [
       "   age  sex   bmi  children  smoker  region\n",
       "0   40    1  40.3         4       1       2"
      ]
     },
     "execution_count": 48,
     "metadata": {},
     "output_type": "execute_result"
    }
   ],
   "source": [
    "data={'age':40,\n",
    "     'sex':1,\n",
    "     'bmi':40.30,\n",
    "     'children':4,\n",
    "     'smoker':1,\n",
    "     'region':2}\n",
    "df=pd.DataFrame(data,index=[0])\n",
    "df"
   ]
  },
  {
   "cell_type": "code",
   "execution_count": 49,
   "id": "13e33c4d",
   "metadata": {
    "execution": {
     "iopub.execute_input": "2023-11-09T17:41:25.046724Z",
     "iopub.status.busy": "2023-11-09T17:41:25.045925Z",
     "iopub.status.idle": "2023-11-09T17:41:25.054891Z",
     "shell.execute_reply": "2023-11-09T17:41:25.053425Z"
    },
    "papermill": {
     "duration": 0.036969,
     "end_time": "2023-11-09T17:41:25.057604",
     "exception": false,
     "start_time": "2023-11-09T17:41:25.020635",
     "status": "completed"
    },
    "tags": []
   },
   "outputs": [
    {
     "name": "stdout",
     "output_type": "stream",
     "text": [
      "[10719.2430335]\n"
     ]
    }
   ],
   "source": [
    "new_pred=gr.predict(df)\n",
    "print(new_pred)"
   ]
  },
  {
   "cell_type": "code",
   "execution_count": 50,
   "id": "4da584ca",
   "metadata": {
    "execution": {
     "iopub.execute_input": "2023-11-09T17:41:25.106578Z",
     "iopub.status.busy": "2023-11-09T17:41:25.106180Z",
     "iopub.status.idle": "2023-11-09T17:41:25.119083Z",
     "shell.execute_reply": "2023-11-09T17:41:25.117797Z"
    },
    "papermill": {
     "duration": 0.040532,
     "end_time": "2023-11-09T17:41:25.121660",
     "exception": false,
     "start_time": "2023-11-09T17:41:25.081128",
     "status": "completed"
    },
    "tags": []
   },
   "outputs": [
    {
     "data": {
      "text/html": [
       "<div>\n",
       "<style scoped>\n",
       "    .dataframe tbody tr th:only-of-type {\n",
       "        vertical-align: middle;\n",
       "    }\n",
       "\n",
       "    .dataframe tbody tr th {\n",
       "        vertical-align: top;\n",
       "    }\n",
       "\n",
       "    .dataframe thead th {\n",
       "        text-align: right;\n",
       "    }\n",
       "</style>\n",
       "<table border=\"1\" class=\"dataframe\">\n",
       "  <thead>\n",
       "    <tr style=\"text-align: right;\">\n",
       "      <th></th>\n",
       "      <th>age</th>\n",
       "      <th>sex</th>\n",
       "      <th>bmi</th>\n",
       "      <th>children</th>\n",
       "      <th>smoker</th>\n",
       "      <th>region</th>\n",
       "    </tr>\n",
       "  </thead>\n",
       "  <tbody>\n",
       "    <tr>\n",
       "      <th>0</th>\n",
       "      <td>40</td>\n",
       "      <td>1</td>\n",
       "      <td>40.3</td>\n",
       "      <td>4</td>\n",
       "      <td>1</td>\n",
       "      <td>2</td>\n",
       "    </tr>\n",
       "  </tbody>\n",
       "</table>\n",
       "</div>"
      ],
      "text/plain": [
       "   age  sex   bmi  children  smoker  region\n",
       "0   40    1  40.3         4       1       2"
      ]
     },
     "execution_count": 50,
     "metadata": {},
     "output_type": "execute_result"
    }
   ],
   "source": [
    "data={'age':40,\n",
    "     'sex':1,\n",
    "     'bmi':40.30,\n",
    "     'children':4,\n",
    "     'smoker':1,\n",
    "     'region':2}\n",
    "df=pd.DataFrame(data,index=[0])\n",
    "df"
   ]
  },
  {
   "cell_type": "code",
   "execution_count": 51,
   "id": "1890bcce",
   "metadata": {
    "execution": {
     "iopub.execute_input": "2023-11-09T17:41:25.171128Z",
     "iopub.status.busy": "2023-11-09T17:41:25.170697Z",
     "iopub.status.idle": "2023-11-09T17:41:25.183407Z",
     "shell.execute_reply": "2023-11-09T17:41:25.182005Z"
    },
    "papermill": {
     "duration": 0.040074,
     "end_time": "2023-11-09T17:41:25.185694",
     "exception": false,
     "start_time": "2023-11-09T17:41:25.145620",
     "status": "completed"
    },
    "tags": []
   },
   "outputs": [
    {
     "name": "stdout",
     "output_type": "stream",
     "text": [
      "[13704.0992172]\n"
     ]
    }
   ],
   "source": [
    "new_pred=rf.predict(df)\n",
    "print(new_pred)"
   ]
  },
  {
   "cell_type": "code",
   "execution_count": 52,
   "id": "879606c9",
   "metadata": {
    "execution": {
     "iopub.execute_input": "2023-11-09T17:41:25.235723Z",
     "iopub.status.busy": "2023-11-09T17:41:25.235309Z",
     "iopub.status.idle": "2023-11-09T17:41:25.248653Z",
     "shell.execute_reply": "2023-11-09T17:41:25.247521Z"
    },
    "papermill": {
     "duration": 0.040549,
     "end_time": "2023-11-09T17:41:25.250974",
     "exception": false,
     "start_time": "2023-11-09T17:41:25.210425",
     "status": "completed"
    },
    "tags": []
   },
   "outputs": [
    {
     "data": {
      "text/html": [
       "<div>\n",
       "<style scoped>\n",
       "    .dataframe tbody tr th:only-of-type {\n",
       "        vertical-align: middle;\n",
       "    }\n",
       "\n",
       "    .dataframe tbody tr th {\n",
       "        vertical-align: top;\n",
       "    }\n",
       "\n",
       "    .dataframe thead th {\n",
       "        text-align: right;\n",
       "    }\n",
       "</style>\n",
       "<table border=\"1\" class=\"dataframe\">\n",
       "  <thead>\n",
       "    <tr style=\"text-align: right;\">\n",
       "      <th></th>\n",
       "      <th>age</th>\n",
       "      <th>sex</th>\n",
       "      <th>bmi</th>\n",
       "      <th>children</th>\n",
       "      <th>smoker</th>\n",
       "      <th>region</th>\n",
       "    </tr>\n",
       "  </thead>\n",
       "  <tbody>\n",
       "    <tr>\n",
       "      <th>0</th>\n",
       "      <td>40</td>\n",
       "      <td>1</td>\n",
       "      <td>40.3</td>\n",
       "      <td>4</td>\n",
       "      <td>1</td>\n",
       "      <td>2</td>\n",
       "    </tr>\n",
       "  </tbody>\n",
       "</table>\n",
       "</div>"
      ],
      "text/plain": [
       "   age  sex   bmi  children  smoker  region\n",
       "0   40    1  40.3         4       1       2"
      ]
     },
     "execution_count": 52,
     "metadata": {},
     "output_type": "execute_result"
    }
   ],
   "source": [
    "data={'age':40,\n",
    "     'sex':1,\n",
    "     'bmi':40.30,\n",
    "     'children':4,\n",
    "     'smoker':1,\n",
    "     'region':2}\n",
    "df=pd.DataFrame(data,index=[0])\n",
    "df"
   ]
  },
  {
   "cell_type": "code",
   "execution_count": 53,
   "id": "f0c607cf",
   "metadata": {
    "execution": {
     "iopub.execute_input": "2023-11-09T17:41:25.300145Z",
     "iopub.status.busy": "2023-11-09T17:41:25.299693Z",
     "iopub.status.idle": "2023-11-09T17:41:25.308528Z",
     "shell.execute_reply": "2023-11-09T17:41:25.307021Z"
    },
    "papermill": {
     "duration": 0.035841,
     "end_time": "2023-11-09T17:41:25.310585",
     "exception": false,
     "start_time": "2023-11-09T17:41:25.274744",
     "status": "completed"
    },
    "tags": []
   },
   "outputs": [
    {
     "name": "stdout",
     "output_type": "stream",
     "text": [
      "[9524.32336833]\n"
     ]
    }
   ],
   "source": [
    "new_pred=svm.predict(df)\n",
    "print(new_pred)"
   ]
  },
  {
   "cell_type": "code",
   "execution_count": 54,
   "id": "389d2ba5",
   "metadata": {
    "execution": {
     "iopub.execute_input": "2023-11-09T17:41:25.360521Z",
     "iopub.status.busy": "2023-11-09T17:41:25.360081Z",
     "iopub.status.idle": "2023-11-09T17:41:25.511160Z",
     "shell.execute_reply": "2023-11-09T17:41:25.510025Z"
    },
    "papermill": {
     "duration": 0.179125,
     "end_time": "2023-11-09T17:41:25.513658",
     "exception": false,
     "start_time": "2023-11-09T17:41:25.334533",
     "status": "completed"
    },
    "tags": []
   },
   "outputs": [
    {
     "data": {
      "text/html": [
       "<style>#sk-container-id-3 {color: black;background-color: white;}#sk-container-id-3 pre{padding: 0;}#sk-container-id-3 div.sk-toggleable {background-color: white;}#sk-container-id-3 label.sk-toggleable__label {cursor: pointer;display: block;width: 100%;margin-bottom: 0;padding: 0.3em;box-sizing: border-box;text-align: center;}#sk-container-id-3 label.sk-toggleable__label-arrow:before {content: \"▸\";float: left;margin-right: 0.25em;color: #696969;}#sk-container-id-3 label.sk-toggleable__label-arrow:hover:before {color: black;}#sk-container-id-3 div.sk-estimator:hover label.sk-toggleable__label-arrow:before {color: black;}#sk-container-id-3 div.sk-toggleable__content {max-height: 0;max-width: 0;overflow: hidden;text-align: left;background-color: #f0f8ff;}#sk-container-id-3 div.sk-toggleable__content pre {margin: 0.2em;color: black;border-radius: 0.25em;background-color: #f0f8ff;}#sk-container-id-3 input.sk-toggleable__control:checked~div.sk-toggleable__content {max-height: 200px;max-width: 100%;overflow: auto;}#sk-container-id-3 input.sk-toggleable__control:checked~label.sk-toggleable__label-arrow:before {content: \"▾\";}#sk-container-id-3 div.sk-estimator input.sk-toggleable__control:checked~label.sk-toggleable__label {background-color: #d4ebff;}#sk-container-id-3 div.sk-label input.sk-toggleable__control:checked~label.sk-toggleable__label {background-color: #d4ebff;}#sk-container-id-3 input.sk-hidden--visually {border: 0;clip: rect(1px 1px 1px 1px);clip: rect(1px, 1px, 1px, 1px);height: 1px;margin: -1px;overflow: hidden;padding: 0;position: absolute;width: 1px;}#sk-container-id-3 div.sk-estimator {font-family: monospace;background-color: #f0f8ff;border: 1px dotted black;border-radius: 0.25em;box-sizing: border-box;margin-bottom: 0.5em;}#sk-container-id-3 div.sk-estimator:hover {background-color: #d4ebff;}#sk-container-id-3 div.sk-parallel-item::after {content: \"\";width: 100%;border-bottom: 1px solid gray;flex-grow: 1;}#sk-container-id-3 div.sk-label:hover label.sk-toggleable__label {background-color: #d4ebff;}#sk-container-id-3 div.sk-serial::before {content: \"\";position: absolute;border-left: 1px solid gray;box-sizing: border-box;top: 0;bottom: 0;left: 50%;z-index: 0;}#sk-container-id-3 div.sk-serial {display: flex;flex-direction: column;align-items: center;background-color: white;padding-right: 0.2em;padding-left: 0.2em;position: relative;}#sk-container-id-3 div.sk-item {position: relative;z-index: 1;}#sk-container-id-3 div.sk-parallel {display: flex;align-items: stretch;justify-content: center;background-color: white;position: relative;}#sk-container-id-3 div.sk-item::before, #sk-container-id-3 div.sk-parallel-item::before {content: \"\";position: absolute;border-left: 1px solid gray;box-sizing: border-box;top: 0;bottom: 0;left: 50%;z-index: -1;}#sk-container-id-3 div.sk-parallel-item {display: flex;flex-direction: column;z-index: 1;position: relative;background-color: white;}#sk-container-id-3 div.sk-parallel-item:first-child::after {align-self: flex-end;width: 50%;}#sk-container-id-3 div.sk-parallel-item:last-child::after {align-self: flex-start;width: 50%;}#sk-container-id-3 div.sk-parallel-item:only-child::after {width: 0;}#sk-container-id-3 div.sk-dashed-wrapped {border: 1px dashed gray;margin: 0 0.4em 0.5em 0.4em;box-sizing: border-box;padding-bottom: 0.4em;background-color: white;}#sk-container-id-3 div.sk-label label {font-family: monospace;font-weight: bold;display: inline-block;line-height: 1.2em;}#sk-container-id-3 div.sk-label-container {text-align: center;}#sk-container-id-3 div.sk-container {/* jupyter's `normalize.less` sets `[hidden] { display: none; }` but bootstrap.min.css set `[hidden] { display: none !important; }` so we also need the `!important` here to be able to override the default hidden behavior on the sphinx rendered scikit-learn.org. See: https://github.com/scikit-learn/scikit-learn/issues/21755 */display: inline-block !important;position: relative;}#sk-container-id-3 div.sk-text-repr-fallback {display: none;}</style><div id=\"sk-container-id-3\" class=\"sk-top-container\"><div class=\"sk-text-repr-fallback\"><pre>GradientBoostingRegressor()</pre><b>In a Jupyter environment, please rerun this cell to show the HTML representation or trust the notebook. <br />On GitHub, the HTML representation is unable to render, please try loading this page with nbviewer.org.</b></div><div class=\"sk-container\" hidden><div class=\"sk-item\"><div class=\"sk-estimator sk-toggleable\"><input class=\"sk-toggleable__control sk-hidden--visually\" id=\"sk-estimator-id-3\" type=\"checkbox\" checked><label for=\"sk-estimator-id-3\" class=\"sk-toggleable__label sk-toggleable__label-arrow\">GradientBoostingRegressor</label><div class=\"sk-toggleable__content\"><pre>GradientBoostingRegressor()</pre></div></div></div></div></div>"
      ],
      "text/plain": [
       "GradientBoostingRegressor()"
      ]
     },
     "execution_count": 54,
     "metadata": {},
     "output_type": "execute_result"
    }
   ],
   "source": [
    "gr=GradientBoostingRegressor()\n",
    "gr.fit(x,y)"
   ]
  },
  {
   "cell_type": "code",
   "execution_count": 55,
   "id": "c4e90c19",
   "metadata": {
    "execution": {
     "iopub.execute_input": "2023-11-09T17:41:25.562743Z",
     "iopub.status.busy": "2023-11-09T17:41:25.561823Z",
     "iopub.status.idle": "2023-11-09T17:41:25.568459Z",
     "shell.execute_reply": "2023-11-09T17:41:25.566576Z"
    },
    "papermill": {
     "duration": 0.033642,
     "end_time": "2023-11-09T17:41:25.570795",
     "exception": false,
     "start_time": "2023-11-09T17:41:25.537153",
     "status": "completed"
    },
    "tags": []
   },
   "outputs": [],
   "source": [
    "import joblib"
   ]
  },
  {
   "cell_type": "code",
   "execution_count": 56,
   "id": "afda5340",
   "metadata": {
    "execution": {
     "iopub.execute_input": "2023-11-09T17:41:25.620023Z",
     "iopub.status.busy": "2023-11-09T17:41:25.619164Z",
     "iopub.status.idle": "2023-11-09T17:41:25.631822Z",
     "shell.execute_reply": "2023-11-09T17:41:25.630938Z"
    },
    "papermill": {
     "duration": 0.039756,
     "end_time": "2023-11-09T17:41:25.634263",
     "exception": false,
     "start_time": "2023-11-09T17:41:25.594507",
     "status": "completed"
    },
    "tags": []
   },
   "outputs": [
    {
     "data": {
      "text/plain": [
       "['model_joblib_gr']"
      ]
     },
     "execution_count": 56,
     "metadata": {},
     "output_type": "execute_result"
    }
   ],
   "source": [
    "joblib.dump(gr,'model_joblib_gr')"
   ]
  },
  {
   "cell_type": "code",
   "execution_count": 57,
   "id": "51f76dbf",
   "metadata": {
    "execution": {
     "iopub.execute_input": "2023-11-09T17:41:25.684077Z",
     "iopub.status.busy": "2023-11-09T17:41:25.683318Z",
     "iopub.status.idle": "2023-11-09T17:41:25.694867Z",
     "shell.execute_reply": "2023-11-09T17:41:25.694014Z"
    },
    "papermill": {
     "duration": 0.039257,
     "end_time": "2023-11-09T17:41:25.697223",
     "exception": false,
     "start_time": "2023-11-09T17:41:25.657966",
     "status": "completed"
    },
    "tags": []
   },
   "outputs": [],
   "source": [
    "model1=joblib.load('model_joblib_gr')"
   ]
  },
  {
   "cell_type": "code",
   "execution_count": 58,
   "id": "172c3e39",
   "metadata": {
    "execution": {
     "iopub.execute_input": "2023-11-09T17:41:25.749564Z",
     "iopub.status.busy": "2023-11-09T17:41:25.748759Z",
     "iopub.status.idle": "2023-11-09T17:41:25.758103Z",
     "shell.execute_reply": "2023-11-09T17:41:25.757023Z"
    },
    "papermill": {
     "duration": 0.037139,
     "end_time": "2023-11-09T17:41:25.760259",
     "exception": false,
     "start_time": "2023-11-09T17:41:25.723120",
     "status": "completed"
    },
    "tags": []
   },
   "outputs": [
    {
     "data": {
      "text/plain": [
       "array([10565.7790616])"
      ]
     },
     "execution_count": 58,
     "metadata": {},
     "output_type": "execute_result"
    }
   ],
   "source": [
    "model1.predict(df)"
   ]
  },
  {
   "cell_type": "code",
   "execution_count": 59,
   "id": "69be6289",
   "metadata": {
    "execution": {
     "iopub.execute_input": "2023-11-09T17:41:25.809827Z",
     "iopub.status.busy": "2023-11-09T17:41:25.809460Z",
     "iopub.status.idle": "2023-11-09T17:41:26.228203Z",
     "shell.execute_reply": "2023-11-09T17:41:26.226984Z"
    },
    "papermill": {
     "duration": 0.446416,
     "end_time": "2023-11-09T17:41:26.230591",
     "exception": false,
     "start_time": "2023-11-09T17:41:25.784175",
     "status": "completed"
    },
    "tags": []
   },
   "outputs": [
    {
     "data": {
      "text/html": [
       "<style>#sk-container-id-4 {color: black;background-color: white;}#sk-container-id-4 pre{padding: 0;}#sk-container-id-4 div.sk-toggleable {background-color: white;}#sk-container-id-4 label.sk-toggleable__label {cursor: pointer;display: block;width: 100%;margin-bottom: 0;padding: 0.3em;box-sizing: border-box;text-align: center;}#sk-container-id-4 label.sk-toggleable__label-arrow:before {content: \"▸\";float: left;margin-right: 0.25em;color: #696969;}#sk-container-id-4 label.sk-toggleable__label-arrow:hover:before {color: black;}#sk-container-id-4 div.sk-estimator:hover label.sk-toggleable__label-arrow:before {color: black;}#sk-container-id-4 div.sk-toggleable__content {max-height: 0;max-width: 0;overflow: hidden;text-align: left;background-color: #f0f8ff;}#sk-container-id-4 div.sk-toggleable__content pre {margin: 0.2em;color: black;border-radius: 0.25em;background-color: #f0f8ff;}#sk-container-id-4 input.sk-toggleable__control:checked~div.sk-toggleable__content {max-height: 200px;max-width: 100%;overflow: auto;}#sk-container-id-4 input.sk-toggleable__control:checked~label.sk-toggleable__label-arrow:before {content: \"▾\";}#sk-container-id-4 div.sk-estimator input.sk-toggleable__control:checked~label.sk-toggleable__label {background-color: #d4ebff;}#sk-container-id-4 div.sk-label input.sk-toggleable__control:checked~label.sk-toggleable__label {background-color: #d4ebff;}#sk-container-id-4 input.sk-hidden--visually {border: 0;clip: rect(1px 1px 1px 1px);clip: rect(1px, 1px, 1px, 1px);height: 1px;margin: -1px;overflow: hidden;padding: 0;position: absolute;width: 1px;}#sk-container-id-4 div.sk-estimator {font-family: monospace;background-color: #f0f8ff;border: 1px dotted black;border-radius: 0.25em;box-sizing: border-box;margin-bottom: 0.5em;}#sk-container-id-4 div.sk-estimator:hover {background-color: #d4ebff;}#sk-container-id-4 div.sk-parallel-item::after {content: \"\";width: 100%;border-bottom: 1px solid gray;flex-grow: 1;}#sk-container-id-4 div.sk-label:hover label.sk-toggleable__label {background-color: #d4ebff;}#sk-container-id-4 div.sk-serial::before {content: \"\";position: absolute;border-left: 1px solid gray;box-sizing: border-box;top: 0;bottom: 0;left: 50%;z-index: 0;}#sk-container-id-4 div.sk-serial {display: flex;flex-direction: column;align-items: center;background-color: white;padding-right: 0.2em;padding-left: 0.2em;position: relative;}#sk-container-id-4 div.sk-item {position: relative;z-index: 1;}#sk-container-id-4 div.sk-parallel {display: flex;align-items: stretch;justify-content: center;background-color: white;position: relative;}#sk-container-id-4 div.sk-item::before, #sk-container-id-4 div.sk-parallel-item::before {content: \"\";position: absolute;border-left: 1px solid gray;box-sizing: border-box;top: 0;bottom: 0;left: 50%;z-index: -1;}#sk-container-id-4 div.sk-parallel-item {display: flex;flex-direction: column;z-index: 1;position: relative;background-color: white;}#sk-container-id-4 div.sk-parallel-item:first-child::after {align-self: flex-end;width: 50%;}#sk-container-id-4 div.sk-parallel-item:last-child::after {align-self: flex-start;width: 50%;}#sk-container-id-4 div.sk-parallel-item:only-child::after {width: 0;}#sk-container-id-4 div.sk-dashed-wrapped {border: 1px dashed gray;margin: 0 0.4em 0.5em 0.4em;box-sizing: border-box;padding-bottom: 0.4em;background-color: white;}#sk-container-id-4 div.sk-label label {font-family: monospace;font-weight: bold;display: inline-block;line-height: 1.2em;}#sk-container-id-4 div.sk-label-container {text-align: center;}#sk-container-id-4 div.sk-container {/* jupyter's `normalize.less` sets `[hidden] { display: none; }` but bootstrap.min.css set `[hidden] { display: none !important; }` so we also need the `!important` here to be able to override the default hidden behavior on the sphinx rendered scikit-learn.org. See: https://github.com/scikit-learn/scikit-learn/issues/21755 */display: inline-block !important;position: relative;}#sk-container-id-4 div.sk-text-repr-fallback {display: none;}</style><div id=\"sk-container-id-4\" class=\"sk-top-container\"><div class=\"sk-text-repr-fallback\"><pre>RandomForestRegressor()</pre><b>In a Jupyter environment, please rerun this cell to show the HTML representation or trust the notebook. <br />On GitHub, the HTML representation is unable to render, please try loading this page with nbviewer.org.</b></div><div class=\"sk-container\" hidden><div class=\"sk-item\"><div class=\"sk-estimator sk-toggleable\"><input class=\"sk-toggleable__control sk-hidden--visually\" id=\"sk-estimator-id-4\" type=\"checkbox\" checked><label for=\"sk-estimator-id-4\" class=\"sk-toggleable__label sk-toggleable__label-arrow\">RandomForestRegressor</label><div class=\"sk-toggleable__content\"><pre>RandomForestRegressor()</pre></div></div></div></div></div>"
      ],
      "text/plain": [
       "RandomForestRegressor()"
      ]
     },
     "execution_count": 59,
     "metadata": {},
     "output_type": "execute_result"
    }
   ],
   "source": [
    "rf=RandomForestRegressor()\n",
    "rf.fit(x,y)"
   ]
  },
  {
   "cell_type": "code",
   "execution_count": 60,
   "id": "284684b3",
   "metadata": {
    "execution": {
     "iopub.execute_input": "2023-11-09T17:41:26.281330Z",
     "iopub.status.busy": "2023-11-09T17:41:26.280094Z",
     "iopub.status.idle": "2023-11-09T17:41:26.343541Z",
     "shell.execute_reply": "2023-11-09T17:41:26.342355Z"
    },
    "papermill": {
     "duration": 0.091229,
     "end_time": "2023-11-09T17:41:26.346005",
     "exception": false,
     "start_time": "2023-11-09T17:41:26.254776",
     "status": "completed"
    },
    "tags": []
   },
   "outputs": [
    {
     "data": {
      "text/plain": [
       "['model_joblib_rf']"
      ]
     },
     "execution_count": 60,
     "metadata": {},
     "output_type": "execute_result"
    }
   ],
   "source": [
    "joblib.dump(rf,'model_joblib_rf')"
   ]
  },
  {
   "cell_type": "code",
   "execution_count": 61,
   "id": "ca3b65ca",
   "metadata": {
    "execution": {
     "iopub.execute_input": "2023-11-09T17:41:26.396045Z",
     "iopub.status.busy": "2023-11-09T17:41:26.395669Z",
     "iopub.status.idle": "2023-11-09T17:41:26.455813Z",
     "shell.execute_reply": "2023-11-09T17:41:26.454638Z"
    },
    "papermill": {
     "duration": 0.088045,
     "end_time": "2023-11-09T17:41:26.458451",
     "exception": false,
     "start_time": "2023-11-09T17:41:26.370406",
     "status": "completed"
    },
    "tags": []
   },
   "outputs": [],
   "source": [
    "model2=joblib.load('model_joblib_rf')"
   ]
  },
  {
   "cell_type": "code",
   "execution_count": 62,
   "id": "be1f115f",
   "metadata": {
    "execution": {
     "iopub.execute_input": "2023-11-09T17:41:26.508919Z",
     "iopub.status.busy": "2023-11-09T17:41:26.508329Z",
     "iopub.status.idle": "2023-11-09T17:41:26.520506Z",
     "shell.execute_reply": "2023-11-09T17:41:26.519600Z"
    },
    "papermill": {
     "duration": 0.040022,
     "end_time": "2023-11-09T17:41:26.522679",
     "exception": false,
     "start_time": "2023-11-09T17:41:26.482657",
     "status": "completed"
    },
    "tags": []
   },
   "outputs": [
    {
     "data": {
      "text/plain": [
       "array([14570.3756066])"
      ]
     },
     "execution_count": 62,
     "metadata": {},
     "output_type": "execute_result"
    }
   ],
   "source": [
    "model2.predict(df)"
   ]
  },
  {
   "cell_type": "code",
   "execution_count": 63,
   "id": "0b841c77",
   "metadata": {
    "execution": {
     "iopub.execute_input": "2023-11-09T17:41:26.573692Z",
     "iopub.status.busy": "2023-11-09T17:41:26.573054Z",
     "iopub.status.idle": "2023-11-09T17:41:26.672519Z",
     "shell.execute_reply": "2023-11-09T17:41:26.671612Z"
    },
    "papermill": {
     "duration": 0.127422,
     "end_time": "2023-11-09T17:41:26.674805",
     "exception": false,
     "start_time": "2023-11-09T17:41:26.547383",
     "status": "completed"
    },
    "tags": []
   },
   "outputs": [
    {
     "data": {
      "text/html": [
       "<style>#sk-container-id-5 {color: black;background-color: white;}#sk-container-id-5 pre{padding: 0;}#sk-container-id-5 div.sk-toggleable {background-color: white;}#sk-container-id-5 label.sk-toggleable__label {cursor: pointer;display: block;width: 100%;margin-bottom: 0;padding: 0.3em;box-sizing: border-box;text-align: center;}#sk-container-id-5 label.sk-toggleable__label-arrow:before {content: \"▸\";float: left;margin-right: 0.25em;color: #696969;}#sk-container-id-5 label.sk-toggleable__label-arrow:hover:before {color: black;}#sk-container-id-5 div.sk-estimator:hover label.sk-toggleable__label-arrow:before {color: black;}#sk-container-id-5 div.sk-toggleable__content {max-height: 0;max-width: 0;overflow: hidden;text-align: left;background-color: #f0f8ff;}#sk-container-id-5 div.sk-toggleable__content pre {margin: 0.2em;color: black;border-radius: 0.25em;background-color: #f0f8ff;}#sk-container-id-5 input.sk-toggleable__control:checked~div.sk-toggleable__content {max-height: 200px;max-width: 100%;overflow: auto;}#sk-container-id-5 input.sk-toggleable__control:checked~label.sk-toggleable__label-arrow:before {content: \"▾\";}#sk-container-id-5 div.sk-estimator input.sk-toggleable__control:checked~label.sk-toggleable__label {background-color: #d4ebff;}#sk-container-id-5 div.sk-label input.sk-toggleable__control:checked~label.sk-toggleable__label {background-color: #d4ebff;}#sk-container-id-5 input.sk-hidden--visually {border: 0;clip: rect(1px 1px 1px 1px);clip: rect(1px, 1px, 1px, 1px);height: 1px;margin: -1px;overflow: hidden;padding: 0;position: absolute;width: 1px;}#sk-container-id-5 div.sk-estimator {font-family: monospace;background-color: #f0f8ff;border: 1px dotted black;border-radius: 0.25em;box-sizing: border-box;margin-bottom: 0.5em;}#sk-container-id-5 div.sk-estimator:hover {background-color: #d4ebff;}#sk-container-id-5 div.sk-parallel-item::after {content: \"\";width: 100%;border-bottom: 1px solid gray;flex-grow: 1;}#sk-container-id-5 div.sk-label:hover label.sk-toggleable__label {background-color: #d4ebff;}#sk-container-id-5 div.sk-serial::before {content: \"\";position: absolute;border-left: 1px solid gray;box-sizing: border-box;top: 0;bottom: 0;left: 50%;z-index: 0;}#sk-container-id-5 div.sk-serial {display: flex;flex-direction: column;align-items: center;background-color: white;padding-right: 0.2em;padding-left: 0.2em;position: relative;}#sk-container-id-5 div.sk-item {position: relative;z-index: 1;}#sk-container-id-5 div.sk-parallel {display: flex;align-items: stretch;justify-content: center;background-color: white;position: relative;}#sk-container-id-5 div.sk-item::before, #sk-container-id-5 div.sk-parallel-item::before {content: \"\";position: absolute;border-left: 1px solid gray;box-sizing: border-box;top: 0;bottom: 0;left: 50%;z-index: -1;}#sk-container-id-5 div.sk-parallel-item {display: flex;flex-direction: column;z-index: 1;position: relative;background-color: white;}#sk-container-id-5 div.sk-parallel-item:first-child::after {align-self: flex-end;width: 50%;}#sk-container-id-5 div.sk-parallel-item:last-child::after {align-self: flex-start;width: 50%;}#sk-container-id-5 div.sk-parallel-item:only-child::after {width: 0;}#sk-container-id-5 div.sk-dashed-wrapped {border: 1px dashed gray;margin: 0 0.4em 0.5em 0.4em;box-sizing: border-box;padding-bottom: 0.4em;background-color: white;}#sk-container-id-5 div.sk-label label {font-family: monospace;font-weight: bold;display: inline-block;line-height: 1.2em;}#sk-container-id-5 div.sk-label-container {text-align: center;}#sk-container-id-5 div.sk-container {/* jupyter's `normalize.less` sets `[hidden] { display: none; }` but bootstrap.min.css set `[hidden] { display: none !important; }` so we also need the `!important` here to be able to override the default hidden behavior on the sphinx rendered scikit-learn.org. See: https://github.com/scikit-learn/scikit-learn/issues/21755 */display: inline-block !important;position: relative;}#sk-container-id-5 div.sk-text-repr-fallback {display: none;}</style><div id=\"sk-container-id-5\" class=\"sk-top-container\"><div class=\"sk-text-repr-fallback\"><pre>SVR()</pre><b>In a Jupyter environment, please rerun this cell to show the HTML representation or trust the notebook. <br />On GitHub, the HTML representation is unable to render, please try loading this page with nbviewer.org.</b></div><div class=\"sk-container\" hidden><div class=\"sk-item\"><div class=\"sk-estimator sk-toggleable\"><input class=\"sk-toggleable__control sk-hidden--visually\" id=\"sk-estimator-id-5\" type=\"checkbox\" checked><label for=\"sk-estimator-id-5\" class=\"sk-toggleable__label sk-toggleable__label-arrow\">SVR</label><div class=\"sk-toggleable__content\"><pre>SVR()</pre></div></div></div></div></div>"
      ],
      "text/plain": [
       "SVR()"
      ]
     },
     "execution_count": 63,
     "metadata": {},
     "output_type": "execute_result"
    }
   ],
   "source": [
    "svm= SVR()\n",
    "svm.fit(x,y)"
   ]
  },
  {
   "cell_type": "code",
   "execution_count": 64,
   "id": "952d8c38",
   "metadata": {
    "execution": {
     "iopub.execute_input": "2023-11-09T17:41:26.726577Z",
     "iopub.status.busy": "2023-11-09T17:41:26.725965Z",
     "iopub.status.idle": "2023-11-09T17:41:26.733422Z",
     "shell.execute_reply": "2023-11-09T17:41:26.732555Z"
    },
    "papermill": {
     "duration": 0.035579,
     "end_time": "2023-11-09T17:41:26.735597",
     "exception": false,
     "start_time": "2023-11-09T17:41:26.700018",
     "status": "completed"
    },
    "tags": []
   },
   "outputs": [
    {
     "data": {
      "text/plain": [
       "['model_joblib_svm']"
      ]
     },
     "execution_count": 64,
     "metadata": {},
     "output_type": "execute_result"
    }
   ],
   "source": [
    "joblib.dump(svm,'model_joblib_svm')"
   ]
  },
  {
   "cell_type": "code",
   "execution_count": 65,
   "id": "a6f7648b",
   "metadata": {
    "execution": {
     "iopub.execute_input": "2023-11-09T17:41:26.787027Z",
     "iopub.status.busy": "2023-11-09T17:41:26.786430Z",
     "iopub.status.idle": "2023-11-09T17:41:26.791718Z",
     "shell.execute_reply": "2023-11-09T17:41:26.790926Z"
    },
    "papermill": {
     "duration": 0.033136,
     "end_time": "2023-11-09T17:41:26.793726",
     "exception": false,
     "start_time": "2023-11-09T17:41:26.760590",
     "status": "completed"
    },
    "tags": []
   },
   "outputs": [],
   "source": [
    "model3=joblib.load('model_joblib_svm')"
   ]
  },
  {
   "cell_type": "code",
   "execution_count": 66,
   "id": "8d4e7458",
   "metadata": {
    "execution": {
     "iopub.execute_input": "2023-11-09T17:41:26.844970Z",
     "iopub.status.busy": "2023-11-09T17:41:26.844267Z",
     "iopub.status.idle": "2023-11-09T17:41:26.851883Z",
     "shell.execute_reply": "2023-11-09T17:41:26.851123Z"
    },
    "papermill": {
     "duration": 0.035682,
     "end_time": "2023-11-09T17:41:26.853976",
     "exception": false,
     "start_time": "2023-11-09T17:41:26.818294",
     "status": "completed"
    },
    "tags": []
   },
   "outputs": [
    {
     "data": {
      "text/plain": [
       "array([9294.33947106])"
      ]
     },
     "execution_count": 66,
     "metadata": {},
     "output_type": "execute_result"
    }
   ],
   "source": [
    "model3.predict(df)"
   ]
  }
 ],
 "metadata": {
  "kernelspec": {
   "display_name": "Python 3",
   "language": "python",
   "name": "python3"
  },
  "language_info": {
   "codemirror_mode": {
    "name": "ipython",
    "version": 3
   },
   "file_extension": ".py",
   "mimetype": "text/x-python",
   "name": "python",
   "nbconvert_exporter": "python",
   "pygments_lexer": "ipython3",
   "version": "3.10.12"
  },
  "papermill": {
   "default_parameters": {},
   "duration": 15.501168,
   "end_time": "2023-11-09T17:41:27.499706",
   "environment_variables": {},
   "exception": null,
   "input_path": "__notebook__.ipynb",
   "output_path": "__notebook__.ipynb",
   "parameters": {},
   "start_time": "2023-11-09T17:41:11.998538",
   "version": "2.4.0"
  }
 },
 "nbformat": 4,
 "nbformat_minor": 5
}
