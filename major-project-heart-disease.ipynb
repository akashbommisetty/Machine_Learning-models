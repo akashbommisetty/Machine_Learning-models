{
 "cells": [
  {
   "cell_type": "code",
   "execution_count": 1,
   "id": "ca4707ab",
   "metadata": {
    "_cell_guid": "b1076dfc-b9ad-4769-8c92-a6c4dae69d19",
    "_uuid": "8f2839f25d086af736a60e9eeb907d3b93b6e0e5",
    "execution": {
     "iopub.execute_input": "2023-11-18T16:44:03.993430Z",
     "iopub.status.busy": "2023-11-18T16:44:03.993010Z",
     "iopub.status.idle": "2023-11-18T16:44:04.436922Z",
     "shell.execute_reply": "2023-11-18T16:44:04.435473Z"
    },
    "papermill": {
     "duration": 0.469863,
     "end_time": "2023-11-18T16:44:04.439658",
     "exception": false,
     "start_time": "2023-11-18T16:44:03.969795",
     "status": "completed"
    },
    "tags": []
   },
   "outputs": [
    {
     "name": "stdout",
     "output_type": "stream",
     "text": [
      "/kaggle/input/heart-failure-prediction/heart.csv\n"
     ]
    }
   ],
   "source": [
    "# This Python 3 environment comes with many helpful analytics libraries installed\n",
    "# It is defined by the kaggle/python Docker image: https://github.com/kaggle/docker-python\n",
    "# For example, here's several helpful packages to load\n",
    "\n",
    "import numpy as np # linear algebra\n",
    "import pandas as pd # data processing, CSV file I/O (e.g. pd.read_csv)\n",
    "\n",
    "# Input data files are available in the read-only \"../input/\" directory\n",
    "# For example, running this (by clicking run or pressing Shift+Enter) will list all files under the input directory\n",
    "\n",
    "import os\n",
    "for dirname, _, filenames in os.walk('/kaggle/input'):\n",
    "    for filename in filenames:\n",
    "        print(os.path.join(dirname, filename))\n",
    "\n",
    "# You can write up to 20GB to the current directory (/kaggle/working/) that gets preserved as output when you create a version using \"Save & Run All\" \n",
    "# You can also write temporary files to /kaggle/temp/, but they won't be saved outside of the current session"
   ]
  },
  {
   "cell_type": "code",
   "execution_count": 2,
   "id": "07c68299",
   "metadata": {
    "execution": {
     "iopub.execute_input": "2023-11-18T16:44:04.482690Z",
     "iopub.status.busy": "2023-11-18T16:44:04.482122Z",
     "iopub.status.idle": "2023-11-18T16:44:06.377546Z",
     "shell.execute_reply": "2023-11-18T16:44:06.376644Z"
    },
    "papermill": {
     "duration": 1.9207,
     "end_time": "2023-11-18T16:44:06.381047",
     "exception": false,
     "start_time": "2023-11-18T16:44:04.460347",
     "status": "completed"
    },
    "tags": []
   },
   "outputs": [],
   "source": [
    "import numpy as np\n",
    "import pandas as pd\n",
    "import matplotlib.pyplot as plt\n",
    "import seaborn as sns\n",
    "from sklearn.model_selection import train_test_split\n",
    "from sklearn.linear_model import LogisticRegression\n",
    "from sklearn.metrics import accuracy_score\n",
    "from sklearn import metrics"
   ]
  },
  {
   "cell_type": "code",
   "execution_count": 3,
   "id": "73c8b6f4",
   "metadata": {
    "execution": {
     "iopub.execute_input": "2023-11-18T16:44:06.429261Z",
     "iopub.status.busy": "2023-11-18T16:44:06.428551Z",
     "iopub.status.idle": "2023-11-18T16:44:06.452883Z",
     "shell.execute_reply": "2023-11-18T16:44:06.451841Z"
    },
    "papermill": {
     "duration": 0.049241,
     "end_time": "2023-11-18T16:44:06.455484",
     "exception": false,
     "start_time": "2023-11-18T16:44:06.406243",
     "status": "completed"
    },
    "tags": []
   },
   "outputs": [],
   "source": [
    "data=pd.read_csv('/kaggle/input/heart-failure-prediction/heart.csv')"
   ]
  },
  {
   "cell_type": "code",
   "execution_count": 4,
   "id": "ae9137ab",
   "metadata": {
    "execution": {
     "iopub.execute_input": "2023-11-18T16:44:06.499298Z",
     "iopub.status.busy": "2023-11-18T16:44:06.498590Z",
     "iopub.status.idle": "2023-11-18T16:44:06.528723Z",
     "shell.execute_reply": "2023-11-18T16:44:06.527531Z"
    },
    "papermill": {
     "duration": 0.055145,
     "end_time": "2023-11-18T16:44:06.531398",
     "exception": false,
     "start_time": "2023-11-18T16:44:06.476253",
     "status": "completed"
    },
    "tags": []
   },
   "outputs": [
    {
     "data": {
      "text/html": [
       "<div>\n",
       "<style scoped>\n",
       "    .dataframe tbody tr th:only-of-type {\n",
       "        vertical-align: middle;\n",
       "    }\n",
       "\n",
       "    .dataframe tbody tr th {\n",
       "        vertical-align: top;\n",
       "    }\n",
       "\n",
       "    .dataframe thead th {\n",
       "        text-align: right;\n",
       "    }\n",
       "</style>\n",
       "<table border=\"1\" class=\"dataframe\">\n",
       "  <thead>\n",
       "    <tr style=\"text-align: right;\">\n",
       "      <th></th>\n",
       "      <th>Age</th>\n",
       "      <th>Sex</th>\n",
       "      <th>ChestPainType</th>\n",
       "      <th>RestingBP</th>\n",
       "      <th>Cholesterol</th>\n",
       "      <th>FastingBS</th>\n",
       "      <th>RestingECG</th>\n",
       "      <th>MaxHR</th>\n",
       "      <th>ExerciseAngina</th>\n",
       "      <th>Oldpeak</th>\n",
       "      <th>ST_Slope</th>\n",
       "      <th>HeartDisease</th>\n",
       "    </tr>\n",
       "  </thead>\n",
       "  <tbody>\n",
       "    <tr>\n",
       "      <th>0</th>\n",
       "      <td>40</td>\n",
       "      <td>M</td>\n",
       "      <td>ATA</td>\n",
       "      <td>140</td>\n",
       "      <td>289</td>\n",
       "      <td>0</td>\n",
       "      <td>Normal</td>\n",
       "      <td>172</td>\n",
       "      <td>N</td>\n",
       "      <td>0.0</td>\n",
       "      <td>Up</td>\n",
       "      <td>0</td>\n",
       "    </tr>\n",
       "    <tr>\n",
       "      <th>1</th>\n",
       "      <td>49</td>\n",
       "      <td>F</td>\n",
       "      <td>NAP</td>\n",
       "      <td>160</td>\n",
       "      <td>180</td>\n",
       "      <td>0</td>\n",
       "      <td>Normal</td>\n",
       "      <td>156</td>\n",
       "      <td>N</td>\n",
       "      <td>1.0</td>\n",
       "      <td>Flat</td>\n",
       "      <td>1</td>\n",
       "    </tr>\n",
       "    <tr>\n",
       "      <th>2</th>\n",
       "      <td>37</td>\n",
       "      <td>M</td>\n",
       "      <td>ATA</td>\n",
       "      <td>130</td>\n",
       "      <td>283</td>\n",
       "      <td>0</td>\n",
       "      <td>ST</td>\n",
       "      <td>98</td>\n",
       "      <td>N</td>\n",
       "      <td>0.0</td>\n",
       "      <td>Up</td>\n",
       "      <td>0</td>\n",
       "    </tr>\n",
       "    <tr>\n",
       "      <th>3</th>\n",
       "      <td>48</td>\n",
       "      <td>F</td>\n",
       "      <td>ASY</td>\n",
       "      <td>138</td>\n",
       "      <td>214</td>\n",
       "      <td>0</td>\n",
       "      <td>Normal</td>\n",
       "      <td>108</td>\n",
       "      <td>Y</td>\n",
       "      <td>1.5</td>\n",
       "      <td>Flat</td>\n",
       "      <td>1</td>\n",
       "    </tr>\n",
       "    <tr>\n",
       "      <th>4</th>\n",
       "      <td>54</td>\n",
       "      <td>M</td>\n",
       "      <td>NAP</td>\n",
       "      <td>150</td>\n",
       "      <td>195</td>\n",
       "      <td>0</td>\n",
       "      <td>Normal</td>\n",
       "      <td>122</td>\n",
       "      <td>N</td>\n",
       "      <td>0.0</td>\n",
       "      <td>Up</td>\n",
       "      <td>0</td>\n",
       "    </tr>\n",
       "  </tbody>\n",
       "</table>\n",
       "</div>"
      ],
      "text/plain": [
       "   Age Sex ChestPainType  RestingBP  Cholesterol  FastingBS RestingECG  MaxHR  \\\n",
       "0   40   M           ATA        140          289          0     Normal    172   \n",
       "1   49   F           NAP        160          180          0     Normal    156   \n",
       "2   37   M           ATA        130          283          0         ST     98   \n",
       "3   48   F           ASY        138          214          0     Normal    108   \n",
       "4   54   M           NAP        150          195          0     Normal    122   \n",
       "\n",
       "  ExerciseAngina  Oldpeak ST_Slope  HeartDisease  \n",
       "0              N      0.0       Up             0  \n",
       "1              N      1.0     Flat             1  \n",
       "2              N      0.0       Up             0  \n",
       "3              Y      1.5     Flat             1  \n",
       "4              N      0.0       Up             0  "
      ]
     },
     "execution_count": 4,
     "metadata": {},
     "output_type": "execute_result"
    }
   ],
   "source": [
    "data.head()"
   ]
  },
  {
   "cell_type": "code",
   "execution_count": 5,
   "id": "e57a233a",
   "metadata": {
    "execution": {
     "iopub.execute_input": "2023-11-18T16:44:06.575395Z",
     "iopub.status.busy": "2023-11-18T16:44:06.574705Z",
     "iopub.status.idle": "2023-11-18T16:44:06.581818Z",
     "shell.execute_reply": "2023-11-18T16:44:06.580652Z"
    },
    "papermill": {
     "duration": 0.031808,
     "end_time": "2023-11-18T16:44:06.584013",
     "exception": false,
     "start_time": "2023-11-18T16:44:06.552205",
     "status": "completed"
    },
    "tags": []
   },
   "outputs": [
    {
     "data": {
      "text/plain": [
       "(918, 12)"
      ]
     },
     "execution_count": 5,
     "metadata": {},
     "output_type": "execute_result"
    }
   ],
   "source": [
    "data.shape"
   ]
  },
  {
   "cell_type": "code",
   "execution_count": 6,
   "id": "32b869a3",
   "metadata": {
    "execution": {
     "iopub.execute_input": "2023-11-18T16:44:06.628173Z",
     "iopub.status.busy": "2023-11-18T16:44:06.627477Z",
     "iopub.status.idle": "2023-11-18T16:44:06.643749Z",
     "shell.execute_reply": "2023-11-18T16:44:06.642618Z"
    },
    "papermill": {
     "duration": 0.041176,
     "end_time": "2023-11-18T16:44:06.646104",
     "exception": false,
     "start_time": "2023-11-18T16:44:06.604928",
     "status": "completed"
    },
    "tags": []
   },
   "outputs": [
    {
     "data": {
      "text/html": [
       "<div>\n",
       "<style scoped>\n",
       "    .dataframe tbody tr th:only-of-type {\n",
       "        vertical-align: middle;\n",
       "    }\n",
       "\n",
       "    .dataframe tbody tr th {\n",
       "        vertical-align: top;\n",
       "    }\n",
       "\n",
       "    .dataframe thead th {\n",
       "        text-align: right;\n",
       "    }\n",
       "</style>\n",
       "<table border=\"1\" class=\"dataframe\">\n",
       "  <thead>\n",
       "    <tr style=\"text-align: right;\">\n",
       "      <th></th>\n",
       "      <th>Age</th>\n",
       "      <th>Sex</th>\n",
       "      <th>ChestPainType</th>\n",
       "      <th>RestingBP</th>\n",
       "      <th>Cholesterol</th>\n",
       "      <th>FastingBS</th>\n",
       "      <th>RestingECG</th>\n",
       "      <th>MaxHR</th>\n",
       "      <th>ExerciseAngina</th>\n",
       "      <th>Oldpeak</th>\n",
       "      <th>ST_Slope</th>\n",
       "      <th>HeartDisease</th>\n",
       "    </tr>\n",
       "  </thead>\n",
       "  <tbody>\n",
       "    <tr>\n",
       "      <th>913</th>\n",
       "      <td>45</td>\n",
       "      <td>M</td>\n",
       "      <td>TA</td>\n",
       "      <td>110</td>\n",
       "      <td>264</td>\n",
       "      <td>0</td>\n",
       "      <td>Normal</td>\n",
       "      <td>132</td>\n",
       "      <td>N</td>\n",
       "      <td>1.2</td>\n",
       "      <td>Flat</td>\n",
       "      <td>1</td>\n",
       "    </tr>\n",
       "    <tr>\n",
       "      <th>914</th>\n",
       "      <td>68</td>\n",
       "      <td>M</td>\n",
       "      <td>ASY</td>\n",
       "      <td>144</td>\n",
       "      <td>193</td>\n",
       "      <td>1</td>\n",
       "      <td>Normal</td>\n",
       "      <td>141</td>\n",
       "      <td>N</td>\n",
       "      <td>3.4</td>\n",
       "      <td>Flat</td>\n",
       "      <td>1</td>\n",
       "    </tr>\n",
       "    <tr>\n",
       "      <th>915</th>\n",
       "      <td>57</td>\n",
       "      <td>M</td>\n",
       "      <td>ASY</td>\n",
       "      <td>130</td>\n",
       "      <td>131</td>\n",
       "      <td>0</td>\n",
       "      <td>Normal</td>\n",
       "      <td>115</td>\n",
       "      <td>Y</td>\n",
       "      <td>1.2</td>\n",
       "      <td>Flat</td>\n",
       "      <td>1</td>\n",
       "    </tr>\n",
       "    <tr>\n",
       "      <th>916</th>\n",
       "      <td>57</td>\n",
       "      <td>F</td>\n",
       "      <td>ATA</td>\n",
       "      <td>130</td>\n",
       "      <td>236</td>\n",
       "      <td>0</td>\n",
       "      <td>LVH</td>\n",
       "      <td>174</td>\n",
       "      <td>N</td>\n",
       "      <td>0.0</td>\n",
       "      <td>Flat</td>\n",
       "      <td>1</td>\n",
       "    </tr>\n",
       "    <tr>\n",
       "      <th>917</th>\n",
       "      <td>38</td>\n",
       "      <td>M</td>\n",
       "      <td>NAP</td>\n",
       "      <td>138</td>\n",
       "      <td>175</td>\n",
       "      <td>0</td>\n",
       "      <td>Normal</td>\n",
       "      <td>173</td>\n",
       "      <td>N</td>\n",
       "      <td>0.0</td>\n",
       "      <td>Up</td>\n",
       "      <td>0</td>\n",
       "    </tr>\n",
       "  </tbody>\n",
       "</table>\n",
       "</div>"
      ],
      "text/plain": [
       "     Age Sex ChestPainType  RestingBP  Cholesterol  FastingBS RestingECG  \\\n",
       "913   45   M            TA        110          264          0     Normal   \n",
       "914   68   M           ASY        144          193          1     Normal   \n",
       "915   57   M           ASY        130          131          0     Normal   \n",
       "916   57   F           ATA        130          236          0        LVH   \n",
       "917   38   M           NAP        138          175          0     Normal   \n",
       "\n",
       "     MaxHR ExerciseAngina  Oldpeak ST_Slope  HeartDisease  \n",
       "913    132              N      1.2     Flat             1  \n",
       "914    141              N      3.4     Flat             1  \n",
       "915    115              Y      1.2     Flat             1  \n",
       "916    174              N      0.0     Flat             1  \n",
       "917    173              N      0.0       Up             0  "
      ]
     },
     "execution_count": 6,
     "metadata": {},
     "output_type": "execute_result"
    }
   ],
   "source": [
    "data.tail()"
   ]
  },
  {
   "cell_type": "code",
   "execution_count": 7,
   "id": "999a4127",
   "metadata": {
    "execution": {
     "iopub.execute_input": "2023-11-18T16:44:06.692810Z",
     "iopub.status.busy": "2023-11-18T16:44:06.692126Z",
     "iopub.status.idle": "2023-11-18T16:44:06.720626Z",
     "shell.execute_reply": "2023-11-18T16:44:06.719455Z"
    },
    "papermill": {
     "duration": 0.055943,
     "end_time": "2023-11-18T16:44:06.723345",
     "exception": false,
     "start_time": "2023-11-18T16:44:06.667402",
     "status": "completed"
    },
    "tags": []
   },
   "outputs": [
    {
     "name": "stdout",
     "output_type": "stream",
     "text": [
      "<class 'pandas.core.frame.DataFrame'>\n",
      "RangeIndex: 918 entries, 0 to 917\n",
      "Data columns (total 12 columns):\n",
      " #   Column          Non-Null Count  Dtype  \n",
      "---  ------          --------------  -----  \n",
      " 0   Age             918 non-null    int64  \n",
      " 1   Sex             918 non-null    object \n",
      " 2   ChestPainType   918 non-null    object \n",
      " 3   RestingBP       918 non-null    int64  \n",
      " 4   Cholesterol     918 non-null    int64  \n",
      " 5   FastingBS       918 non-null    int64  \n",
      " 6   RestingECG      918 non-null    object \n",
      " 7   MaxHR           918 non-null    int64  \n",
      " 8   ExerciseAngina  918 non-null    object \n",
      " 9   Oldpeak         918 non-null    float64\n",
      " 10  ST_Slope        918 non-null    object \n",
      " 11  HeartDisease    918 non-null    int64  \n",
      "dtypes: float64(1), int64(6), object(5)\n",
      "memory usage: 86.2+ KB\n"
     ]
    }
   ],
   "source": [
    "data.info()"
   ]
  },
  {
   "cell_type": "code",
   "execution_count": 8,
   "id": "2b9a9052",
   "metadata": {
    "execution": {
     "iopub.execute_input": "2023-11-18T16:44:06.767664Z",
     "iopub.status.busy": "2023-11-18T16:44:06.766989Z",
     "iopub.status.idle": "2023-11-18T16:44:06.776352Z",
     "shell.execute_reply": "2023-11-18T16:44:06.775159Z"
    },
    "papermill": {
     "duration": 0.034143,
     "end_time": "2023-11-18T16:44:06.778608",
     "exception": false,
     "start_time": "2023-11-18T16:44:06.744465",
     "status": "completed"
    },
    "tags": []
   },
   "outputs": [
    {
     "data": {
      "text/plain": [
       "Age               0\n",
       "Sex               0\n",
       "ChestPainType     0\n",
       "RestingBP         0\n",
       "Cholesterol       0\n",
       "FastingBS         0\n",
       "RestingECG        0\n",
       "MaxHR             0\n",
       "ExerciseAngina    0\n",
       "Oldpeak           0\n",
       "ST_Slope          0\n",
       "HeartDisease      0\n",
       "dtype: int64"
      ]
     },
     "execution_count": 8,
     "metadata": {},
     "output_type": "execute_result"
    }
   ],
   "source": [
    "data.isnull().sum()"
   ]
  },
  {
   "cell_type": "code",
   "execution_count": 9,
   "id": "706ba193",
   "metadata": {
    "execution": {
     "iopub.execute_input": "2023-11-18T16:44:06.823256Z",
     "iopub.status.busy": "2023-11-18T16:44:06.822543Z",
     "iopub.status.idle": "2023-11-18T16:44:06.842292Z",
     "shell.execute_reply": "2023-11-18T16:44:06.841266Z"
    },
    "papermill": {
     "duration": 0.045019,
     "end_time": "2023-11-18T16:44:06.844893",
     "exception": false,
     "start_time": "2023-11-18T16:44:06.799874",
     "status": "completed"
    },
    "tags": []
   },
   "outputs": [],
   "source": [
    "data.replace({'Sex':{'M':0,'F':1}},inplace=True)\n",
    "data.replace({'ChestPainType':{'ATA':0,'NAP':1,'ASY':2,'TA':3}},inplace=True)\n",
    "data.replace({'RestingECG':{'Normal':0,'LVH':1,'ST':2}},inplace=True)\n",
    "data.replace({'ExerciseAngina':{'N':0,'Y':1}},inplace=True)\n",
    "data.replace({'ST_Slope':{'Up':0,'Flat':1,'Down':2}},inplace=True)"
   ]
  },
  {
   "cell_type": "code",
   "execution_count": 10,
   "id": "26a554c7",
   "metadata": {
    "execution": {
     "iopub.execute_input": "2023-11-18T16:44:06.889813Z",
     "iopub.status.busy": "2023-11-18T16:44:06.889318Z",
     "iopub.status.idle": "2023-11-18T16:44:06.906013Z",
     "shell.execute_reply": "2023-11-18T16:44:06.904866Z"
    },
    "papermill": {
     "duration": 0.041721,
     "end_time": "2023-11-18T16:44:06.908256",
     "exception": false,
     "start_time": "2023-11-18T16:44:06.866535",
     "status": "completed"
    },
    "tags": []
   },
   "outputs": [
    {
     "data": {
      "text/html": [
       "<div>\n",
       "<style scoped>\n",
       "    .dataframe tbody tr th:only-of-type {\n",
       "        vertical-align: middle;\n",
       "    }\n",
       "\n",
       "    .dataframe tbody tr th {\n",
       "        vertical-align: top;\n",
       "    }\n",
       "\n",
       "    .dataframe thead th {\n",
       "        text-align: right;\n",
       "    }\n",
       "</style>\n",
       "<table border=\"1\" class=\"dataframe\">\n",
       "  <thead>\n",
       "    <tr style=\"text-align: right;\">\n",
       "      <th></th>\n",
       "      <th>Age</th>\n",
       "      <th>Sex</th>\n",
       "      <th>ChestPainType</th>\n",
       "      <th>RestingBP</th>\n",
       "      <th>Cholesterol</th>\n",
       "      <th>FastingBS</th>\n",
       "      <th>RestingECG</th>\n",
       "      <th>MaxHR</th>\n",
       "      <th>ExerciseAngina</th>\n",
       "      <th>Oldpeak</th>\n",
       "      <th>ST_Slope</th>\n",
       "      <th>HeartDisease</th>\n",
       "    </tr>\n",
       "  </thead>\n",
       "  <tbody>\n",
       "    <tr>\n",
       "      <th>0</th>\n",
       "      <td>40</td>\n",
       "      <td>0</td>\n",
       "      <td>0</td>\n",
       "      <td>140</td>\n",
       "      <td>289</td>\n",
       "      <td>0</td>\n",
       "      <td>0</td>\n",
       "      <td>172</td>\n",
       "      <td>0</td>\n",
       "      <td>0.0</td>\n",
       "      <td>0</td>\n",
       "      <td>0</td>\n",
       "    </tr>\n",
       "    <tr>\n",
       "      <th>1</th>\n",
       "      <td>49</td>\n",
       "      <td>1</td>\n",
       "      <td>1</td>\n",
       "      <td>160</td>\n",
       "      <td>180</td>\n",
       "      <td>0</td>\n",
       "      <td>0</td>\n",
       "      <td>156</td>\n",
       "      <td>0</td>\n",
       "      <td>1.0</td>\n",
       "      <td>1</td>\n",
       "      <td>1</td>\n",
       "    </tr>\n",
       "    <tr>\n",
       "      <th>2</th>\n",
       "      <td>37</td>\n",
       "      <td>0</td>\n",
       "      <td>0</td>\n",
       "      <td>130</td>\n",
       "      <td>283</td>\n",
       "      <td>0</td>\n",
       "      <td>2</td>\n",
       "      <td>98</td>\n",
       "      <td>0</td>\n",
       "      <td>0.0</td>\n",
       "      <td>0</td>\n",
       "      <td>0</td>\n",
       "    </tr>\n",
       "    <tr>\n",
       "      <th>3</th>\n",
       "      <td>48</td>\n",
       "      <td>1</td>\n",
       "      <td>2</td>\n",
       "      <td>138</td>\n",
       "      <td>214</td>\n",
       "      <td>0</td>\n",
       "      <td>0</td>\n",
       "      <td>108</td>\n",
       "      <td>1</td>\n",
       "      <td>1.5</td>\n",
       "      <td>1</td>\n",
       "      <td>1</td>\n",
       "    </tr>\n",
       "    <tr>\n",
       "      <th>4</th>\n",
       "      <td>54</td>\n",
       "      <td>0</td>\n",
       "      <td>1</td>\n",
       "      <td>150</td>\n",
       "      <td>195</td>\n",
       "      <td>0</td>\n",
       "      <td>0</td>\n",
       "      <td>122</td>\n",
       "      <td>0</td>\n",
       "      <td>0.0</td>\n",
       "      <td>0</td>\n",
       "      <td>0</td>\n",
       "    </tr>\n",
       "  </tbody>\n",
       "</table>\n",
       "</div>"
      ],
      "text/plain": [
       "   Age  Sex  ChestPainType  RestingBP  Cholesterol  FastingBS  RestingECG  \\\n",
       "0   40    0              0        140          289          0           0   \n",
       "1   49    1              1        160          180          0           0   \n",
       "2   37    0              0        130          283          0           2   \n",
       "3   48    1              2        138          214          0           0   \n",
       "4   54    0              1        150          195          0           0   \n",
       "\n",
       "   MaxHR  ExerciseAngina  Oldpeak  ST_Slope  HeartDisease  \n",
       "0    172               0      0.0         0             0  \n",
       "1    156               0      1.0         1             1  \n",
       "2     98               0      0.0         0             0  \n",
       "3    108               1      1.5         1             1  \n",
       "4    122               0      0.0         0             0  "
      ]
     },
     "execution_count": 10,
     "metadata": {},
     "output_type": "execute_result"
    }
   ],
   "source": [
    "data.head()"
   ]
  },
  {
   "cell_type": "code",
   "execution_count": 11,
   "id": "dd8f969b",
   "metadata": {
    "execution": {
     "iopub.execute_input": "2023-11-18T16:44:06.953788Z",
     "iopub.status.busy": "2023-11-18T16:44:06.953087Z",
     "iopub.status.idle": "2023-11-18T16:44:06.968482Z",
     "shell.execute_reply": "2023-11-18T16:44:06.967341Z"
    },
    "papermill": {
     "duration": 0.040908,
     "end_time": "2023-11-18T16:44:06.970802",
     "exception": false,
     "start_time": "2023-11-18T16:44:06.929894",
     "status": "completed"
    },
    "tags": []
   },
   "outputs": [
    {
     "data": {
      "text/html": [
       "<div>\n",
       "<style scoped>\n",
       "    .dataframe tbody tr th:only-of-type {\n",
       "        vertical-align: middle;\n",
       "    }\n",
       "\n",
       "    .dataframe tbody tr th {\n",
       "        vertical-align: top;\n",
       "    }\n",
       "\n",
       "    .dataframe thead th {\n",
       "        text-align: right;\n",
       "    }\n",
       "</style>\n",
       "<table border=\"1\" class=\"dataframe\">\n",
       "  <thead>\n",
       "    <tr style=\"text-align: right;\">\n",
       "      <th></th>\n",
       "      <th>Age</th>\n",
       "      <th>Sex</th>\n",
       "      <th>ChestPainType</th>\n",
       "      <th>RestingBP</th>\n",
       "      <th>Cholesterol</th>\n",
       "      <th>FastingBS</th>\n",
       "      <th>RestingECG</th>\n",
       "      <th>MaxHR</th>\n",
       "      <th>ExerciseAngina</th>\n",
       "      <th>Oldpeak</th>\n",
       "      <th>ST_Slope</th>\n",
       "      <th>HeartDisease</th>\n",
       "    </tr>\n",
       "  </thead>\n",
       "  <tbody>\n",
       "    <tr>\n",
       "      <th>913</th>\n",
       "      <td>45</td>\n",
       "      <td>0</td>\n",
       "      <td>3</td>\n",
       "      <td>110</td>\n",
       "      <td>264</td>\n",
       "      <td>0</td>\n",
       "      <td>0</td>\n",
       "      <td>132</td>\n",
       "      <td>0</td>\n",
       "      <td>1.2</td>\n",
       "      <td>1</td>\n",
       "      <td>1</td>\n",
       "    </tr>\n",
       "    <tr>\n",
       "      <th>914</th>\n",
       "      <td>68</td>\n",
       "      <td>0</td>\n",
       "      <td>2</td>\n",
       "      <td>144</td>\n",
       "      <td>193</td>\n",
       "      <td>1</td>\n",
       "      <td>0</td>\n",
       "      <td>141</td>\n",
       "      <td>0</td>\n",
       "      <td>3.4</td>\n",
       "      <td>1</td>\n",
       "      <td>1</td>\n",
       "    </tr>\n",
       "    <tr>\n",
       "      <th>915</th>\n",
       "      <td>57</td>\n",
       "      <td>0</td>\n",
       "      <td>2</td>\n",
       "      <td>130</td>\n",
       "      <td>131</td>\n",
       "      <td>0</td>\n",
       "      <td>0</td>\n",
       "      <td>115</td>\n",
       "      <td>1</td>\n",
       "      <td>1.2</td>\n",
       "      <td>1</td>\n",
       "      <td>1</td>\n",
       "    </tr>\n",
       "    <tr>\n",
       "      <th>916</th>\n",
       "      <td>57</td>\n",
       "      <td>1</td>\n",
       "      <td>0</td>\n",
       "      <td>130</td>\n",
       "      <td>236</td>\n",
       "      <td>0</td>\n",
       "      <td>1</td>\n",
       "      <td>174</td>\n",
       "      <td>0</td>\n",
       "      <td>0.0</td>\n",
       "      <td>1</td>\n",
       "      <td>1</td>\n",
       "    </tr>\n",
       "    <tr>\n",
       "      <th>917</th>\n",
       "      <td>38</td>\n",
       "      <td>0</td>\n",
       "      <td>1</td>\n",
       "      <td>138</td>\n",
       "      <td>175</td>\n",
       "      <td>0</td>\n",
       "      <td>0</td>\n",
       "      <td>173</td>\n",
       "      <td>0</td>\n",
       "      <td>0.0</td>\n",
       "      <td>0</td>\n",
       "      <td>0</td>\n",
       "    </tr>\n",
       "  </tbody>\n",
       "</table>\n",
       "</div>"
      ],
      "text/plain": [
       "     Age  Sex  ChestPainType  RestingBP  Cholesterol  FastingBS  RestingECG  \\\n",
       "913   45    0              3        110          264          0           0   \n",
       "914   68    0              2        144          193          1           0   \n",
       "915   57    0              2        130          131          0           0   \n",
       "916   57    1              0        130          236          0           1   \n",
       "917   38    0              1        138          175          0           0   \n",
       "\n",
       "     MaxHR  ExerciseAngina  Oldpeak  ST_Slope  HeartDisease  \n",
       "913    132               0      1.2         1             1  \n",
       "914    141               0      3.4         1             1  \n",
       "915    115               1      1.2         1             1  \n",
       "916    174               0      0.0         1             1  \n",
       "917    173               0      0.0         0             0  "
      ]
     },
     "execution_count": 11,
     "metadata": {},
     "output_type": "execute_result"
    }
   ],
   "source": [
    "data.tail()"
   ]
  },
  {
   "cell_type": "code",
   "execution_count": 12,
   "id": "7ff09a03",
   "metadata": {
    "execution": {
     "iopub.execute_input": "2023-11-18T16:44:07.080319Z",
     "iopub.status.busy": "2023-11-18T16:44:07.079638Z",
     "iopub.status.idle": "2023-11-18T16:44:07.128500Z",
     "shell.execute_reply": "2023-11-18T16:44:07.127316Z"
    },
    "papermill": {
     "duration": 0.076468,
     "end_time": "2023-11-18T16:44:07.131062",
     "exception": false,
     "start_time": "2023-11-18T16:44:07.054594",
     "status": "completed"
    },
    "tags": []
   },
   "outputs": [
    {
     "data": {
      "text/html": [
       "<div>\n",
       "<style scoped>\n",
       "    .dataframe tbody tr th:only-of-type {\n",
       "        vertical-align: middle;\n",
       "    }\n",
       "\n",
       "    .dataframe tbody tr th {\n",
       "        vertical-align: top;\n",
       "    }\n",
       "\n",
       "    .dataframe thead th {\n",
       "        text-align: right;\n",
       "    }\n",
       "</style>\n",
       "<table border=\"1\" class=\"dataframe\">\n",
       "  <thead>\n",
       "    <tr style=\"text-align: right;\">\n",
       "      <th></th>\n",
       "      <th>Age</th>\n",
       "      <th>Sex</th>\n",
       "      <th>ChestPainType</th>\n",
       "      <th>RestingBP</th>\n",
       "      <th>Cholesterol</th>\n",
       "      <th>FastingBS</th>\n",
       "      <th>RestingECG</th>\n",
       "      <th>MaxHR</th>\n",
       "      <th>ExerciseAngina</th>\n",
       "      <th>Oldpeak</th>\n",
       "      <th>ST_Slope</th>\n",
       "      <th>HeartDisease</th>\n",
       "    </tr>\n",
       "  </thead>\n",
       "  <tbody>\n",
       "    <tr>\n",
       "      <th>count</th>\n",
       "      <td>918.000000</td>\n",
       "      <td>918.000000</td>\n",
       "      <td>918.000000</td>\n",
       "      <td>918.000000</td>\n",
       "      <td>918.000000</td>\n",
       "      <td>918.000000</td>\n",
       "      <td>918.000000</td>\n",
       "      <td>918.000000</td>\n",
       "      <td>918.000000</td>\n",
       "      <td>918.000000</td>\n",
       "      <td>918.000000</td>\n",
       "      <td>918.000000</td>\n",
       "    </tr>\n",
       "    <tr>\n",
       "      <th>mean</th>\n",
       "      <td>53.510893</td>\n",
       "      <td>0.210240</td>\n",
       "      <td>1.452070</td>\n",
       "      <td>132.396514</td>\n",
       "      <td>198.799564</td>\n",
       "      <td>0.233115</td>\n",
       "      <td>0.592593</td>\n",
       "      <td>136.809368</td>\n",
       "      <td>0.404139</td>\n",
       "      <td>0.887364</td>\n",
       "      <td>0.638344</td>\n",
       "      <td>0.553377</td>\n",
       "    </tr>\n",
       "    <tr>\n",
       "      <th>std</th>\n",
       "      <td>9.432617</td>\n",
       "      <td>0.407701</td>\n",
       "      <td>0.851832</td>\n",
       "      <td>18.514154</td>\n",
       "      <td>109.384145</td>\n",
       "      <td>0.423046</td>\n",
       "      <td>0.793670</td>\n",
       "      <td>25.460334</td>\n",
       "      <td>0.490992</td>\n",
       "      <td>1.066570</td>\n",
       "      <td>0.607056</td>\n",
       "      <td>0.497414</td>\n",
       "    </tr>\n",
       "    <tr>\n",
       "      <th>min</th>\n",
       "      <td>28.000000</td>\n",
       "      <td>0.000000</td>\n",
       "      <td>0.000000</td>\n",
       "      <td>0.000000</td>\n",
       "      <td>0.000000</td>\n",
       "      <td>0.000000</td>\n",
       "      <td>0.000000</td>\n",
       "      <td>60.000000</td>\n",
       "      <td>0.000000</td>\n",
       "      <td>-2.600000</td>\n",
       "      <td>0.000000</td>\n",
       "      <td>0.000000</td>\n",
       "    </tr>\n",
       "    <tr>\n",
       "      <th>25%</th>\n",
       "      <td>47.000000</td>\n",
       "      <td>0.000000</td>\n",
       "      <td>1.000000</td>\n",
       "      <td>120.000000</td>\n",
       "      <td>173.250000</td>\n",
       "      <td>0.000000</td>\n",
       "      <td>0.000000</td>\n",
       "      <td>120.000000</td>\n",
       "      <td>0.000000</td>\n",
       "      <td>0.000000</td>\n",
       "      <td>0.000000</td>\n",
       "      <td>0.000000</td>\n",
       "    </tr>\n",
       "    <tr>\n",
       "      <th>50%</th>\n",
       "      <td>54.000000</td>\n",
       "      <td>0.000000</td>\n",
       "      <td>2.000000</td>\n",
       "      <td>130.000000</td>\n",
       "      <td>223.000000</td>\n",
       "      <td>0.000000</td>\n",
       "      <td>0.000000</td>\n",
       "      <td>138.000000</td>\n",
       "      <td>0.000000</td>\n",
       "      <td>0.600000</td>\n",
       "      <td>1.000000</td>\n",
       "      <td>1.000000</td>\n",
       "    </tr>\n",
       "    <tr>\n",
       "      <th>75%</th>\n",
       "      <td>60.000000</td>\n",
       "      <td>0.000000</td>\n",
       "      <td>2.000000</td>\n",
       "      <td>140.000000</td>\n",
       "      <td>267.000000</td>\n",
       "      <td>0.000000</td>\n",
       "      <td>1.000000</td>\n",
       "      <td>156.000000</td>\n",
       "      <td>1.000000</td>\n",
       "      <td>1.500000</td>\n",
       "      <td>1.000000</td>\n",
       "      <td>1.000000</td>\n",
       "    </tr>\n",
       "    <tr>\n",
       "      <th>max</th>\n",
       "      <td>77.000000</td>\n",
       "      <td>1.000000</td>\n",
       "      <td>3.000000</td>\n",
       "      <td>200.000000</td>\n",
       "      <td>603.000000</td>\n",
       "      <td>1.000000</td>\n",
       "      <td>2.000000</td>\n",
       "      <td>202.000000</td>\n",
       "      <td>1.000000</td>\n",
       "      <td>6.200000</td>\n",
       "      <td>2.000000</td>\n",
       "      <td>1.000000</td>\n",
       "    </tr>\n",
       "  </tbody>\n",
       "</table>\n",
       "</div>"
      ],
      "text/plain": [
       "              Age         Sex  ChestPainType   RestingBP  Cholesterol  \\\n",
       "count  918.000000  918.000000     918.000000  918.000000   918.000000   \n",
       "mean    53.510893    0.210240       1.452070  132.396514   198.799564   \n",
       "std      9.432617    0.407701       0.851832   18.514154   109.384145   \n",
       "min     28.000000    0.000000       0.000000    0.000000     0.000000   \n",
       "25%     47.000000    0.000000       1.000000  120.000000   173.250000   \n",
       "50%     54.000000    0.000000       2.000000  130.000000   223.000000   \n",
       "75%     60.000000    0.000000       2.000000  140.000000   267.000000   \n",
       "max     77.000000    1.000000       3.000000  200.000000   603.000000   \n",
       "\n",
       "        FastingBS  RestingECG       MaxHR  ExerciseAngina     Oldpeak  \\\n",
       "count  918.000000  918.000000  918.000000      918.000000  918.000000   \n",
       "mean     0.233115    0.592593  136.809368        0.404139    0.887364   \n",
       "std      0.423046    0.793670   25.460334        0.490992    1.066570   \n",
       "min      0.000000    0.000000   60.000000        0.000000   -2.600000   \n",
       "25%      0.000000    0.000000  120.000000        0.000000    0.000000   \n",
       "50%      0.000000    0.000000  138.000000        0.000000    0.600000   \n",
       "75%      0.000000    1.000000  156.000000        1.000000    1.500000   \n",
       "max      1.000000    2.000000  202.000000        1.000000    6.200000   \n",
       "\n",
       "         ST_Slope  HeartDisease  \n",
       "count  918.000000    918.000000  \n",
       "mean     0.638344      0.553377  \n",
       "std      0.607056      0.497414  \n",
       "min      0.000000      0.000000  \n",
       "25%      0.000000      0.000000  \n",
       "50%      1.000000      1.000000  \n",
       "75%      1.000000      1.000000  \n",
       "max      2.000000      1.000000  "
      ]
     },
     "execution_count": 12,
     "metadata": {},
     "output_type": "execute_result"
    }
   ],
   "source": [
    "data.describe()"
   ]
  },
  {
   "cell_type": "code",
   "execution_count": 13,
   "id": "c9109af4",
   "metadata": {
    "execution": {
     "iopub.execute_input": "2023-11-18T16:44:07.178912Z",
     "iopub.status.busy": "2023-11-18T16:44:07.178237Z",
     "iopub.status.idle": "2023-11-18T16:44:07.185821Z",
     "shell.execute_reply": "2023-11-18T16:44:07.184875Z"
    },
    "papermill": {
     "duration": 0.03436,
     "end_time": "2023-11-18T16:44:07.187973",
     "exception": false,
     "start_time": "2023-11-18T16:44:07.153613",
     "status": "completed"
    },
    "tags": []
   },
   "outputs": [
    {
     "data": {
      "text/plain": [
       "HeartDisease\n",
       "1    508\n",
       "0    410\n",
       "Name: count, dtype: int64"
      ]
     },
     "execution_count": 13,
     "metadata": {},
     "output_type": "execute_result"
    }
   ],
   "source": [
    "data['HeartDisease'].value_counts()"
   ]
  },
  {
   "cell_type": "code",
   "execution_count": 14,
   "id": "0d7249f6",
   "metadata": {
    "execution": {
     "iopub.execute_input": "2023-11-18T16:44:07.235828Z",
     "iopub.status.busy": "2023-11-18T16:44:07.234745Z",
     "iopub.status.idle": "2023-11-18T16:44:07.244294Z",
     "shell.execute_reply": "2023-11-18T16:44:07.243042Z"
    },
    "papermill": {
     "duration": 0.036215,
     "end_time": "2023-11-18T16:44:07.246887",
     "exception": false,
     "start_time": "2023-11-18T16:44:07.210672",
     "status": "completed"
    },
    "tags": []
   },
   "outputs": [],
   "source": [
    "x=data.drop(columns='HeartDisease',axis=1)\n",
    "y=data['HeartDisease']"
   ]
  },
  {
   "cell_type": "code",
   "execution_count": 15,
   "id": "7c7d8a4b",
   "metadata": {
    "execution": {
     "iopub.execute_input": "2023-11-18T16:44:07.296854Z",
     "iopub.status.busy": "2023-11-18T16:44:07.296412Z",
     "iopub.status.idle": "2023-11-18T16:44:07.309096Z",
     "shell.execute_reply": "2023-11-18T16:44:07.307659Z"
    },
    "papermill": {
     "duration": 0.041445,
     "end_time": "2023-11-18T16:44:07.311991",
     "exception": false,
     "start_time": "2023-11-18T16:44:07.270546",
     "status": "completed"
    },
    "tags": []
   },
   "outputs": [
    {
     "name": "stdout",
     "output_type": "stream",
     "text": [
      "     Age  Sex  ChestPainType  RestingBP  Cholesterol  FastingBS  RestingECG  \\\n",
      "0     40    0              0        140          289          0           0   \n",
      "1     49    1              1        160          180          0           0   \n",
      "2     37    0              0        130          283          0           2   \n",
      "3     48    1              2        138          214          0           0   \n",
      "4     54    0              1        150          195          0           0   \n",
      "..   ...  ...            ...        ...          ...        ...         ...   \n",
      "913   45    0              3        110          264          0           0   \n",
      "914   68    0              2        144          193          1           0   \n",
      "915   57    0              2        130          131          0           0   \n",
      "916   57    1              0        130          236          0           1   \n",
      "917   38    0              1        138          175          0           0   \n",
      "\n",
      "     MaxHR  ExerciseAngina  Oldpeak  ST_Slope  \n",
      "0      172               0      0.0         0  \n",
      "1      156               0      1.0         1  \n",
      "2       98               0      0.0         0  \n",
      "3      108               1      1.5         1  \n",
      "4      122               0      0.0         0  \n",
      "..     ...             ...      ...       ...  \n",
      "913    132               0      1.2         1  \n",
      "914    141               0      3.4         1  \n",
      "915    115               1      1.2         1  \n",
      "916    174               0      0.0         1  \n",
      "917    173               0      0.0         0  \n",
      "\n",
      "[918 rows x 11 columns]\n"
     ]
    }
   ],
   "source": [
    "print(x)"
   ]
  },
  {
   "cell_type": "code",
   "execution_count": 16,
   "id": "3ea1a317",
   "metadata": {
    "execution": {
     "iopub.execute_input": "2023-11-18T16:44:07.359990Z",
     "iopub.status.busy": "2023-11-18T16:44:07.359586Z",
     "iopub.status.idle": "2023-11-18T16:44:07.366820Z",
     "shell.execute_reply": "2023-11-18T16:44:07.365588Z"
    },
    "papermill": {
     "duration": 0.034533,
     "end_time": "2023-11-18T16:44:07.369598",
     "exception": false,
     "start_time": "2023-11-18T16:44:07.335065",
     "status": "completed"
    },
    "tags": []
   },
   "outputs": [
    {
     "name": "stdout",
     "output_type": "stream",
     "text": [
      "0      0\n",
      "1      1\n",
      "2      0\n",
      "3      1\n",
      "4      0\n",
      "      ..\n",
      "913    1\n",
      "914    1\n",
      "915    1\n",
      "916    1\n",
      "917    0\n",
      "Name: HeartDisease, Length: 918, dtype: int64\n"
     ]
    }
   ],
   "source": [
    "print(y)"
   ]
  },
  {
   "cell_type": "code",
   "execution_count": 17,
   "id": "3e6c6d0a",
   "metadata": {
    "execution": {
     "iopub.execute_input": "2023-11-18T16:44:07.419532Z",
     "iopub.status.busy": "2023-11-18T16:44:07.419102Z",
     "iopub.status.idle": "2023-11-18T16:44:07.949290Z",
     "shell.execute_reply": "2023-11-18T16:44:07.948055Z"
    },
    "papermill": {
     "duration": 0.559183,
     "end_time": "2023-11-18T16:44:07.951984",
     "exception": false,
     "start_time": "2023-11-18T16:44:07.392801",
     "status": "completed"
    },
    "tags": []
   },
   "outputs": [
    {
     "name": "stderr",
     "output_type": "stream",
     "text": [
      "/tmp/ipykernel_20/1043644215.py:3: UserWarning: \n",
      "\n",
      "`distplot` is a deprecated function and will be removed in seaborn v0.14.0.\n",
      "\n",
      "Please adapt your code to use either `displot` (a figure-level function with\n",
      "similar flexibility) or `histplot` (an axes-level function for histograms).\n",
      "\n",
      "For a guide to updating your code to use the new functions, please see\n",
      "https://gist.github.com/mwaskom/de44147ed2974457ad6372750bbe5751\n",
      "\n",
      "  sns.distplot(data['Age'])\n"
     ]
    },
    {
     "data": {
      "image/png": "[encoded data removed]",
      "text/plain": [
       "<Figure size 600x600 with 1 Axes>"
      ]
     },
     "metadata": {},
     "output_type": "display_data"
    }
   ],
   "source": [
    "sns.set()\n",
    "plt.figure(figsize=(6,6))\n",
    "sns.distplot(data['Age'])\n",
    "plt.title('AgeGraph')\n",
    "plt.show()"
   ]
  },
  {
   "cell_type": "code",
   "execution_count": 18,
   "id": "d65d8474",
   "metadata": {
    "execution": {
     "iopub.execute_input": "2023-11-18T16:44:08.002681Z",
     "iopub.status.busy": "2023-11-18T16:44:08.002213Z",
     "iopub.status.idle": "2023-11-18T16:44:08.290061Z",
     "shell.execute_reply": "2023-11-18T16:44:08.288965Z"
    },
    "papermill": {
     "duration": 0.315581,
     "end_time": "2023-11-18T16:44:08.292352",
     "exception": false,
     "start_time": "2023-11-18T16:44:07.976771",
     "status": "completed"
    },
    "tags": []
   },
   "outputs": [
    {
     "data": {
      "image/png": "[encoded data removed]",
      "text/plain": [
       "<Figure size 600x600 with 1 Axes>"
      ]
     },
     "metadata": {},
     "output_type": "display_data"
    }
   ],
   "source": [
    "plt.figure(figsize=(6,6))\n",
    "sns.countplot(x='Sex',data=data)\n",
    "plt.title('SexGraph')\n",
    "plt.show()"
   ]
  },
  {
   "cell_type": "code",
   "execution_count": 19,
   "id": "13cf4383",
   "metadata": {
    "execution": {
     "iopub.execute_input": "2023-11-18T16:44:08.343469Z",
     "iopub.status.busy": "2023-11-18T16:44:08.343022Z",
     "iopub.status.idle": "2023-11-18T16:44:08.776553Z",
     "shell.execute_reply": "2023-11-18T16:44:08.775337Z"
    },
    "papermill": {
     "duration": 0.462108,
     "end_time": "2023-11-18T16:44:08.778884",
     "exception": false,
     "start_time": "2023-11-18T16:44:08.316776",
     "status": "completed"
    },
    "tags": []
   },
   "outputs": [
    {
     "name": "stderr",
     "output_type": "stream",
     "text": [
      "/tmp/ipykernel_20/4070823255.py:2: UserWarning: \n",
      "\n",
      "`distplot` is a deprecated function and will be removed in seaborn v0.14.0.\n",
      "\n",
      "Please adapt your code to use either `displot` (a figure-level function with\n",
      "similar flexibility) or `histplot` (an axes-level function for histograms).\n",
      "\n",
      "For a guide to updating your code to use the new functions, please see\n",
      "https://gist.github.com/mwaskom/de44147ed2974457ad6372750bbe5751\n",
      "\n",
      "  sns.distplot(data['ChestPainType'])\n"
     ]
    },
    {
     "data": {
      "image/png": "[encoded data removed]",
      "text/plain": [
       "<Figure size 600x600 with 1 Axes>"
      ]
     },
     "metadata": {},
     "output_type": "display_data"
    }
   ],
   "source": [
    "plt.figure(figsize=(6,6))\n",
    "sns.distplot(data['ChestPainType'])\n",
    "plt.title('CPT Graph')\n",
    "plt.show()"
   ]
  },
  {
   "cell_type": "code",
   "execution_count": 20,
   "id": "cf5ab46a",
   "metadata": {
    "execution": {
     "iopub.execute_input": "2023-11-18T16:44:08.830368Z",
     "iopub.status.busy": "2023-11-18T16:44:08.829912Z",
     "iopub.status.idle": "2023-11-18T16:44:09.427702Z",
     "shell.execute_reply": "2023-11-18T16:44:09.426381Z"
    },
    "papermill": {
     "duration": 0.627313,
     "end_time": "2023-11-18T16:44:09.431046",
     "exception": false,
     "start_time": "2023-11-18T16:44:08.803733",
     "status": "completed"
    },
    "tags": []
   },
   "outputs": [
    {
     "name": "stderr",
     "output_type": "stream",
     "text": [
      "/tmp/ipykernel_20/3840489968.py:2: UserWarning: \n",
      "\n",
      "`distplot` is a deprecated function and will be removed in seaborn v0.14.0.\n",
      "\n",
      "Please adapt your code to use either `displot` (a figure-level function with\n",
      "similar flexibility) or `histplot` (an axes-level function for histograms).\n",
      "\n",
      "For a guide to updating your code to use the new functions, please see\n",
      "https://gist.github.com/mwaskom/de44147ed2974457ad6372750bbe5751\n",
      "\n",
      "  sns.distplot(data['RestingBP'])\n"
     ]
    },
    {
     "data": {
      "image/png": "[encoded data removed]",
      "text/plain": [
       "<Figure size 600x600 with 1 Axes>"
      ]
     },
     "metadata": {},
     "output_type": "display_data"
    }
   ],
   "source": [
    "plt.figure(figsize=(6,6))\n",
    "sns.distplot(data['RestingBP'])\n",
    "plt.title('RBP Graph')\n",
    "plt.show()"
   ]
  },
  {
   "cell_type": "code",
   "execution_count": 21,
   "id": "c0a2434a",
   "metadata": {
    "execution": {
     "iopub.execute_input": "2023-11-18T16:44:09.498447Z",
     "iopub.status.busy": "2023-11-18T16:44:09.497456Z",
     "iopub.status.idle": "2023-11-18T16:44:10.002629Z",
     "shell.execute_reply": "2023-11-18T16:44:10.001300Z"
    },
    "papermill": {
     "duration": 0.538598,
     "end_time": "2023-11-18T16:44:10.005792",
     "exception": false,
     "start_time": "2023-11-18T16:44:09.467194",
     "status": "completed"
    },
    "tags": []
   },
   "outputs": [
    {
     "name": "stderr",
     "output_type": "stream",
     "text": [
      "/tmp/ipykernel_20/3932134218.py:2: UserWarning: \n",
      "\n",
      "`distplot` is a deprecated function and will be removed in seaborn v0.14.0.\n",
      "\n",
      "Please adapt your code to use either `displot` (a figure-level function with\n",
      "similar flexibility) or `histplot` (an axes-level function for histograms).\n",
      "\n",
      "For a guide to updating your code to use the new functions, please see\n",
      "https://gist.github.com/mwaskom/de44147ed2974457ad6372750bbe5751\n",
      "\n",
      "  sns.distplot(data['Cholesterol'])\n"
     ]
    },
    {
     "data": {
      "image/png": "[encoded data removed]",
      "text/plain": [
       "<Figure size 600x600 with 1 Axes>"
      ]
     },
     "metadata": {},
     "output_type": "display_data"
    }
   ],
   "source": [
    "plt.figure(figsize=(6,6))\n",
    "sns.distplot(data['Cholesterol'])\n",
    "plt.title('Cholesterol Graph')\n",
    "plt.show()"
   ]
  },
  {
   "cell_type": "code",
   "execution_count": 22,
   "id": "19465d66",
   "metadata": {
    "execution": {
     "iopub.execute_input": "2023-11-18T16:44:10.061336Z",
     "iopub.status.busy": "2023-11-18T16:44:10.060263Z",
     "iopub.status.idle": "2023-11-18T16:44:10.514618Z",
     "shell.execute_reply": "2023-11-18T16:44:10.513311Z"
    },
    "papermill": {
     "duration": 0.484984,
     "end_time": "2023-11-18T16:44:10.517262",
     "exception": false,
     "start_time": "2023-11-18T16:44:10.032278",
     "status": "completed"
    },
    "tags": []
   },
   "outputs": [
    {
     "name": "stderr",
     "output_type": "stream",
     "text": [
      "/tmp/ipykernel_20/3630896626.py:2: UserWarning: \n",
      "\n",
      "`distplot` is a deprecated function and will be removed in seaborn v0.14.0.\n",
      "\n",
      "Please adapt your code to use either `displot` (a figure-level function with\n",
      "similar flexibility) or `histplot` (an axes-level function for histograms).\n",
      "\n",
      "For a guide to updating your code to use the new functions, please see\n",
      "https://gist.github.com/mwaskom/de44147ed2974457ad6372750bbe5751\n",
      "\n",
      "  sns.distplot(data['FastingBS'])\n"
     ]
    },
    {
     "data": {
      "image/png": "[encoded data removed]",
      "text/plain": [
       "<Figure size 600x600 with 1 Axes>"
      ]
     },
     "metadata": {},
     "output_type": "display_data"
    }
   ],
   "source": [
    "plt.figure(figsize=(6,6))\n",
    "sns.distplot(data['FastingBS'])\n",
    "plt.title('FBS Graph')\n",
    "plt.show()"
   ]
  },
  {
   "cell_type": "code",
   "execution_count": 23,
   "id": "3a55153c",
   "metadata": {
    "execution": {
     "iopub.execute_input": "2023-11-18T16:44:10.575080Z",
     "iopub.status.busy": "2023-11-18T16:44:10.574654Z",
     "iopub.status.idle": "2023-11-18T16:44:11.048375Z",
     "shell.execute_reply": "2023-11-18T16:44:11.047216Z"
    },
    "papermill": {
     "duration": 0.505773,
     "end_time": "2023-11-18T16:44:11.051132",
     "exception": false,
     "start_time": "2023-11-18T16:44:10.545359",
     "status": "completed"
    },
    "tags": []
   },
   "outputs": [
    {
     "name": "stderr",
     "output_type": "stream",
     "text": [
      "/tmp/ipykernel_20/2483453539.py:2: UserWarning: \n",
      "\n",
      "`distplot` is a deprecated function and will be removed in seaborn v0.14.0.\n",
      "\n",
      "Please adapt your code to use either `displot` (a figure-level function with\n",
      "similar flexibility) or `histplot` (an axes-level function for histograms).\n",
      "\n",
      "For a guide to updating your code to use the new functions, please see\n",
      "https://gist.github.com/mwaskom/de44147ed2974457ad6372750bbe5751\n",
      "\n",
      "  sns.distplot(data['RestingECG'])\n"
     ]
    },
    {
     "data": {
      "image/png": "[encoded data removed]",
      "text/plain": [
       "<Figure size 600x600 with 1 Axes>"
      ]
     },
     "metadata": {},
     "output_type": "display_data"
    }
   ],
   "source": [
    "plt.figure(figsize=(6,6))\n",
    "sns.distplot(data['RestingECG'])\n",
    "plt.title('RestingECG Graph')\n",
    "plt.show()"
   ]
  },
  {
   "cell_type": "code",
   "execution_count": 24,
   "id": "d93df3bf",
   "metadata": {
    "execution": {
     "iopub.execute_input": "2023-11-18T16:44:11.109401Z",
     "iopub.status.busy": "2023-11-18T16:44:11.108962Z",
     "iopub.status.idle": "2023-11-18T16:44:11.596498Z",
     "shell.execute_reply": "2023-11-18T16:44:11.595305Z"
    },
    "papermill": {
     "duration": 0.51924,
     "end_time": "2023-11-18T16:44:11.598999",
     "exception": false,
     "start_time": "2023-11-18T16:44:11.079759",
     "status": "completed"
    },
    "tags": []
   },
   "outputs": [
    {
     "name": "stderr",
     "output_type": "stream",
     "text": [
      "/tmp/ipykernel_20/2068294910.py:2: UserWarning: \n",
      "\n",
      "`distplot` is a deprecated function and will be removed in seaborn v0.14.0.\n",
      "\n",
      "Please adapt your code to use either `displot` (a figure-level function with\n",
      "similar flexibility) or `histplot` (an axes-level function for histograms).\n",
      "\n",
      "For a guide to updating your code to use the new functions, please see\n",
      "https://gist.github.com/mwaskom/de44147ed2974457ad6372750bbe5751\n",
      "\n",
      "  sns.distplot(data['MaxHR'])\n"
     ]
    },
    {
     "data": {
      "image/png": "[encoded data removed]",
      "text/plain": [
       "<Figure size 600x600 with 1 Axes>"
      ]
     },
     "metadata": {},
     "output_type": "display_data"
    }
   ],
   "source": [
    "plt.figure(figsize=(6,6))\n",
    "sns.distplot(data['MaxHR'])\n",
    "plt.title('MaxHR Graph')\n",
    "plt.show()"
   ]
  },
  {
   "cell_type": "code",
   "execution_count": 25,
   "id": "3296432b",
   "metadata": {
    "execution": {
     "iopub.execute_input": "2023-11-18T16:44:11.657371Z",
     "iopub.status.busy": "2023-11-18T16:44:11.656952Z",
     "iopub.status.idle": "2023-11-18T16:44:12.092122Z",
     "shell.execute_reply": "2023-11-18T16:44:12.090960Z"
    },
    "papermill": {
     "duration": 0.467461,
     "end_time": "2023-11-18T16:44:12.094764",
     "exception": false,
     "start_time": "2023-11-18T16:44:11.627303",
     "status": "completed"
    },
    "tags": []
   },
   "outputs": [
    {
     "name": "stderr",
     "output_type": "stream",
     "text": [
      "/tmp/ipykernel_20/3149280101.py:2: UserWarning: \n",
      "\n",
      "`distplot` is a deprecated function and will be removed in seaborn v0.14.0.\n",
      "\n",
      "Please adapt your code to use either `displot` (a figure-level function with\n",
      "similar flexibility) or `histplot` (an axes-level function for histograms).\n",
      "\n",
      "For a guide to updating your code to use the new functions, please see\n",
      "https://gist.github.com/mwaskom/de44147ed2974457ad6372750bbe5751\n",
      "\n",
      "  sns.distplot(data['ExerciseAngina'])\n"
     ]
    },
    {
     "data": {
      "image/png": "[encoded data removed]",
      "text/plain": [
       "<Figure size 600x600 with 1 Axes>"
      ]
     },
     "metadata": {},
     "output_type": "display_data"
    }
   ],
   "source": [
    "plt.figure(figsize=(6,6))\n",
    "sns.distplot(data['ExerciseAngina'])\n",
    "plt.title('ExerciseAngina Graph')\n",
    "plt.show()"
   ]
  },
  {
   "cell_type": "code",
   "execution_count": 26,
   "id": "12352d99",
   "metadata": {
    "execution": {
     "iopub.execute_input": "2023-11-18T16:44:12.155822Z",
     "iopub.status.busy": "2023-11-18T16:44:12.154244Z",
     "iopub.status.idle": "2023-11-18T16:44:12.608699Z",
     "shell.execute_reply": "2023-11-18T16:44:12.607597Z"
    },
    "papermill": {
     "duration": 0.487289,
     "end_time": "2023-11-18T16:44:12.611296",
     "exception": false,
     "start_time": "2023-11-18T16:44:12.124007",
     "status": "completed"
    },
    "tags": []
   },
   "outputs": [
    {
     "name": "stderr",
     "output_type": "stream",
     "text": [
      "/tmp/ipykernel_20/1527457554.py:2: UserWarning: \n",
      "\n",
      "`distplot` is a deprecated function and will be removed in seaborn v0.14.0.\n",
      "\n",
      "Please adapt your code to use either `displot` (a figure-level function with\n",
      "similar flexibility) or `histplot` (an axes-level function for histograms).\n",
      "\n",
      "For a guide to updating your code to use the new functions, please see\n",
      "https://gist.github.com/mwaskom/de44147ed2974457ad6372750bbe5751\n",
      "\n",
      "  sns.distplot(data['Oldpeak'])\n"
     ]
    },
    {
     "data": {
      "image/png": "[encoded data removed]",
      "text/plain": [
       "<Figure size 600x600 with 1 Axes>"
      ]
     },
     "metadata": {},
     "output_type": "display_data"
    }
   ],
   "source": [
    "plt.figure(figsize=(6,6))\n",
    "sns.distplot(data['Oldpeak'])\n",
    "plt.title('Oldpeak Graph')\n",
    "plt.show()"
   ]
  },
  {
   "cell_type": "code",
   "execution_count": 27,
   "id": "6c06baa1",
   "metadata": {
    "execution": {
     "iopub.execute_input": "2023-11-18T16:44:12.672665Z",
     "iopub.status.busy": "2023-11-18T16:44:12.672252Z",
     "iopub.status.idle": "2023-11-18T16:44:13.128034Z",
     "shell.execute_reply": "2023-11-18T16:44:13.126795Z"
    },
    "papermill": {
     "duration": 0.489871,
     "end_time": "2023-11-18T16:44:13.130951",
     "exception": false,
     "start_time": "2023-11-18T16:44:12.641080",
     "status": "completed"
    },
    "tags": []
   },
   "outputs": [
    {
     "name": "stderr",
     "output_type": "stream",
     "text": [
      "/tmp/ipykernel_20/2592715348.py:2: UserWarning: \n",
      "\n",
      "`distplot` is a deprecated function and will be removed in seaborn v0.14.0.\n",
      "\n",
      "Please adapt your code to use either `displot` (a figure-level function with\n",
      "similar flexibility) or `histplot` (an axes-level function for histograms).\n",
      "\n",
      "For a guide to updating your code to use the new functions, please see\n",
      "https://gist.github.com/mwaskom/de44147ed2974457ad6372750bbe5751\n",
      "\n",
      "  sns.distplot(data['ST_Slope'])\n"
     ]
    },
    {
     "data": {
      "image/png": "[encoded data removed]",
      "text/plain": [
       "<Figure size 600x600 with 1 Axes>"
      ]
     },
     "metadata": {},
     "output_type": "display_data"
    }
   ],
   "source": [
    "plt.figure(figsize=(6,6))\n",
    "sns.distplot(data['ST_Slope'])\n",
    "plt.title('ST_Slope Graph')\n",
    "plt.show()"
   ]
  },
  {
   "cell_type": "code",
   "execution_count": 28,
   "id": "86cad8c8",
   "metadata": {
    "execution": {
     "iopub.execute_input": "2023-11-18T16:44:13.195738Z",
     "iopub.status.busy": "2023-11-18T16:44:13.195252Z",
     "iopub.status.idle": "2023-11-18T16:44:13.207393Z",
     "shell.execute_reply": "2023-11-18T16:44:13.206293Z"
    },
    "papermill": {
     "duration": 0.047491,
     "end_time": "2023-11-18T16:44:13.209942",
     "exception": false,
     "start_time": "2023-11-18T16:44:13.162451",
     "status": "completed"
    },
    "tags": []
   },
   "outputs": [],
   "source": [
    "x_train,x_test,y_train,y_test=train_test_split(x,y,test_size=0.2,stratify=y,random_state=2)"
   ]
  },
  {
   "cell_type": "code",
   "execution_count": 29,
   "id": "77287845",
   "metadata": {
    "execution": {
     "iopub.execute_input": "2023-11-18T16:44:13.273974Z",
     "iopub.status.busy": "2023-11-18T16:44:13.272906Z",
     "iopub.status.idle": "2023-11-18T16:44:13.278615Z",
     "shell.execute_reply": "2023-11-18T16:44:13.277803Z"
    },
    "papermill": {
     "duration": 0.040478,
     "end_time": "2023-11-18T16:44:13.280979",
     "exception": false,
     "start_time": "2023-11-18T16:44:13.240501",
     "status": "completed"
    },
    "tags": []
   },
   "outputs": [
    {
     "name": "stdout",
     "output_type": "stream",
     "text": [
      "(918, 11) (734, 11) (184, 11)\n"
     ]
    }
   ],
   "source": [
    "print(x.shape,x_train.shape,x_test.shape)"
   ]
  },
  {
   "cell_type": "code",
   "execution_count": 30,
   "id": "6f396314",
   "metadata": {
    "execution": {
     "iopub.execute_input": "2023-11-18T16:44:13.343893Z",
     "iopub.status.busy": "2023-11-18T16:44:13.343471Z",
     "iopub.status.idle": "2023-11-18T16:44:13.348488Z",
     "shell.execute_reply": "2023-11-18T16:44:13.347177Z"
    },
    "papermill": {
     "duration": 0.039433,
     "end_time": "2023-11-18T16:44:13.350930",
     "exception": false,
     "start_time": "2023-11-18T16:44:13.311497",
     "status": "completed"
    },
    "tags": []
   },
   "outputs": [],
   "source": [
    "model=LogisticRegression()"
   ]
  },
  {
   "cell_type": "code",
   "execution_count": 31,
   "id": "6d05d223",
   "metadata": {
    "execution": {
     "iopub.execute_input": "2023-11-18T16:44:13.414992Z",
     "iopub.status.busy": "2023-11-18T16:44:13.414548Z",
     "iopub.status.idle": "2023-11-18T16:44:13.458906Z",
     "shell.execute_reply": "2023-11-18T16:44:13.457785Z"
    },
    "papermill": {
     "duration": 0.079335,
     "end_time": "2023-11-18T16:44:13.461325",
     "exception": false,
     "start_time": "2023-11-18T16:44:13.381990",
     "status": "completed"
    },
    "tags": []
   },
   "outputs": [
    {
     "name": "stderr",
     "output_type": "stream",
     "text": [
      "/opt/conda/lib/python3.10/site-packages/sklearn/linear_model/_logistic.py:458: ConvergenceWarning: lbfgs failed to converge (status=1):\n",
      "STOP: TOTAL NO. of ITERATIONS REACHED LIMIT.\n",
      "\n",
      "Increase the number of iterations (max_iter) or scale the data as shown in:\n",
      "    https://scikit-learn.org/stable/modules/preprocessing.html\n",
      "Please also refer to the documentation for alternative solver options:\n",
      "    https://scikit-learn.org/stable/modules/linear_model.html#logistic-regression\n",
      "  n_iter_i = _check_optimize_result(\n"
     ]
    },
    {
     "data": {
      "text/html": [
       "<style>#sk-container-id-1 {color: black;background-color: white;}#sk-container-id-1 pre{padding: 0;}#sk-container-id-1 div.sk-toggleable {background-color: white;}#sk-container-id-1 label.sk-toggleable__label {cursor: pointer;display: block;width: 100%;margin-bottom: 0;padding: 0.3em;box-sizing: border-box;text-align: center;}#sk-container-id-1 label.sk-toggleable__label-arrow:before {content: \"▸\";float: left;margin-right: 0.25em;color: #696969;}#sk-container-id-1 label.sk-toggleable__label-arrow:hover:before {color: black;}#sk-container-id-1 div.sk-estimator:hover label.sk-toggleable__label-arrow:before {color: black;}#sk-container-id-1 div.sk-toggleable__content {max-height: 0;max-width: 0;overflow: hidden;text-align: left;background-color: #f0f8ff;}#sk-container-id-1 div.sk-toggleable__content pre {margin: 0.2em;color: black;border-radius: 0.25em;background-color: #f0f8ff;}#sk-container-id-1 input.sk-toggleable__control:checked~div.sk-toggleable__content {max-height: 200px;max-width: 100%;overflow: auto;}#sk-container-id-1 input.sk-toggleable__control:checked~label.sk-toggleable__label-arrow:before {content: \"▾\";}#sk-container-id-1 div.sk-estimator input.sk-toggleable__control:checked~label.sk-toggleable__label {background-color: #d4ebff;}#sk-container-id-1 div.sk-label input.sk-toggleable__control:checked~label.sk-toggleable__label {background-color: #d4ebff;}#sk-container-id-1 input.sk-hidden--visually {border: 0;clip: rect(1px 1px 1px 1px);clip: rect(1px, 1px, 1px, 1px);height: 1px;margin: -1px;overflow: hidden;padding: 0;position: absolute;width: 1px;}#sk-container-id-1 div.sk-estimator {font-family: monospace;background-color: #f0f8ff;border: 1px dotted black;border-radius: 0.25em;box-sizing: border-box;margin-bottom: 0.5em;}#sk-container-id-1 div.sk-estimator:hover {background-color: #d4ebff;}#sk-container-id-1 div.sk-parallel-item::after {content: \"\";width: 100%;border-bottom: 1px solid gray;flex-grow: 1;}#sk-container-id-1 div.sk-label:hover label.sk-toggleable__label {background-color: #d4ebff;}#sk-container-id-1 div.sk-serial::before {content: \"\";position: absolute;border-left: 1px solid gray;box-sizing: border-box;top: 0;bottom: 0;left: 50%;z-index: 0;}#sk-container-id-1 div.sk-serial {display: flex;flex-direction: column;align-items: center;background-color: white;padding-right: 0.2em;padding-left: 0.2em;position: relative;}#sk-container-id-1 div.sk-item {position: relative;z-index: 1;}#sk-container-id-1 div.sk-parallel {display: flex;align-items: stretch;justify-content: center;background-color: white;position: relative;}#sk-container-id-1 div.sk-item::before, #sk-container-id-1 div.sk-parallel-item::before {content: \"\";position: absolute;border-left: 1px solid gray;box-sizing: border-box;top: 0;bottom: 0;left: 50%;z-index: -1;}#sk-container-id-1 div.sk-parallel-item {display: flex;flex-direction: column;z-index: 1;position: relative;background-color: white;}#sk-container-id-1 div.sk-parallel-item:first-child::after {align-self: flex-end;width: 50%;}#sk-container-id-1 div.sk-parallel-item:last-child::after {align-self: flex-start;width: 50%;}#sk-container-id-1 div.sk-parallel-item:only-child::after {width: 0;}#sk-container-id-1 div.sk-dashed-wrapped {border: 1px dashed gray;margin: 0 0.4em 0.5em 0.4em;box-sizing: border-box;padding-bottom: 0.4em;background-color: white;}#sk-container-id-1 div.sk-label label {font-family: monospace;font-weight: bold;display: inline-block;line-height: 1.2em;}#sk-container-id-1 div.sk-label-container {text-align: center;}#sk-container-id-1 div.sk-container {/* jupyter's `normalize.less` sets `[hidden] { display: none; }` but bootstrap.min.css set `[hidden] { display: none !important; }` so we also need the `!important` here to be able to override the default hidden behavior on the sphinx rendered scikit-learn.org. See: https://github.com/scikit-learn/scikit-learn/issues/21755 */display: inline-block !important;position: relative;}#sk-container-id-1 div.sk-text-repr-fallback {display: none;}</style><div id=\"sk-container-id-1\" class=\"sk-top-container\"><div class=\"sk-text-repr-fallback\"><pre>LogisticRegression()</pre><b>In a Jupyter environment, please rerun this cell to show the HTML representation or trust the notebook. <br />On GitHub, the HTML representation is unable to render, please try loading this page with nbviewer.org.</b></div><div class=\"sk-container\" hidden><div class=\"sk-item\"><div class=\"sk-estimator sk-toggleable\"><input class=\"sk-toggleable__control sk-hidden--visually\" id=\"sk-estimator-id-1\" type=\"checkbox\" checked><label for=\"sk-estimator-id-1\" class=\"sk-toggleable__label sk-toggleable__label-arrow\">LogisticRegression</label><div class=\"sk-toggleable__content\"><pre>LogisticRegression()</pre></div></div></div></div></div>"
      ],
      "text/plain": [
       "LogisticRegression()"
      ]
     },
     "execution_count": 31,
     "metadata": {},
     "output_type": "execute_result"
    }
   ],
   "source": [
    "model.fit(x_train,y_train)"
   ]
  },
  {
   "cell_type": "code",
   "execution_count": 32,
   "id": "a86f3c70",
   "metadata": {
    "execution": {
     "iopub.execute_input": "2023-11-18T16:44:13.526641Z",
     "iopub.status.busy": "2023-11-18T16:44:13.526166Z",
     "iopub.status.idle": "2023-11-18T16:44:13.534885Z",
     "shell.execute_reply": "2023-11-18T16:44:13.533721Z"
    },
    "papermill": {
     "duration": 0.044625,
     "end_time": "2023-11-18T16:44:13.537558",
     "exception": false,
     "start_time": "2023-11-18T16:44:13.492933",
     "status": "completed"
    },
    "tags": []
   },
   "outputs": [],
   "source": [
    "x_train_prediction=model.predict(x_train)\n",
    "training_data_accuracy=accuracy_score(x_train_prediction,y_train)"
   ]
  },
  {
   "cell_type": "code",
   "execution_count": 33,
   "id": "4d31ad70",
   "metadata": {
    "execution": {
     "iopub.execute_input": "2023-11-18T16:44:13.603596Z",
     "iopub.status.busy": "2023-11-18T16:44:13.602893Z",
     "iopub.status.idle": "2023-11-18T16:44:13.608887Z",
     "shell.execute_reply": "2023-11-18T16:44:13.607654Z"
    },
    "papermill": {
     "duration": 0.041679,
     "end_time": "2023-11-18T16:44:13.611181",
     "exception": false,
     "start_time": "2023-11-18T16:44:13.569502",
     "status": "completed"
    },
    "tags": []
   },
   "outputs": [
    {
     "name": "stdout",
     "output_type": "stream",
     "text": [
      "accuracy on training data : 0.8542234332425068\n"
     ]
    }
   ],
   "source": [
    "print('accuracy on training data :',training_data_accuracy)"
   ]
  },
  {
   "cell_type": "code",
   "execution_count": 34,
   "id": "71a6ced3",
   "metadata": {
    "execution": {
     "iopub.execute_input": "2023-11-18T16:44:13.677624Z",
     "iopub.status.busy": "2023-11-18T16:44:13.676876Z",
     "iopub.status.idle": "2023-11-18T16:44:13.685231Z",
     "shell.execute_reply": "2023-11-18T16:44:13.684405Z"
    },
    "papermill": {
     "duration": 0.044286,
     "end_time": "2023-11-18T16:44:13.687648",
     "exception": false,
     "start_time": "2023-11-18T16:44:13.643362",
     "status": "completed"
    },
    "tags": []
   },
   "outputs": [],
   "source": [
    "x_test_prediction=model.predict(x_test)\n",
    "test_data_accuracy=accuracy_score(x_test_prediction,y_test)"
   ]
  },
  {
   "cell_type": "code",
   "execution_count": 35,
   "id": "6456026b",
   "metadata": {
    "execution": {
     "iopub.execute_input": "2023-11-18T16:44:13.755431Z",
     "iopub.status.busy": "2023-11-18T16:44:13.754686Z",
     "iopub.status.idle": "2023-11-18T16:44:13.760290Z",
     "shell.execute_reply": "2023-11-18T16:44:13.758954Z"
    },
    "papermill": {
     "duration": 0.042133,
     "end_time": "2023-11-18T16:44:13.762738",
     "exception": false,
     "start_time": "2023-11-18T16:44:13.720605",
     "status": "completed"
    },
    "tags": []
   },
   "outputs": [
    {
     "name": "stdout",
     "output_type": "stream",
     "text": [
      "accuracy on testing data : 0.8369565217391305\n"
     ]
    }
   ],
   "source": [
    "print('accuracy on testing data :',test_data_accuracy)"
   ]
  },
  {
   "cell_type": "code",
   "execution_count": 36,
   "id": "67e4c0a2",
   "metadata": {
    "execution": {
     "iopub.execute_input": "2023-11-18T16:44:13.828690Z",
     "iopub.status.busy": "2023-11-18T16:44:13.828230Z",
     "iopub.status.idle": "2023-11-18T16:44:13.839010Z",
     "shell.execute_reply": "2023-11-18T16:44:13.837719Z"
    },
    "papermill": {
     "duration": 0.046653,
     "end_time": "2023-11-18T16:44:13.841303",
     "exception": false,
     "start_time": "2023-11-18T16:44:13.794650",
     "status": "completed"
    },
    "tags": []
   },
   "outputs": [
    {
     "name": "stdout",
     "output_type": "stream",
     "text": [
      "[1]\n",
      "The Person Has Heart Disease\n"
     ]
    },
    {
     "name": "stderr",
     "output_type": "stream",
     "text": [
      "/opt/conda/lib/python3.10/site-packages/sklearn/base.py:439: UserWarning: X does not have valid feature names, but LogisticRegression was fitted with feature names\n",
      "  warnings.warn(\n"
     ]
    }
   ],
   "source": [
    "input_data=(45,0,3,110,264,0,0,132,0,1.2,1)\n",
    "input_data_as_numpy_array=np.asarray(input_data)\n",
    "input_data_reshaped=input_data_as_numpy_array.reshape(1,-1)\n",
    "prediction=model.predict(input_data_reshaped)\n",
    "print(prediction)\n",
    "\n",
    "if(prediction[0]==0):\n",
    "    print('The Person Does Not Have Heart Disease')\n",
    "else:\n",
    "    print('The Person Has Heart Disease')"
   ]
  },
  {
   "cell_type": "code",
   "execution_count": 37,
   "id": "78d73f8c",
   "metadata": {
    "execution": {
     "iopub.execute_input": "2023-11-18T16:44:13.908980Z",
     "iopub.status.busy": "2023-11-18T16:44:13.908331Z",
     "iopub.status.idle": "2023-11-18T16:44:13.916926Z",
     "shell.execute_reply": "2023-11-18T16:44:13.915486Z"
    },
    "papermill": {
     "duration": 0.04568,
     "end_time": "2023-11-18T16:44:13.919642",
     "exception": false,
     "start_time": "2023-11-18T16:44:13.873962",
     "status": "completed"
    },
    "tags": []
   },
   "outputs": [
    {
     "name": "stdout",
     "output_type": "stream",
     "text": [
      "[0]\n",
      "The Person Does Not Have Heart Disease\n"
     ]
    },
    {
     "name": "stderr",
     "output_type": "stream",
     "text": [
      "/opt/conda/lib/python3.10/site-packages/sklearn/base.py:439: UserWarning: X does not have valid feature names, but LogisticRegression was fitted with feature names\n",
      "  warnings.warn(\n"
     ]
    }
   ],
   "source": [
    "input_data=(40,0,0,140,289,0,0,172,0,0.0,0)\n",
    "input_data_as_numpy_array=np.asarray(input_data)\n",
    "input_data_reshaped=input_data_as_numpy_array.reshape(1,-1)\n",
    "prediction=model.predict(input_data_reshaped)\n",
    "print(prediction)\n",
    "\n",
    "\n",
    "if(prediction[0]==0):\n",
    "    print('The Person Does Not Have Heart Disease')\n",
    "else:\n",
    "    print('The Person Has Heart Disease')"
   ]
  },
  {
   "cell_type": "code",
   "execution_count": 38,
   "id": "54e7db5b",
   "metadata": {
    "execution": {
     "iopub.execute_input": "2023-11-18T16:44:13.987580Z",
     "iopub.status.busy": "2023-11-18T16:44:13.987176Z",
     "iopub.status.idle": "2023-11-18T16:44:13.995465Z",
     "shell.execute_reply": "2023-11-18T16:44:13.994376Z"
    },
    "papermill": {
     "duration": 0.045614,
     "end_time": "2023-11-18T16:44:13.997898",
     "exception": false,
     "start_time": "2023-11-18T16:44:13.952284",
     "status": "completed"
    },
    "tags": []
   },
   "outputs": [
    {
     "data": {
      "text/plain": [
       "735    1\n",
       "21     0\n",
       "791    1\n",
       "374    1\n",
       "675    0\n",
       "      ..\n",
       "315    1\n",
       "759    1\n",
       "340    1\n",
       "849    0\n",
       "530    1\n",
       "Name: HeartDisease, Length: 734, dtype: int64"
      ]
     },
     "execution_count": 38,
     "metadata": {},
     "output_type": "execute_result"
    }
   ],
   "source": [
    "y_train"
   ]
  },
  {
   "cell_type": "code",
   "execution_count": 39,
   "id": "e1abcb06",
   "metadata": {
    "execution": {
     "iopub.execute_input": "2023-11-18T16:44:14.065269Z",
     "iopub.status.busy": "2023-11-18T16:44:14.064838Z",
     "iopub.status.idle": "2023-11-18T16:44:14.376120Z",
     "shell.execute_reply": "2023-11-18T16:44:14.375235Z"
    },
    "papermill": {
     "duration": 0.348203,
     "end_time": "2023-11-18T16:44:14.378784",
     "exception": false,
     "start_time": "2023-11-18T16:44:14.030581",
     "status": "completed"
    },
    "tags": []
   },
   "outputs": [],
   "source": [
    "from sklearn.svm import SVR\n",
    "from sklearn.ensemble import RandomForestRegressor\n",
    "from sklearn.ensemble import GradientBoostingRegressor"
   ]
  },
  {
   "cell_type": "code",
   "execution_count": 40,
   "id": "928aa6c2",
   "metadata": {
    "execution": {
     "iopub.execute_input": "2023-11-18T16:44:14.447917Z",
     "iopub.status.busy": "2023-11-18T16:44:14.447077Z",
     "iopub.status.idle": "2023-11-18T16:44:14.950018Z",
     "shell.execute_reply": "2023-11-18T16:44:14.948801Z"
    },
    "papermill": {
     "duration": 0.540206,
     "end_time": "2023-11-18T16:44:14.952964",
     "exception": false,
     "start_time": "2023-11-18T16:44:14.412758",
     "status": "completed"
    },
    "tags": []
   },
   "outputs": [
    {
     "data": {
      "text/html": [
       "<style>#sk-container-id-2 {color: black;background-color: white;}#sk-container-id-2 pre{padding: 0;}#sk-container-id-2 div.sk-toggleable {background-color: white;}#sk-container-id-2 label.sk-toggleable__label {cursor: pointer;display: block;width: 100%;margin-bottom: 0;padding: 0.3em;box-sizing: border-box;text-align: center;}#sk-container-id-2 label.sk-toggleable__label-arrow:before {content: \"▸\";float: left;margin-right: 0.25em;color: #696969;}#sk-container-id-2 label.sk-toggleable__label-arrow:hover:before {color: black;}#sk-container-id-2 div.sk-estimator:hover label.sk-toggleable__label-arrow:before {color: black;}#sk-container-id-2 div.sk-toggleable__content {max-height: 0;max-width: 0;overflow: hidden;text-align: left;background-color: #f0f8ff;}#sk-container-id-2 div.sk-toggleable__content pre {margin: 0.2em;color: black;border-radius: 0.25em;background-color: #f0f8ff;}#sk-container-id-2 input.sk-toggleable__control:checked~div.sk-toggleable__content {max-height: 200px;max-width: 100%;overflow: auto;}#sk-container-id-2 input.sk-toggleable__control:checked~label.sk-toggleable__label-arrow:before {content: \"▾\";}#sk-container-id-2 div.sk-estimator input.sk-toggleable__control:checked~label.sk-toggleable__label {background-color: #d4ebff;}#sk-container-id-2 div.sk-label input.sk-toggleable__control:checked~label.sk-toggleable__label {background-color: #d4ebff;}#sk-container-id-2 input.sk-hidden--visually {border: 0;clip: rect(1px 1px 1px 1px);clip: rect(1px, 1px, 1px, 1px);height: 1px;margin: -1px;overflow: hidden;padding: 0;position: absolute;width: 1px;}#sk-container-id-2 div.sk-estimator {font-family: monospace;background-color: #f0f8ff;border: 1px dotted black;border-radius: 0.25em;box-sizing: border-box;margin-bottom: 0.5em;}#sk-container-id-2 div.sk-estimator:hover {background-color: #d4ebff;}#sk-container-id-2 div.sk-parallel-item::after {content: \"\";width: 100%;border-bottom: 1px solid gray;flex-grow: 1;}#sk-container-id-2 div.sk-label:hover label.sk-toggleable__label {background-color: #d4ebff;}#sk-container-id-2 div.sk-serial::before {content: \"\";position: absolute;border-left: 1px solid gray;box-sizing: border-box;top: 0;bottom: 0;left: 50%;z-index: 0;}#sk-container-id-2 div.sk-serial {display: flex;flex-direction: column;align-items: center;background-color: white;padding-right: 0.2em;padding-left: 0.2em;position: relative;}#sk-container-id-2 div.sk-item {position: relative;z-index: 1;}#sk-container-id-2 div.sk-parallel {display: flex;align-items: stretch;justify-content: center;background-color: white;position: relative;}#sk-container-id-2 div.sk-item::before, #sk-container-id-2 div.sk-parallel-item::before {content: \"\";position: absolute;border-left: 1px solid gray;box-sizing: border-box;top: 0;bottom: 0;left: 50%;z-index: -1;}#sk-container-id-2 div.sk-parallel-item {display: flex;flex-direction: column;z-index: 1;position: relative;background-color: white;}#sk-container-id-2 div.sk-parallel-item:first-child::after {align-self: flex-end;width: 50%;}#sk-container-id-2 div.sk-parallel-item:last-child::after {align-self: flex-start;width: 50%;}#sk-container-id-2 div.sk-parallel-item:only-child::after {width: 0;}#sk-container-id-2 div.sk-dashed-wrapped {border: 1px dashed gray;margin: 0 0.4em 0.5em 0.4em;box-sizing: border-box;padding-bottom: 0.4em;background-color: white;}#sk-container-id-2 div.sk-label label {font-family: monospace;font-weight: bold;display: inline-block;line-height: 1.2em;}#sk-container-id-2 div.sk-label-container {text-align: center;}#sk-container-id-2 div.sk-container {/* jupyter's `normalize.less` sets `[hidden] { display: none; }` but bootstrap.min.css set `[hidden] { display: none !important; }` so we also need the `!important` here to be able to override the default hidden behavior on the sphinx rendered scikit-learn.org. See: https://github.com/scikit-learn/scikit-learn/issues/21755 */display: inline-block !important;position: relative;}#sk-container-id-2 div.sk-text-repr-fallback {display: none;}</style><div id=\"sk-container-id-2\" class=\"sk-top-container\"><div class=\"sk-text-repr-fallback\"><pre>GradientBoostingRegressor()</pre><b>In a Jupyter environment, please rerun this cell to show the HTML representation or trust the notebook. <br />On GitHub, the HTML representation is unable to render, please try loading this page with nbviewer.org.</b></div><div class=\"sk-container\" hidden><div class=\"sk-item\"><div class=\"sk-estimator sk-toggleable\"><input class=\"sk-toggleable__control sk-hidden--visually\" id=\"sk-estimator-id-2\" type=\"checkbox\" checked><label for=\"sk-estimator-id-2\" class=\"sk-toggleable__label sk-toggleable__label-arrow\">GradientBoostingRegressor</label><div class=\"sk-toggleable__content\"><pre>GradientBoostingRegressor()</pre></div></div></div></div></div>"
      ],
      "text/plain": [
       "GradientBoostingRegressor()"
      ]
     },
     "execution_count": 40,
     "metadata": {},
     "output_type": "execute_result"
    }
   ],
   "source": [
    "svm=SVR()\n",
    "svm.fit(x_train,y_train)\n",
    "rf=RandomForestRegressor()\n",
    "rf.fit(x_train,y_train)\n",
    "gr=GradientBoostingRegressor()\n",
    "gr.fit(x_train,y_train)"
   ]
  },
  {
   "cell_type": "code",
   "execution_count": 41,
   "id": "475aef6e",
   "metadata": {
    "execution": {
     "iopub.execute_input": "2023-11-18T16:44:15.025526Z",
     "iopub.status.busy": "2023-11-18T16:44:15.025099Z",
     "iopub.status.idle": "2023-11-18T16:44:15.051809Z",
     "shell.execute_reply": "2023-11-18T16:44:15.050550Z"
    },
    "papermill": {
     "duration": 0.067857,
     "end_time": "2023-11-18T16:44:15.054817",
     "exception": false,
     "start_time": "2023-11-18T16:44:14.986960",
     "status": "completed"
    },
    "tags": []
   },
   "outputs": [],
   "source": [
    "y_pred1=svm.predict(x_test)\n",
    "y_pred2=rf.predict(x_test)\n",
    "y_pred3=gr.predict(x_test)\n",
    "df1=pd.DataFrame({'Actual':y_test,'svm':y_pred1,'rf':y_pred2,'gr':y_pred3})"
   ]
  },
  {
   "cell_type": "code",
   "execution_count": 42,
   "id": "9135e40c",
   "metadata": {
    "execution": {
     "iopub.execute_input": "2023-11-18T16:44:15.124764Z",
     "iopub.status.busy": "2023-11-18T16:44:15.123561Z",
     "iopub.status.idle": "2023-11-18T16:44:15.139371Z",
     "shell.execute_reply": "2023-11-18T16:44:15.138373Z"
    },
    "papermill": {
     "duration": 0.054181,
     "end_time": "2023-11-18T16:44:15.141868",
     "exception": false,
     "start_time": "2023-11-18T16:44:15.087687",
     "status": "completed"
    },
    "tags": []
   },
   "outputs": [
    {
     "data": {
      "text/html": [
       "<div>\n",
       "<style scoped>\n",
       "    .dataframe tbody tr th:only-of-type {\n",
       "        vertical-align: middle;\n",
       "    }\n",
       "\n",
       "    .dataframe tbody tr th {\n",
       "        vertical-align: top;\n",
       "    }\n",
       "\n",
       "    .dataframe thead th {\n",
       "        text-align: right;\n",
       "    }\n",
       "</style>\n",
       "<table border=\"1\" class=\"dataframe\">\n",
       "  <thead>\n",
       "    <tr style=\"text-align: right;\">\n",
       "      <th></th>\n",
       "      <th>Actual</th>\n",
       "      <th>svm</th>\n",
       "      <th>rf</th>\n",
       "      <th>gr</th>\n",
       "    </tr>\n",
       "  </thead>\n",
       "  <tbody>\n",
       "    <tr>\n",
       "      <th>821</th>\n",
       "      <td>0</td>\n",
       "      <td>0.310360</td>\n",
       "      <td>0.45</td>\n",
       "      <td>-0.035642</td>\n",
       "    </tr>\n",
       "    <tr>\n",
       "      <th>748</th>\n",
       "      <td>1</td>\n",
       "      <td>0.979495</td>\n",
       "      <td>0.97</td>\n",
       "      <td>0.978324</td>\n",
       "    </tr>\n",
       "    <tr>\n",
       "      <th>797</th>\n",
       "      <td>1</td>\n",
       "      <td>0.114898</td>\n",
       "      <td>0.14</td>\n",
       "      <td>0.194499</td>\n",
       "    </tr>\n",
       "    <tr>\n",
       "      <th>396</th>\n",
       "      <td>1</td>\n",
       "      <td>0.900335</td>\n",
       "      <td>0.72</td>\n",
       "      <td>0.691968</td>\n",
       "    </tr>\n",
       "    <tr>\n",
       "      <th>486</th>\n",
       "      <td>0</td>\n",
       "      <td>-0.047331</td>\n",
       "      <td>0.04</td>\n",
       "      <td>0.056423</td>\n",
       "    </tr>\n",
       "    <tr>\n",
       "      <th>...</th>\n",
       "      <td>...</td>\n",
       "      <td>...</td>\n",
       "      <td>...</td>\n",
       "      <td>...</td>\n",
       "    </tr>\n",
       "    <tr>\n",
       "      <th>276</th>\n",
       "      <td>1</td>\n",
       "      <td>0.334188</td>\n",
       "      <td>0.71</td>\n",
       "      <td>0.583658</td>\n",
       "    </tr>\n",
       "    <tr>\n",
       "      <th>197</th>\n",
       "      <td>0</td>\n",
       "      <td>0.495318</td>\n",
       "      <td>0.00</td>\n",
       "      <td>0.036114</td>\n",
       "    </tr>\n",
       "    <tr>\n",
       "      <th>454</th>\n",
       "      <td>1</td>\n",
       "      <td>0.638829</td>\n",
       "      <td>0.99</td>\n",
       "      <td>0.978185</td>\n",
       "    </tr>\n",
       "    <tr>\n",
       "      <th>77</th>\n",
       "      <td>0</td>\n",
       "      <td>0.236167</td>\n",
       "      <td>0.06</td>\n",
       "      <td>0.007360</td>\n",
       "    </tr>\n",
       "    <tr>\n",
       "      <th>418</th>\n",
       "      <td>1</td>\n",
       "      <td>0.481975</td>\n",
       "      <td>0.91</td>\n",
       "      <td>0.885066</td>\n",
       "    </tr>\n",
       "  </tbody>\n",
       "</table>\n",
       "<p>184 rows × 4 columns</p>\n",
       "</div>"
      ],
      "text/plain": [
       "     Actual       svm    rf        gr\n",
       "821       0  0.310360  0.45 -0.035642\n",
       "748       1  0.979495  0.97  0.978324\n",
       "797       1  0.114898  0.14  0.194499\n",
       "396       1  0.900335  0.72  0.691968\n",
       "486       0 -0.047331  0.04  0.056423\n",
       "..      ...       ...   ...       ...\n",
       "276       1  0.334188  0.71  0.583658\n",
       "197       0  0.495318  0.00  0.036114\n",
       "454       1  0.638829  0.99  0.978185\n",
       "77        0  0.236167  0.06  0.007360\n",
       "418       1  0.481975  0.91  0.885066\n",
       "\n",
       "[184 rows x 4 columns]"
      ]
     },
     "execution_count": 42,
     "metadata": {},
     "output_type": "execute_result"
    }
   ],
   "source": [
    "df1"
   ]
  },
  {
   "cell_type": "code",
   "execution_count": 43,
   "id": "55eed21a",
   "metadata": {
    "execution": {
     "iopub.execute_input": "2023-11-18T16:44:15.210842Z",
     "iopub.status.busy": "2023-11-18T16:44:15.210380Z",
     "iopub.status.idle": "2023-11-18T16:44:15.707413Z",
     "shell.execute_reply": "2023-11-18T16:44:15.706194Z"
    },
    "papermill": {
     "duration": 0.534451,
     "end_time": "2023-11-18T16:44:15.710006",
     "exception": false,
     "start_time": "2023-11-18T16:44:15.175555",
     "status": "completed"
    },
    "tags": []
   },
   "outputs": [
    {
     "data": {
      "text/plain": [
       "<matplotlib.legend.Legend at 0x7d7e9ec57910>"
      ]
     },
     "execution_count": 43,
     "metadata": {},
     "output_type": "execute_result"
    },
    {
     "data": {
      "image/png": "[encoded data removed]",
      "text/plain": [
       "<Figure size 640x480 with 1 Axes>"
      ]
     },
     "metadata": {},
     "output_type": "display_data"
    }
   ],
   "source": [
    "plt.subplot(221)\n",
    "plt.plot(df1['Actual'].iloc[0:11],label='Actual')\n",
    "plt.plot(df1['svm'].iloc[0:11],label=\"svr\")\n",
    "plt.tight_layout()\n",
    "plt.legend()"
   ]
  },
  {
   "cell_type": "code",
   "execution_count": 44,
   "id": "f5940640",
   "metadata": {
    "execution": {
     "iopub.execute_input": "2023-11-18T16:44:15.779483Z",
     "iopub.status.busy": "2023-11-18T16:44:15.779085Z",
     "iopub.status.idle": "2023-11-18T16:44:16.261607Z",
     "shell.execute_reply": "2023-11-18T16:44:16.260370Z"
    },
    "papermill": {
     "duration": 0.520384,
     "end_time": "2023-11-18T16:44:16.264154",
     "exception": false,
     "start_time": "2023-11-18T16:44:15.743770",
     "status": "completed"
    },
    "tags": []
   },
   "outputs": [
    {
     "data": {
      "text/plain": [
       "<matplotlib.legend.Legend at 0x7d7e9ec54820>"
      ]
     },
     "execution_count": 44,
     "metadata": {},
     "output_type": "execute_result"
    },
    {
     "data": {
      "image/png": "[encoded data removed]",
      "text/plain": [
       "<Figure size 640x480 with 1 Axes>"
      ]
     },
     "metadata": {},
     "output_type": "display_data"
    }
   ],
   "source": [
    "plt.subplot(222)\n",
    "plt.plot(df1['Actual'].iloc[0:11],label='Actual')\n",
    "plt.plot(df1['rf'].iloc[0:11],label=\"rf\")\n",
    "plt.tight_layout()\n",
    "plt.legend()"
   ]
  },
  {
   "cell_type": "code",
   "execution_count": 45,
   "id": "b6c2f227",
   "metadata": {
    "execution": {
     "iopub.execute_input": "2023-11-18T16:44:16.335642Z",
     "iopub.status.busy": "2023-11-18T16:44:16.335175Z",
     "iopub.status.idle": "2023-11-18T16:44:16.811799Z",
     "shell.execute_reply": "2023-11-18T16:44:16.810626Z"
    },
    "papermill": {
     "duration": 0.515539,
     "end_time": "2023-11-18T16:44:16.814505",
     "exception": false,
     "start_time": "2023-11-18T16:44:16.298966",
     "status": "completed"
    },
    "tags": []
   },
   "outputs": [
    {
     "data": {
      "text/plain": [
       "<matplotlib.legend.Legend at 0x7d7e9eb072e0>"
      ]
     },
     "execution_count": 45,
     "metadata": {},
     "output_type": "execute_result"
    },
    {
     "data": {
      "image/png": "[encoded data removed]",
      "text/plain": [
       "<Figure size 640x480 with 1 Axes>"
      ]
     },
     "metadata": {},
     "output_type": "display_data"
    }
   ],
   "source": [
    "plt.subplot(223)\n",
    "plt.plot(df1['Actual'].iloc[0:11],label='Actual')\n",
    "plt.plot(df1['gr'].iloc[0:11],label=\"gr\")\n",
    "plt.tight_layout()\n",
    "plt.legend()"
   ]
  },
  {
   "cell_type": "code",
   "execution_count": 46,
   "id": "618dbae0",
   "metadata": {
    "execution": {
     "iopub.execute_input": "2023-11-18T16:44:16.888847Z",
     "iopub.status.busy": "2023-11-18T16:44:16.887906Z",
     "iopub.status.idle": "2023-11-18T16:44:16.895481Z",
     "shell.execute_reply": "2023-11-18T16:44:16.894453Z"
    },
    "papermill": {
     "duration": 0.047846,
     "end_time": "2023-11-18T16:44:16.897844",
     "exception": false,
     "start_time": "2023-11-18T16:44:16.849998",
     "status": "completed"
    },
    "tags": []
   },
   "outputs": [],
   "source": [
    "score1=metrics.r2_score(y_test,y_pred1)\n",
    "score2=metrics.r2_score(y_test,y_pred2)\n",
    "score3=metrics.r2_score(y_test,y_pred3)"
   ]
  },
  {
   "cell_type": "code",
   "execution_count": 47,
   "id": "3120cc63",
   "metadata": {
    "execution": {
     "iopub.execute_input": "2023-11-18T16:44:16.971859Z",
     "iopub.status.busy": "2023-11-18T16:44:16.970641Z",
     "iopub.status.idle": "2023-11-18T16:44:16.977786Z",
     "shell.execute_reply": "2023-11-18T16:44:16.976332Z"
    },
    "papermill": {
     "duration": 0.046938,
     "end_time": "2023-11-18T16:44:16.980319",
     "exception": false,
     "start_time": "2023-11-18T16:44:16.933381",
     "status": "completed"
    },
    "tags": []
   },
   "outputs": [
    {
     "name": "stdout",
     "output_type": "stream",
     "text": [
      "0.25049868623901705 0.6062171209947393 0.616315559028287\n"
     ]
    }
   ],
   "source": [
    "print(score1,score2,score3)"
   ]
  },
  {
   "cell_type": "code",
   "execution_count": 48,
   "id": "efa5d938",
   "metadata": {
    "execution": {
     "iopub.execute_input": "2023-11-18T16:44:17.054536Z",
     "iopub.status.busy": "2023-11-18T16:44:17.054120Z",
     "iopub.status.idle": "2023-11-18T16:44:17.060741Z",
     "shell.execute_reply": "2023-11-18T16:44:17.059924Z"
    },
    "papermill": {
     "duration": 0.046293,
     "end_time": "2023-11-18T16:44:17.062996",
     "exception": false,
     "start_time": "2023-11-18T16:44:17.016703",
     "status": "completed"
    },
    "tags": []
   },
   "outputs": [],
   "source": [
    "s1=metrics.mean_absolute_error(y_test,y_pred1)\n",
    "s2=metrics.mean_absolute_error(y_test,y_pred2)\n",
    "s3=metrics.mean_absolute_error(y_test,y_pred3)"
   ]
  },
  {
   "cell_type": "code",
   "execution_count": 49,
   "id": "911a51f6",
   "metadata": {
    "execution": {
     "iopub.execute_input": "2023-11-18T16:44:17.140254Z",
     "iopub.status.busy": "2023-11-18T16:44:17.139860Z",
     "iopub.status.idle": "2023-11-18T16:44:17.145683Z",
     "shell.execute_reply": "2023-11-18T16:44:17.144608Z"
    },
    "papermill": {
     "duration": 0.049287,
     "end_time": "2023-11-18T16:44:17.148156",
     "exception": false,
     "start_time": "2023-11-18T16:44:17.098869",
     "status": "completed"
    },
    "tags": []
   },
   "outputs": [
    {
     "name": "stdout",
     "output_type": "stream",
     "text": [
      "0.33888695436624117 0.19706521739130436 0.20249475229971328\n"
     ]
    }
   ],
   "source": [
    "print(s1,s2,s3)"
   ]
  },
  {
   "cell_type": "code",
   "execution_count": 50,
   "id": "eea4e9ee",
   "metadata": {
    "execution": {
     "iopub.execute_input": "2023-11-18T16:44:17.223172Z",
     "iopub.status.busy": "2023-11-18T16:44:17.222300Z",
     "iopub.status.idle": "2023-11-18T16:44:17.237670Z",
     "shell.execute_reply": "2023-11-18T16:44:17.236859Z"
    },
    "papermill": {
     "duration": 0.054919,
     "end_time": "2023-11-18T16:44:17.239879",
     "exception": false,
     "start_time": "2023-11-18T16:44:17.184960",
     "status": "completed"
    },
    "tags": []
   },
   "outputs": [
    {
     "data": {
      "text/html": [
       "<div>\n",
       "<style scoped>\n",
       "    .dataframe tbody tr th:only-of-type {\n",
       "        vertical-align: middle;\n",
       "    }\n",
       "\n",
       "    .dataframe tbody tr th {\n",
       "        vertical-align: top;\n",
       "    }\n",
       "\n",
       "    .dataframe thead th {\n",
       "        text-align: right;\n",
       "    }\n",
       "</style>\n",
       "<table border=\"1\" class=\"dataframe\">\n",
       "  <thead>\n",
       "    <tr style=\"text-align: right;\">\n",
       "      <th></th>\n",
       "      <th>Age</th>\n",
       "      <th>Sex</th>\n",
       "      <th>ChestPainType</th>\n",
       "      <th>RestingBP</th>\n",
       "      <th>Cholesterol</th>\n",
       "      <th>FastingBS</th>\n",
       "      <th>RestingECG</th>\n",
       "      <th>MaxHR</th>\n",
       "      <th>ExerciseAngina</th>\n",
       "      <th>Oldpeak</th>\n",
       "      <th>ST_Slope</th>\n",
       "    </tr>\n",
       "  </thead>\n",
       "  <tbody>\n",
       "    <tr>\n",
       "      <th>0</th>\n",
       "      <td>40</td>\n",
       "      <td>0</td>\n",
       "      <td>0</td>\n",
       "      <td>140</td>\n",
       "      <td>289</td>\n",
       "      <td>0</td>\n",
       "      <td>0</td>\n",
       "      <td>172</td>\n",
       "      <td>0</td>\n",
       "      <td>0.0</td>\n",
       "      <td>0</td>\n",
       "    </tr>\n",
       "  </tbody>\n",
       "</table>\n",
       "</div>"
      ],
      "text/plain": [
       "   Age  Sex  ChestPainType  RestingBP  Cholesterol  FastingBS  RestingECG  \\\n",
       "0   40    0              0        140          289          0           0   \n",
       "\n",
       "   MaxHR  ExerciseAngina  Oldpeak  ST_Slope  \n",
       "0    172               0      0.0         0  "
      ]
     },
     "execution_count": 50,
     "metadata": {},
     "output_type": "execute_result"
    }
   ],
   "source": [
    "data={'Age':40,\n",
    "     'Sex':0,\n",
    "     'ChestPainType':0,\n",
    "     'RestingBP':140,\n",
    "     'Cholesterol':289,\n",
    "     'FastingBS':0,\n",
    "     'RestingECG':0,\n",
    "     'MaxHR':172,\n",
    "     'ExerciseAngina':0,\n",
    "     'Oldpeak':0.0,\n",
    "     'ST_Slope':0}\n",
    "df=pd.DataFrame(data,index=[0])\n",
    "df"
   ]
  },
  {
   "cell_type": "code",
   "execution_count": 51,
   "id": "766f6ec4",
   "metadata": {
    "execution": {
     "iopub.execute_input": "2023-11-18T16:44:17.314396Z",
     "iopub.status.busy": "2023-11-18T16:44:17.313250Z",
     "iopub.status.idle": "2023-11-18T16:44:17.322079Z",
     "shell.execute_reply": "2023-11-18T16:44:17.320932Z"
    },
    "papermill": {
     "duration": 0.048988,
     "end_time": "2023-11-18T16:44:17.324492",
     "exception": false,
     "start_time": "2023-11-18T16:44:17.275504",
     "status": "completed"
    },
    "tags": []
   },
   "outputs": [
    {
     "name": "stdout",
     "output_type": "stream",
     "text": [
      "[0.03750296]\n"
     ]
    }
   ],
   "source": [
    "new_pred=gr.predict(df)\n",
    "print(new_pred)"
   ]
  },
  {
   "cell_type": "code",
   "execution_count": 52,
   "id": "089735ae",
   "metadata": {
    "execution": {
     "iopub.execute_input": "2023-11-18T16:44:17.399118Z",
     "iopub.status.busy": "2023-11-18T16:44:17.398680Z",
     "iopub.status.idle": "2023-11-18T16:44:17.415970Z",
     "shell.execute_reply": "2023-11-18T16:44:17.414815Z"
    },
    "papermill": {
     "duration": 0.057573,
     "end_time": "2023-11-18T16:44:17.418459",
     "exception": false,
     "start_time": "2023-11-18T16:44:17.360886",
     "status": "completed"
    },
    "tags": []
   },
   "outputs": [
    {
     "data": {
      "text/html": [
       "<div>\n",
       "<style scoped>\n",
       "    .dataframe tbody tr th:only-of-type {\n",
       "        vertical-align: middle;\n",
       "    }\n",
       "\n",
       "    .dataframe tbody tr th {\n",
       "        vertical-align: top;\n",
       "    }\n",
       "\n",
       "    .dataframe thead th {\n",
       "        text-align: right;\n",
       "    }\n",
       "</style>\n",
       "<table border=\"1\" class=\"dataframe\">\n",
       "  <thead>\n",
       "    <tr style=\"text-align: right;\">\n",
       "      <th></th>\n",
       "      <th>Age</th>\n",
       "      <th>Sex</th>\n",
       "      <th>ChestPainType</th>\n",
       "      <th>RestingBP</th>\n",
       "      <th>Cholesterol</th>\n",
       "      <th>FastingBS</th>\n",
       "      <th>RestingECG</th>\n",
       "      <th>MaxHR</th>\n",
       "      <th>ExerciseAngina</th>\n",
       "      <th>Oldpeak</th>\n",
       "      <th>ST_Slope</th>\n",
       "    </tr>\n",
       "  </thead>\n",
       "  <tbody>\n",
       "    <tr>\n",
       "      <th>0</th>\n",
       "      <td>40</td>\n",
       "      <td>0</td>\n",
       "      <td>0</td>\n",
       "      <td>140</td>\n",
       "      <td>289</td>\n",
       "      <td>0</td>\n",
       "      <td>0</td>\n",
       "      <td>172</td>\n",
       "      <td>0</td>\n",
       "      <td>0.0</td>\n",
       "      <td>0</td>\n",
       "    </tr>\n",
       "  </tbody>\n",
       "</table>\n",
       "</div>"
      ],
      "text/plain": [
       "   Age  Sex  ChestPainType  RestingBP  Cholesterol  FastingBS  RestingECG  \\\n",
       "0   40    0              0        140          289          0           0   \n",
       "\n",
       "   MaxHR  ExerciseAngina  Oldpeak  ST_Slope  \n",
       "0    172               0      0.0         0  "
      ]
     },
     "execution_count": 52,
     "metadata": {},
     "output_type": "execute_result"
    }
   ],
   "source": [
    "data={'Age':40,\n",
    "     'Sex':0,\n",
    "     'ChestPainType':0,\n",
    "     'RestingBP':140,\n",
    "     'Cholesterol':289,\n",
    "     'FastingBS':0,\n",
    "     'RestingECG':0,\n",
    "     'MaxHR':172,\n",
    "     'ExerciseAngina':0,\n",
    "     'Oldpeak':0.0,\n",
    "     'ST_Slope':0}\n",
    "df=pd.DataFrame(data,index=[0])\n",
    "df"
   ]
  },
  {
   "cell_type": "code",
   "execution_count": 53,
   "id": "45e95172",
   "metadata": {
    "execution": {
     "iopub.execute_input": "2023-11-18T16:44:17.493448Z",
     "iopub.status.busy": "2023-11-18T16:44:17.493043Z",
     "iopub.status.idle": "2023-11-18T16:44:17.507226Z",
     "shell.execute_reply": "2023-11-18T16:44:17.506064Z"
    },
    "papermill": {
     "duration": 0.054883,
     "end_time": "2023-11-18T16:44:17.509639",
     "exception": false,
     "start_time": "2023-11-18T16:44:17.454756",
     "status": "completed"
    },
    "tags": []
   },
   "outputs": [
    {
     "name": "stdout",
     "output_type": "stream",
     "text": [
      "[0.01]\n"
     ]
    }
   ],
   "source": [
    "new_pred=rf.predict(df)\n",
    "print(new_pred)"
   ]
  },
  {
   "cell_type": "code",
   "execution_count": 54,
   "id": "0d592e71",
   "metadata": {
    "execution": {
     "iopub.execute_input": "2023-11-18T16:44:17.584380Z",
     "iopub.status.busy": "2023-11-18T16:44:17.583934Z",
     "iopub.status.idle": "2023-11-18T16:44:17.600541Z",
     "shell.execute_reply": "2023-11-18T16:44:17.599441Z"
    },
    "papermill": {
     "duration": 0.057011,
     "end_time": "2023-11-18T16:44:17.603082",
     "exception": false,
     "start_time": "2023-11-18T16:44:17.546071",
     "status": "completed"
    },
    "tags": []
   },
   "outputs": [
    {
     "data": {
      "text/html": [
       "<div>\n",
       "<style scoped>\n",
       "    .dataframe tbody tr th:only-of-type {\n",
       "        vertical-align: middle;\n",
       "    }\n",
       "\n",
       "    .dataframe tbody tr th {\n",
       "        vertical-align: top;\n",
       "    }\n",
       "\n",
       "    .dataframe thead th {\n",
       "        text-align: right;\n",
       "    }\n",
       "</style>\n",
       "<table border=\"1\" class=\"dataframe\">\n",
       "  <thead>\n",
       "    <tr style=\"text-align: right;\">\n",
       "      <th></th>\n",
       "      <th>Age</th>\n",
       "      <th>Sex</th>\n",
       "      <th>ChestPainType</th>\n",
       "      <th>RestingBP</th>\n",
       "      <th>Cholesterol</th>\n",
       "      <th>FastingBS</th>\n",
       "      <th>RestingECG</th>\n",
       "      <th>MaxHR</th>\n",
       "      <th>ExerciseAngina</th>\n",
       "      <th>Oldpeak</th>\n",
       "      <th>ST_Slope</th>\n",
       "    </tr>\n",
       "  </thead>\n",
       "  <tbody>\n",
       "    <tr>\n",
       "      <th>0</th>\n",
       "      <td>40</td>\n",
       "      <td>0</td>\n",
       "      <td>0</td>\n",
       "      <td>140</td>\n",
       "      <td>289</td>\n",
       "      <td>0</td>\n",
       "      <td>0</td>\n",
       "      <td>172</td>\n",
       "      <td>0</td>\n",
       "      <td>0.0</td>\n",
       "      <td>0</td>\n",
       "    </tr>\n",
       "  </tbody>\n",
       "</table>\n",
       "</div>"
      ],
      "text/plain": [
       "   Age  Sex  ChestPainType  RestingBP  Cholesterol  FastingBS  RestingECG  \\\n",
       "0   40    0              0        140          289          0           0   \n",
       "\n",
       "   MaxHR  ExerciseAngina  Oldpeak  ST_Slope  \n",
       "0    172               0      0.0         0  "
      ]
     },
     "execution_count": 54,
     "metadata": {},
     "output_type": "execute_result"
    }
   ],
   "source": [
    "data={'Age':40,\n",
    "     'Sex':0,\n",
    "     'ChestPainType':0,\n",
    "     'RestingBP':140,\n",
    "     'Cholesterol':289,\n",
    "     'FastingBS':0,\n",
    "     'RestingECG':0,\n",
    "     'MaxHR':172,\n",
    "     'ExerciseAngina':0,\n",
    "     'Oldpeak':0.0,\n",
    "     'ST_Slope':0}\n",
    "df=pd.DataFrame(data,index=[0])\n",
    "df"
   ]
  },
  {
   "cell_type": "code",
   "execution_count": 55,
   "id": "b0695f98",
   "metadata": {
    "execution": {
     "iopub.execute_input": "2023-11-18T16:44:17.678702Z",
     "iopub.status.busy": "2023-11-18T16:44:17.678236Z",
     "iopub.status.idle": "2023-11-18T16:44:17.687041Z",
     "shell.execute_reply": "2023-11-18T16:44:17.685845Z"
    },
    "papermill": {
     "duration": 0.049836,
     "end_time": "2023-11-18T16:44:17.689790",
     "exception": false,
     "start_time": "2023-11-18T16:44:17.639954",
     "status": "completed"
    },
    "tags": []
   },
   "outputs": [
    {
     "name": "stdout",
     "output_type": "stream",
     "text": [
      "[0.08564211]\n"
     ]
    }
   ],
   "source": [
    "new_pred=svm.predict(df)\n",
    "print(new_pred)"
   ]
  },
  {
   "cell_type": "code",
   "execution_count": 56,
   "id": "6941e423",
   "metadata": {
    "execution": {
     "iopub.execute_input": "2023-11-18T16:44:17.765957Z",
     "iopub.status.busy": "2023-11-18T16:44:17.765501Z",
     "iopub.status.idle": "2023-11-18T16:44:17.934947Z",
     "shell.execute_reply": "2023-11-18T16:44:17.933649Z"
    },
    "papermill": {
     "duration": 0.210474,
     "end_time": "2023-11-18T16:44:17.937439",
     "exception": false,
     "start_time": "2023-11-18T16:44:17.726965",
     "status": "completed"
    },
    "tags": []
   },
   "outputs": [
    {
     "data": {
      "text/html": [
       "<style>#sk-container-id-3 {color: black;background-color: white;}#sk-container-id-3 pre{padding: 0;}#sk-container-id-3 div.sk-toggleable {background-color: white;}#sk-container-id-3 label.sk-toggleable__label {cursor: pointer;display: block;width: 100%;margin-bottom: 0;padding: 0.3em;box-sizing: border-box;text-align: center;}#sk-container-id-3 label.sk-toggleable__label-arrow:before {content: \"▸\";float: left;margin-right: 0.25em;color: #696969;}#sk-container-id-3 label.sk-toggleable__label-arrow:hover:before {color: black;}#sk-container-id-3 div.sk-estimator:hover label.sk-toggleable__label-arrow:before {color: black;}#sk-container-id-3 div.sk-toggleable__content {max-height: 0;max-width: 0;overflow: hidden;text-align: left;background-color: #f0f8ff;}#sk-container-id-3 div.sk-toggleable__content pre {margin: 0.2em;color: black;border-radius: 0.25em;background-color: #f0f8ff;}#sk-container-id-3 input.sk-toggleable__control:checked~div.sk-toggleable__content {max-height: 200px;max-width: 100%;overflow: auto;}#sk-container-id-3 input.sk-toggleable__control:checked~label.sk-toggleable__label-arrow:before {content: \"▾\";}#sk-container-id-3 div.sk-estimator input.sk-toggleable__control:checked~label.sk-toggleable__label {background-color: #d4ebff;}#sk-container-id-3 div.sk-label input.sk-toggleable__control:checked~label.sk-toggleable__label {background-color: #d4ebff;}#sk-container-id-3 input.sk-hidden--visually {border: 0;clip: rect(1px 1px 1px 1px);clip: rect(1px, 1px, 1px, 1px);height: 1px;margin: -1px;overflow: hidden;padding: 0;position: absolute;width: 1px;}#sk-container-id-3 div.sk-estimator {font-family: monospace;background-color: #f0f8ff;border: 1px dotted black;border-radius: 0.25em;box-sizing: border-box;margin-bottom: 0.5em;}#sk-container-id-3 div.sk-estimator:hover {background-color: #d4ebff;}#sk-container-id-3 div.sk-parallel-item::after {content: \"\";width: 100%;border-bottom: 1px solid gray;flex-grow: 1;}#sk-container-id-3 div.sk-label:hover label.sk-toggleable__label {background-color: #d4ebff;}#sk-container-id-3 div.sk-serial::before {content: \"\";position: absolute;border-left: 1px solid gray;box-sizing: border-box;top: 0;bottom: 0;left: 50%;z-index: 0;}#sk-container-id-3 div.sk-serial {display: flex;flex-direction: column;align-items: center;background-color: white;padding-right: 0.2em;padding-left: 0.2em;position: relative;}#sk-container-id-3 div.sk-item {position: relative;z-index: 1;}#sk-container-id-3 div.sk-parallel {display: flex;align-items: stretch;justify-content: center;background-color: white;position: relative;}#sk-container-id-3 div.sk-item::before, #sk-container-id-3 div.sk-parallel-item::before {content: \"\";position: absolute;border-left: 1px solid gray;box-sizing: border-box;top: 0;bottom: 0;left: 50%;z-index: -1;}#sk-container-id-3 div.sk-parallel-item {display: flex;flex-direction: column;z-index: 1;position: relative;background-color: white;}#sk-container-id-3 div.sk-parallel-item:first-child::after {align-self: flex-end;width: 50%;}#sk-container-id-3 div.sk-parallel-item:last-child::after {align-self: flex-start;width: 50%;}#sk-container-id-3 div.sk-parallel-item:only-child::after {width: 0;}#sk-container-id-3 div.sk-dashed-wrapped {border: 1px dashed gray;margin: 0 0.4em 0.5em 0.4em;box-sizing: border-box;padding-bottom: 0.4em;background-color: white;}#sk-container-id-3 div.sk-label label {font-family: monospace;font-weight: bold;display: inline-block;line-height: 1.2em;}#sk-container-id-3 div.sk-label-container {text-align: center;}#sk-container-id-3 div.sk-container {/* jupyter's `normalize.less` sets `[hidden] { display: none; }` but bootstrap.min.css set `[hidden] { display: none !important; }` so we also need the `!important` here to be able to override the default hidden behavior on the sphinx rendered scikit-learn.org. See: https://github.com/scikit-learn/scikit-learn/issues/21755 */display: inline-block !important;position: relative;}#sk-container-id-3 div.sk-text-repr-fallback {display: none;}</style><div id=\"sk-container-id-3\" class=\"sk-top-container\"><div class=\"sk-text-repr-fallback\"><pre>GradientBoostingRegressor()</pre><b>In a Jupyter environment, please rerun this cell to show the HTML representation or trust the notebook. <br />On GitHub, the HTML representation is unable to render, please try loading this page with nbviewer.org.</b></div><div class=\"sk-container\" hidden><div class=\"sk-item\"><div class=\"sk-estimator sk-toggleable\"><input class=\"sk-toggleable__control sk-hidden--visually\" id=\"sk-estimator-id-3\" type=\"checkbox\" checked><label for=\"sk-estimator-id-3\" class=\"sk-toggleable__label sk-toggleable__label-arrow\">GradientBoostingRegressor</label><div class=\"sk-toggleable__content\"><pre>GradientBoostingRegressor()</pre></div></div></div></div></div>"
      ],
      "text/plain": [
       "GradientBoostingRegressor()"
      ]
     },
     "execution_count": 56,
     "metadata": {},
     "output_type": "execute_result"
    }
   ],
   "source": [
    "gr=GradientBoostingRegressor()\n",
    "gr.fit(x,y)"
   ]
  },
  {
   "cell_type": "code",
   "execution_count": 57,
   "id": "56b3a967",
   "metadata": {
    "execution": {
     "iopub.execute_input": "2023-11-18T16:44:18.013960Z",
     "iopub.status.busy": "2023-11-18T16:44:18.013523Z",
     "iopub.status.idle": "2023-11-18T16:44:18.018071Z",
     "shell.execute_reply": "2023-11-18T16:44:18.017011Z"
    },
    "papermill": {
     "duration": 0.046147,
     "end_time": "2023-11-18T16:44:18.020299",
     "exception": false,
     "start_time": "2023-11-18T16:44:17.974152",
     "status": "completed"
    },
    "tags": []
   },
   "outputs": [],
   "source": [
    "import joblib"
   ]
  },
  {
   "cell_type": "code",
   "execution_count": 58,
   "id": "8b3df451",
   "metadata": {
    "execution": {
     "iopub.execute_input": "2023-11-18T16:44:18.096244Z",
     "iopub.status.busy": "2023-11-18T16:44:18.095822Z",
     "iopub.status.idle": "2023-11-18T16:44:18.115260Z",
     "shell.execute_reply": "2023-11-18T16:44:18.114263Z"
    },
    "papermill": {
     "duration": 0.060611,
     "end_time": "2023-11-18T16:44:18.117932",
     "exception": false,
     "start_time": "2023-11-18T16:44:18.057321",
     "status": "completed"
    },
    "tags": []
   },
   "outputs": [
    {
     "data": {
      "text/plain": [
       "['model_joblib_gr']"
      ]
     },
     "execution_count": 58,
     "metadata": {},
     "output_type": "execute_result"
    }
   ],
   "source": [
    "joblib.dump(gr,'model_joblib_gr')"
   ]
  },
  {
   "cell_type": "code",
   "execution_count": 59,
   "id": "8375556c",
   "metadata": {
    "execution": {
     "iopub.execute_input": "2023-11-18T16:44:18.194833Z",
     "iopub.status.busy": "2023-11-18T16:44:18.193881Z",
     "iopub.status.idle": "2023-11-18T16:44:18.207316Z",
     "shell.execute_reply": "2023-11-18T16:44:18.205921Z"
    },
    "papermill": {
     "duration": 0.055039,
     "end_time": "2023-11-18T16:44:18.210121",
     "exception": false,
     "start_time": "2023-11-18T16:44:18.155082",
     "status": "completed"
    },
    "tags": []
   },
   "outputs": [],
   "source": [
    "model1=joblib.load('model_joblib_gr')"
   ]
  },
  {
   "cell_type": "code",
   "execution_count": 60,
   "id": "7b4a14e8",
   "metadata": {
    "execution": {
     "iopub.execute_input": "2023-11-18T16:44:18.287627Z",
     "iopub.status.busy": "2023-11-18T16:44:18.286229Z",
     "iopub.status.idle": "2023-11-18T16:44:18.296467Z",
     "shell.execute_reply": "2023-11-18T16:44:18.295348Z"
    },
    "papermill": {
     "duration": 0.051911,
     "end_time": "2023-11-18T16:44:18.299170",
     "exception": false,
     "start_time": "2023-11-18T16:44:18.247259",
     "status": "completed"
    },
    "tags": []
   },
   "outputs": [
    {
     "data": {
      "text/plain": [
       "array([0.07771873])"
      ]
     },
     "execution_count": 60,
     "metadata": {},
     "output_type": "execute_result"
    }
   ],
   "source": [
    "model1.predict(df)"
   ]
  },
  {
   "cell_type": "code",
   "execution_count": 61,
   "id": "1abaef2e",
   "metadata": {
    "execution": {
     "iopub.execute_input": "2023-11-18T16:44:18.377592Z",
     "iopub.status.busy": "2023-11-18T16:44:18.376865Z",
     "iopub.status.idle": "2023-11-18T16:44:18.744100Z",
     "shell.execute_reply": "2023-11-18T16:44:18.742936Z"
    },
    "papermill": {
     "duration": 0.40945,
     "end_time": "2023-11-18T16:44:18.746428",
     "exception": false,
     "start_time": "2023-11-18T16:44:18.336978",
     "status": "completed"
    },
    "tags": []
   },
   "outputs": [
    {
     "data": {
      "text/html": [
       "<style>#sk-container-id-4 {color: black;background-color: white;}#sk-container-id-4 pre{padding: 0;}#sk-container-id-4 div.sk-toggleable {background-color: white;}#sk-container-id-4 label.sk-toggleable__label {cursor: pointer;display: block;width: 100%;margin-bottom: 0;padding: 0.3em;box-sizing: border-box;text-align: center;}#sk-container-id-4 label.sk-toggleable__label-arrow:before {content: \"▸\";float: left;margin-right: 0.25em;color: #696969;}#sk-container-id-4 label.sk-toggleable__label-arrow:hover:before {color: black;}#sk-container-id-4 div.sk-estimator:hover label.sk-toggleable__label-arrow:before {color: black;}#sk-container-id-4 div.sk-toggleable__content {max-height: 0;max-width: 0;overflow: hidden;text-align: left;background-color: #f0f8ff;}#sk-container-id-4 div.sk-toggleable__content pre {margin: 0.2em;color: black;border-radius: 0.25em;background-color: #f0f8ff;}#sk-container-id-4 input.sk-toggleable__control:checked~div.sk-toggleable__content {max-height: 200px;max-width: 100%;overflow: auto;}#sk-container-id-4 input.sk-toggleable__control:checked~label.sk-toggleable__label-arrow:before {content: \"▾\";}#sk-container-id-4 div.sk-estimator input.sk-toggleable__control:checked~label.sk-toggleable__label {background-color: #d4ebff;}#sk-container-id-4 div.sk-label input.sk-toggleable__control:checked~label.sk-toggleable__label {background-color: #d4ebff;}#sk-container-id-4 input.sk-hidden--visually {border: 0;clip: rect(1px 1px 1px 1px);clip: rect(1px, 1px, 1px, 1px);height: 1px;margin: -1px;overflow: hidden;padding: 0;position: absolute;width: 1px;}#sk-container-id-4 div.sk-estimator {font-family: monospace;background-color: #f0f8ff;border: 1px dotted black;border-radius: 0.25em;box-sizing: border-box;margin-bottom: 0.5em;}#sk-container-id-4 div.sk-estimator:hover {background-color: #d4ebff;}#sk-container-id-4 div.sk-parallel-item::after {content: \"\";width: 100%;border-bottom: 1px solid gray;flex-grow: 1;}#sk-container-id-4 div.sk-label:hover label.sk-toggleable__label {background-color: #d4ebff;}#sk-container-id-4 div.sk-serial::before {content: \"\";position: absolute;border-left: 1px solid gray;box-sizing: border-box;top: 0;bottom: 0;left: 50%;z-index: 0;}#sk-container-id-4 div.sk-serial {display: flex;flex-direction: column;align-items: center;background-color: white;padding-right: 0.2em;padding-left: 0.2em;position: relative;}#sk-container-id-4 div.sk-item {position: relative;z-index: 1;}#sk-container-id-4 div.sk-parallel {display: flex;align-items: stretch;justify-content: center;background-color: white;position: relative;}#sk-container-id-4 div.sk-item::before, #sk-container-id-4 div.sk-parallel-item::before {content: \"\";position: absolute;border-left: 1px solid gray;box-sizing: border-box;top: 0;bottom: 0;left: 50%;z-index: -1;}#sk-container-id-4 div.sk-parallel-item {display: flex;flex-direction: column;z-index: 1;position: relative;background-color: white;}#sk-container-id-4 div.sk-parallel-item:first-child::after {align-self: flex-end;width: 50%;}#sk-container-id-4 div.sk-parallel-item:last-child::after {align-self: flex-start;width: 50%;}#sk-container-id-4 div.sk-parallel-item:only-child::after {width: 0;}#sk-container-id-4 div.sk-dashed-wrapped {border: 1px dashed gray;margin: 0 0.4em 0.5em 0.4em;box-sizing: border-box;padding-bottom: 0.4em;background-color: white;}#sk-container-id-4 div.sk-label label {font-family: monospace;font-weight: bold;display: inline-block;line-height: 1.2em;}#sk-container-id-4 div.sk-label-container {text-align: center;}#sk-container-id-4 div.sk-container {/* jupyter's `normalize.less` sets `[hidden] { display: none; }` but bootstrap.min.css set `[hidden] { display: none !important; }` so we also need the `!important` here to be able to override the default hidden behavior on the sphinx rendered scikit-learn.org. See: https://github.com/scikit-learn/scikit-learn/issues/21755 */display: inline-block !important;position: relative;}#sk-container-id-4 div.sk-text-repr-fallback {display: none;}</style><div id=\"sk-container-id-4\" class=\"sk-top-container\"><div class=\"sk-text-repr-fallback\"><pre>RandomForestRegressor()</pre><b>In a Jupyter environment, please rerun this cell to show the HTML representation or trust the notebook. <br />On GitHub, the HTML representation is unable to render, please try loading this page with nbviewer.org.</b></div><div class=\"sk-container\" hidden><div class=\"sk-item\"><div class=\"sk-estimator sk-toggleable\"><input class=\"sk-toggleable__control sk-hidden--visually\" id=\"sk-estimator-id-4\" type=\"checkbox\" checked><label for=\"sk-estimator-id-4\" class=\"sk-toggleable__label sk-toggleable__label-arrow\">RandomForestRegressor</label><div class=\"sk-toggleable__content\"><pre>RandomForestRegressor()</pre></div></div></div></div></div>"
      ],
      "text/plain": [
       "RandomForestRegressor()"
      ]
     },
     "execution_count": 61,
     "metadata": {},
     "output_type": "execute_result"
    }
   ],
   "source": [
    "rf=RandomForestRegressor()\n",
    "rf.fit(x,y)"
   ]
  },
  {
   "cell_type": "code",
   "execution_count": 62,
   "id": "e7569e72",
   "metadata": {
    "execution": {
     "iopub.execute_input": "2023-11-18T16:44:18.823462Z",
     "iopub.status.busy": "2023-11-18T16:44:18.823025Z",
     "iopub.status.idle": "2023-11-18T16:44:18.893516Z",
     "shell.execute_reply": "2023-11-18T16:44:18.892227Z"
    },
    "papermill": {
     "duration": 0.112341,
     "end_time": "2023-11-18T16:44:18.896105",
     "exception": false,
     "start_time": "2023-11-18T16:44:18.783764",
     "status": "completed"
    },
    "tags": []
   },
   "outputs": [
    {
     "data": {
      "text/plain": [
       "['model_joblib_rf']"
      ]
     },
     "execution_count": 62,
     "metadata": {},
     "output_type": "execute_result"
    }
   ],
   "source": [
    "joblib.dump(rf,'model_joblib_rf')"
   ]
  },
  {
   "cell_type": "code",
   "execution_count": 63,
   "id": "efbb1b61",
   "metadata": {
    "execution": {
     "iopub.execute_input": "2023-11-18T16:44:18.974723Z",
     "iopub.status.busy": "2023-11-18T16:44:18.973788Z",
     "iopub.status.idle": "2023-11-18T16:44:19.024861Z",
     "shell.execute_reply": "2023-11-18T16:44:19.023451Z"
    },
    "papermill": {
     "duration": 0.095332,
     "end_time": "2023-11-18T16:44:19.029116",
     "exception": false,
     "start_time": "2023-11-18T16:44:18.933784",
     "status": "completed"
    },
    "tags": []
   },
   "outputs": [],
   "source": [
    "model2=joblib.load('model_joblib_rf')"
   ]
  },
  {
   "cell_type": "code",
   "execution_count": 64,
   "id": "64abe9e2",
   "metadata": {
    "execution": {
     "iopub.execute_input": "2023-11-18T16:44:19.108801Z",
     "iopub.status.busy": "2023-11-18T16:44:19.107481Z",
     "iopub.status.idle": "2023-11-18T16:44:19.122936Z",
     "shell.execute_reply": "2023-11-18T16:44:19.121921Z"
    },
    "papermill": {
     "duration": 0.057342,
     "end_time": "2023-11-18T16:44:19.125339",
     "exception": false,
     "start_time": "2023-11-18T16:44:19.067997",
     "status": "completed"
    },
    "tags": []
   },
   "outputs": [
    {
     "data": {
      "text/plain": [
       "array([0.])"
      ]
     },
     "execution_count": 64,
     "metadata": {},
     "output_type": "execute_result"
    }
   ],
   "source": [
    "model2.predict(df)"
   ]
  },
  {
   "cell_type": "code",
   "execution_count": 65,
   "id": "c33af119",
   "metadata": {
    "execution": {
     "iopub.execute_input": "2023-11-18T16:44:19.221994Z",
     "iopub.status.busy": "2023-11-18T16:44:19.220837Z",
     "iopub.status.idle": "2023-11-18T16:44:19.273146Z",
     "shell.execute_reply": "2023-11-18T16:44:19.271976Z"
    },
    "papermill": {
     "duration": 0.105798,
     "end_time": "2023-11-18T16:44:19.275497",
     "exception": false,
     "start_time": "2023-11-18T16:44:19.169699",
     "status": "completed"
    },
    "tags": []
   },
   "outputs": [
    {
     "data": {
      "text/html": [
       "<style>#sk-container-id-5 {color: black;background-color: white;}#sk-container-id-5 pre{padding: 0;}#sk-container-id-5 div.sk-toggleable {background-color: white;}#sk-container-id-5 label.sk-toggleable__label {cursor: pointer;display: block;width: 100%;margin-bottom: 0;padding: 0.3em;box-sizing: border-box;text-align: center;}#sk-container-id-5 label.sk-toggleable__label-arrow:before {content: \"▸\";float: left;margin-right: 0.25em;color: #696969;}#sk-container-id-5 label.sk-toggleable__label-arrow:hover:before {color: black;}#sk-container-id-5 div.sk-estimator:hover label.sk-toggleable__label-arrow:before {color: black;}#sk-container-id-5 div.sk-toggleable__content {max-height: 0;max-width: 0;overflow: hidden;text-align: left;background-color: #f0f8ff;}#sk-container-id-5 div.sk-toggleable__content pre {margin: 0.2em;color: black;border-radius: 0.25em;background-color: #f0f8ff;}#sk-container-id-5 input.sk-toggleable__control:checked~div.sk-toggleable__content {max-height: 200px;max-width: 100%;overflow: auto;}#sk-container-id-5 input.sk-toggleable__control:checked~label.sk-toggleable__label-arrow:before {content: \"▾\";}#sk-container-id-5 div.sk-estimator input.sk-toggleable__control:checked~label.sk-toggleable__label {background-color: #d4ebff;}#sk-container-id-5 div.sk-label input.sk-toggleable__control:checked~label.sk-toggleable__label {background-color: #d4ebff;}#sk-container-id-5 input.sk-hidden--visually {border: 0;clip: rect(1px 1px 1px 1px);clip: rect(1px, 1px, 1px, 1px);height: 1px;margin: -1px;overflow: hidden;padding: 0;position: absolute;width: 1px;}#sk-container-id-5 div.sk-estimator {font-family: monospace;background-color: #f0f8ff;border: 1px dotted black;border-radius: 0.25em;box-sizing: border-box;margin-bottom: 0.5em;}#sk-container-id-5 div.sk-estimator:hover {background-color: #d4ebff;}#sk-container-id-5 div.sk-parallel-item::after {content: \"\";width: 100%;border-bottom: 1px solid gray;flex-grow: 1;}#sk-container-id-5 div.sk-label:hover label.sk-toggleable__label {background-color: #d4ebff;}#sk-container-id-5 div.sk-serial::before {content: \"\";position: absolute;border-left: 1px solid gray;box-sizing: border-box;top: 0;bottom: 0;left: 50%;z-index: 0;}#sk-container-id-5 div.sk-serial {display: flex;flex-direction: column;align-items: center;background-color: white;padding-right: 0.2em;padding-left: 0.2em;position: relative;}#sk-container-id-5 div.sk-item {position: relative;z-index: 1;}#sk-container-id-5 div.sk-parallel {display: flex;align-items: stretch;justify-content: center;background-color: white;position: relative;}#sk-container-id-5 div.sk-item::before, #sk-container-id-5 div.sk-parallel-item::before {content: \"\";position: absolute;border-left: 1px solid gray;box-sizing: border-box;top: 0;bottom: 0;left: 50%;z-index: -1;}#sk-container-id-5 div.sk-parallel-item {display: flex;flex-direction: column;z-index: 1;position: relative;background-color: white;}#sk-container-id-5 div.sk-parallel-item:first-child::after {align-self: flex-end;width: 50%;}#sk-container-id-5 div.sk-parallel-item:last-child::after {align-self: flex-start;width: 50%;}#sk-container-id-5 div.sk-parallel-item:only-child::after {width: 0;}#sk-container-id-5 div.sk-dashed-wrapped {border: 1px dashed gray;margin: 0 0.4em 0.5em 0.4em;box-sizing: border-box;padding-bottom: 0.4em;background-color: white;}#sk-container-id-5 div.sk-label label {font-family: monospace;font-weight: bold;display: inline-block;line-height: 1.2em;}#sk-container-id-5 div.sk-label-container {text-align: center;}#sk-container-id-5 div.sk-container {/* jupyter's `normalize.less` sets `[hidden] { display: none; }` but bootstrap.min.css set `[hidden] { display: none !important; }` so we also need the `!important` here to be able to override the default hidden behavior on the sphinx rendered scikit-learn.org. See: https://github.com/scikit-learn/scikit-learn/issues/21755 */display: inline-block !important;position: relative;}#sk-container-id-5 div.sk-text-repr-fallback {display: none;}</style><div id=\"sk-container-id-5\" class=\"sk-top-container\"><div class=\"sk-text-repr-fallback\"><pre>SVR()</pre><b>In a Jupyter environment, please rerun this cell to show the HTML representation or trust the notebook. <br />On GitHub, the HTML representation is unable to render, please try loading this page with nbviewer.org.</b></div><div class=\"sk-container\" hidden><div class=\"sk-item\"><div class=\"sk-estimator sk-toggleable\"><input class=\"sk-toggleable__control sk-hidden--visually\" id=\"sk-estimator-id-5\" type=\"checkbox\" checked><label for=\"sk-estimator-id-5\" class=\"sk-toggleable__label sk-toggleable__label-arrow\">SVR</label><div class=\"sk-toggleable__content\"><pre>SVR()</pre></div></div></div></div></div>"
      ],
      "text/plain": [
       "SVR()"
      ]
     },
     "execution_count": 65,
     "metadata": {},
     "output_type": "execute_result"
    }
   ],
   "source": [
    "svm= SVR()\n",
    "svm.fit(x,y)"
   ]
  },
  {
   "cell_type": "code",
   "execution_count": 66,
   "id": "85a582d4",
   "metadata": {
    "execution": {
     "iopub.execute_input": "2023-11-18T16:44:19.354913Z",
     "iopub.status.busy": "2023-11-18T16:44:19.354216Z",
     "iopub.status.idle": "2023-11-18T16:44:19.364183Z",
     "shell.execute_reply": "2023-11-18T16:44:19.363110Z"
    },
    "papermill": {
     "duration": 0.051729,
     "end_time": "2023-11-18T16:44:19.366478",
     "exception": false,
     "start_time": "2023-11-18T16:44:19.314749",
     "status": "completed"
    },
    "tags": []
   },
   "outputs": [
    {
     "data": {
      "text/plain": [
       "['model_joblib_svm']"
      ]
     },
     "execution_count": 66,
     "metadata": {},
     "output_type": "execute_result"
    }
   ],
   "source": [
    "joblib.dump(svm,'model_joblib_svm')"
   ]
  },
  {
   "cell_type": "code",
   "execution_count": 67,
   "id": "11aec7af",
   "metadata": {
    "execution": {
     "iopub.execute_input": "2023-11-18T16:44:19.445179Z",
     "iopub.status.busy": "2023-11-18T16:44:19.444472Z",
     "iopub.status.idle": "2023-11-18T16:44:19.451237Z",
     "shell.execute_reply": "2023-11-18T16:44:19.450282Z"
    },
    "papermill": {
     "duration": 0.049146,
     "end_time": "2023-11-18T16:44:19.453822",
     "exception": false,
     "start_time": "2023-11-18T16:44:19.404676",
     "status": "completed"
    },
    "tags": []
   },
   "outputs": [],
   "source": [
    "model3=joblib.load('model_joblib_svm')"
   ]
  },
  {
   "cell_type": "code",
   "execution_count": 68,
   "id": "b60dbca5",
   "metadata": {
    "execution": {
     "iopub.execute_input": "2023-11-18T16:44:19.534508Z",
     "iopub.status.busy": "2023-11-18T16:44:19.533855Z",
     "iopub.status.idle": "2023-11-18T16:44:19.543075Z",
     "shell.execute_reply": "2023-11-18T16:44:19.541886Z"
    },
    "papermill": {
     "duration": 0.051079,
     "end_time": "2023-11-18T16:44:19.545242",
     "exception": false,
     "start_time": "2023-11-18T16:44:19.494163",
     "status": "completed"
    },
    "tags": []
   },
   "outputs": [
    {
     "data": {
      "text/plain": [
       "array([0.09220859])"
      ]
     },
     "execution_count": 68,
     "metadata": {},
     "output_type": "execute_result"
    }
   ],
   "source": [
    "model3.predict(df)"
   ]
  }
 ],
 "metadata": {
  "kaggle": {
   "accelerator": "none",
   "dataSources": [
    {
     "datasetId": 1582403,
     "sourceId": 2603715,
     "sourceType": "datasetVersion"
    }
   ],
   "dockerImageVersionId": 30587,
   "isGpuEnabled": false,
   "isInternetEnabled": true,
   "language": "python",
   "sourceType": "notebook"
  },
  "kernelspec": {
   "display_name": "Python 3",
   "language": "python",
   "name": "python3"
  },
  "language_info": {
   "codemirror_mode": {
    "name": "ipython",
    "version": 3
   },
   "file_extension": ".py",
   "mimetype": "text/x-python",
   "name": "python",
   "nbconvert_exporter": "python",
   "pygments_lexer": "ipython3",
   "version": "3.10.12"
  },
  "papermill": {
   "default_parameters": {},
   "duration": 19.830213,
   "end_time": "2023-11-18T16:44:20.305302",
   "environment_variables": {},
   "exception": null,
   "input_path": "__notebook__.ipynb",
   "output_path": "__notebook__.ipynb",
   "parameters": {},
   "start_time": "2023-11-18T16:44:00.475089",
   "version": "2.4.0"
  }
 },
 "nbformat": 4,
 "nbformat_minor": 5
}
